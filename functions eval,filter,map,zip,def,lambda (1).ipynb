{
 "cells": [
  {
   "cell_type": "code",
   "execution_count": 1,
   "id": "95ebadc4",
   "metadata": {},
   "outputs": [],
   "source": [
    "#function\n",
    "#1)inbuit function:\n",
    "   #eval()\n",
    "    #filtr()\n",
    "    #map()\n",
    "    #zip()\n",
    "    \n",
    "#2)user define function:\n",
    "     #def\n",
    "#3) anonumous function\n",
    "\n"
   ]
  },
  {
   "cell_type": "code",
   "execution_count": 1,
   "id": "d2d5ca37",
   "metadata": {},
   "outputs": [
    {
     "data": {
      "text/plain": [
       "11"
      ]
     },
     "execution_count": 1,
     "metadata": {},
     "output_type": "execute_result"
    }
   ],
   "source": [
    "#1) inbuit:eval()\n",
    "\n",
    "#ex:\n",
    "eval('3*2+5')"
   ]
  },
  {
   "cell_type": "code",
   "execution_count": 7,
   "id": "1e0da95b",
   "metadata": {},
   "outputs": [
    {
     "name": "stdout",
     "output_type": "stream",
     "text": [
      "the filtered letters are:\n",
      "e\n",
      "e\n"
     ]
    }
   ],
   "source": [
    "# filter()\n",
    "\n",
    "#ex:\n",
    "def fun(variable):\n",
    "    letters=['a','e','i','o','u']\n",
    "    if(variable in letters):\n",
    "        return True\n",
    "    else:\n",
    "        return False\n",
    "sequence=['g','e','e','j','k','s','p']\n",
    "filterd=filter(fun,sequence)\n",
    "\n",
    "print('the filtered letters are:')\n",
    "for s in filterd:\n",
    "    print(s)\n",
    "       \n",
    "\n"
   ]
  },
  {
   "cell_type": "code",
   "execution_count": 1,
   "id": "3a01642d",
   "metadata": {},
   "outputs": [
    {
     "name": "stdout",
     "output_type": "stream",
     "text": [
      "[2, 4, 6, 8]\n"
     ]
    }
   ],
   "source": [
    "#  map()\n",
    "#ex\n",
    "\n",
    "def addition(n):\n",
    "    return n+n\n",
    "\n",
    "numbers=(1,2,3,4)\n",
    "result=map(addition,numbers)\n",
    "print(list(result))"
   ]
  },
  {
   "cell_type": "code",
   "execution_count": 11,
   "id": "e5f9a975",
   "metadata": {},
   "outputs": [
    {
     "name": "stdout",
     "output_type": "stream",
     "text": [
      "{('smit', 4), ('parth', 1), ('harsh', 3)}\n"
     ]
    }
   ],
   "source": [
    "# zip()\n",
    "\n",
    "name=[\"smit\",\"parth\",\"harsh\"]\n",
    "roll_no=[4,1,3]\n",
    "\n",
    "\n",
    "mapped = zip(name,roll_no)\n",
    "print(set(mapped))"
   ]
  },
  {
   "cell_type": "code",
   "execution_count": 5,
   "id": "e36f8b1b",
   "metadata": {},
   "outputs": [
    {
     "name": "stdout",
     "output_type": "stream",
     "text": [
      "Addition:65\n"
     ]
    }
   ],
   "source": [
    "#2)ueser-defined function:\n",
    "\n",
    "#def\n",
    "\n",
    "#def(function_name):\n",
    "         #function bodf\n",
    "    \n",
    "    \n",
    "#ex: simple fucntion,\n",
    " \n",
    "def Addition():\n",
    "    a=55\n",
    "    b=10\n",
    "    c=a+b\n",
    "    print(f'Addition:{c}')\n",
    "    \n",
    "\n",
    "Addition()  \n",
    "\n",
    " "
   ]
  },
  {
   "cell_type": "code",
   "execution_count": 6,
   "id": "d488f22d",
   "metadata": {},
   "outputs": [
    {
     "name": "stdout",
     "output_type": "stream",
     "text": [
      "enter a first number65\n",
      "enter a secont number55\n",
      "subtecting:10\n"
     ]
    }
   ],
   "source": [
    "#task\n",
    "#write a function in python for subtracting two integer numbers.\n",
    "\n",
    "def subtecting():\n",
    "    a=int(input('enter a first number'))\n",
    "    b=int(input('enter a secont number'))\n",
    "    c=a-b\n",
    "    print(f'subtecting:{c}')\n",
    "    \n",
    "subtecting()\n",
    "    \n"
   ]
  },
  {
   "cell_type": "code",
   "execution_count": 7,
   "id": "95c29570",
   "metadata": {},
   "outputs": [
    {
     "name": "stdout",
     "output_type": "stream",
     "text": [
      "smit bhanderi\n",
      "smit bhanderi\n",
      "smit bhanderi\n"
     ]
    }
   ],
   "source": [
    "#simple  fucntion:\n",
    "\n",
    "\n",
    "def simplefucntion():\n",
    "    print(\"smit bhanderi\")\n",
    "\n",
    "simplefucntion()\n",
    "simplefucntion()\n",
    "simplefucntion()\n",
    "\n"
   ]
  },
  {
   "cell_type": "code",
   "execution_count": 12,
   "id": "7d5cdb86",
   "metadata": {},
   "outputs": [
    {
     "name": "stdout",
     "output_type": "stream",
     "text": [
      "30\n"
     ]
    }
   ],
   "source": [
    "def sumdata(a,b):\n",
    "    print(a+b)\n",
    "\n",
    "n=10\n",
    "n1=20\n",
    "\n",
    "sumdata(n,n1)"
   ]
  },
  {
   "cell_type": "code",
   "execution_count": 13,
   "id": "a353f13d",
   "metadata": {},
   "outputs": [
    {
     "name": "stdout",
     "output_type": "stream",
     "text": [
      "25\n"
     ]
    }
   ],
   "source": [
    "def sumdata(a,b=5):\n",
    "    print(a+b)\n",
    "\n",
    "\n",
    "sumdata(20 )"
   ]
  },
  {
   "cell_type": "code",
   "execution_count": 16,
   "id": "46d7cf01",
   "metadata": {},
   "outputs": [
    {
     "data": {
      "text/plain": [
       "50"
      ]
     },
     "execution_count": 16,
     "metadata": {},
     "output_type": "execute_result"
    }
   ],
   "source": [
    "def sum (a,b):\n",
    "    c=a+b\n",
    "    return c\n",
    "\n",
    "sum(20,10)\n",
    "sum(40,10)\n"
   ]
  },
  {
   "cell_type": "code",
   "execution_count": 17,
   "id": "eb6494ad",
   "metadata": {},
   "outputs": [
    {
     "data": {
      "text/plain": [
       "25"
      ]
     },
     "execution_count": 17,
     "metadata": {},
     "output_type": "execute_result"
    }
   ],
   "source": [
    "def sum (a,b=5):\n",
    "    c=a+b\n",
    "    return c\n",
    "\n",
    "sum(20)"
   ]
  },
  {
   "cell_type": "code",
   "execution_count": 18,
   "id": "5ea48df4",
   "metadata": {},
   "outputs": [
    {
     "name": "stdout",
     "output_type": "stream",
     "text": [
      "25\n"
     ]
    }
   ],
   "source": [
    "def  square(x):\n",
    "    return x*x\n",
    "s=square(5)\n",
    "print(s)"
   ]
  },
  {
   "cell_type": "code",
   "execution_count": 19,
   "id": "09bd47ee",
   "metadata": {},
   "outputs": [
    {
     "name": "stdout",
     "output_type": "stream",
     "text": [
      "(25, 10)\n"
     ]
    }
   ],
   "source": [
    "def  square(x):\n",
    "    return x*x,x*2\n",
    "s=square(5)\n",
    "print(s)"
   ]
  },
  {
   "cell_type": "code",
   "execution_count": 26,
   "id": "540125e6",
   "metadata": {},
   "outputs": [
    {
     "name": "stdout",
     "output_type": "stream",
     "text": [
      "54\n"
     ]
    }
   ],
   "source": [
    "#return types: actual perameters:\n",
    "\n",
    " \n",
    "def Addition(a,b):\n",
    "    c=a+b\n",
    "    return c    \n",
    "\n",
    "ad=Addition(44,10)  \n",
    "print(ad)\n",
    " \n"
   ]
  },
  {
   "cell_type": "code",
   "execution_count": 27,
   "id": "f582e751",
   "metadata": {},
   "outputs": [
    {
     "name": "stdout",
     "output_type": "stream",
     "text": [
      "4000.0\n"
     ]
    }
   ],
   "source": [
    "#c.w\n",
    "#write a function in python to caculete simple intrest.\n",
    "\n",
    "\n",
    "def inter(p,r,t):\n",
    "    d=p*r*t/100\n",
    "    return d\n",
    "    \n",
    "ie=inter(100000,4,1)\n",
    "print(ie)"
   ]
  },
  {
   "cell_type": "code",
   "execution_count": 47,
   "id": "1158bc27",
   "metadata": {},
   "outputs": [
    {
     "data": {
      "text/plain": [
       "120"
      ]
     },
     "execution_count": 47,
     "metadata": {},
     "output_type": "execute_result"
    }
   ],
   "source": [
    "#write a fu nction in python to caluculete and return the factorialof a given number.\n",
    "\n",
    "\n",
    "\n",
    "def factorial(n):\n",
    "    fact=1\n",
    "    for i in range(1,n +1):\n",
    "        fact=fact*i\n",
    "    return fact\n",
    "\n",
    "\n",
    "f=factorial(5)\n",
    "f"
   ]
  },
  {
   "cell_type": "code",
   "execution_count": 29,
   "id": "fd987d88",
   "metadata": {},
   "outputs": [
    {
     "name": "stdout",
     "output_type": "stream",
     "text": [
      "30\n"
     ]
    }
   ],
   "source": [
    "\n",
    "i=20  #global\n",
    "def addition():\n",
    "    global i\n",
    "    i=30  #local\n",
    "    print=(i)\n",
    "    \n",
    "    \n",
    "addition()\n",
    "print(i)"
   ]
  },
  {
   "cell_type": "code",
   "execution_count": 16,
   "id": "8b77f16f",
   "metadata": {
    "scrolled": true
   },
   "outputs": [
    {
     "name": "stdout",
     "output_type": "stream",
     "text": [
      "6\n"
     ]
    }
   ],
   "source": [
    "#ex Write a Python function to find the Max of three numbers. \n",
    "\n",
    "def max_num( a, b):\n",
    "    if a > b:\n",
    "        return a\n",
    "    return b\n",
    "def max_num2( a, b, c):\n",
    "     return max_num( a,max_num( b,c ) )\n",
    "print(max_num2( 3, 6, -5))"
   ]
  },
  {
   "cell_type": "code",
   "execution_count": 21,
   "id": "bc95dd76",
   "metadata": {},
   "outputs": [
    {
     "name": "stdout",
     "output_type": "stream",
     "text": [
      "20\n"
     ]
    }
   ],
   "source": [
    "#Write a Python function to sum all the numbers in a list.\n",
    "\n",
    "def sum(numbers):\n",
    "    total =0\n",
    "    for i in numbers:\n",
    "        total+=i\n",
    "    return total\n",
    "print(sum((2,4,5,0,9)))"
   ]
  },
  {
   "cell_type": "code",
   "execution_count": 25,
   "id": "f6581181",
   "metadata": {},
   "outputs": [
    {
     "name": "stdout",
     "output_type": "stream",
     "text": [
      "120\n"
     ]
    }
   ],
   "source": [
    "#Write a Python function to multiply all the numbers in a list.\n",
    "\n",
    "def multiply(numbers):\n",
    "    total=1\n",
    "    for i in numbers:\n",
    "        total*=i\n",
    "    return total\n",
    "\n",
    "print(multiply((2,3,4,5)))"
   ]
  },
  {
   "cell_type": "code",
   "execution_count": 31,
   "id": "d52911b1",
   "metadata": {},
   "outputs": [
    {
     "name": "stdout",
     "output_type": "stream",
     "text": [
      "15\n"
     ]
    }
   ],
   "source": [
    "#3)anunumius function:  (def \"lambda\"):\n",
    "\n",
    "a=lambda x,y:x+10+y\n",
    "\n",
    "print(a(2,3))\n",
    "\n"
   ]
  },
  {
   "cell_type": "code",
   "execution_count": 4,
   "id": "4e4d73a2",
   "metadata": {},
   "outputs": [
    {
     "name": "stdout",
     "output_type": "stream",
     "text": [
      "7\n"
     ]
    }
   ],
   "source": [
    "#example:\n",
    "\n",
    "a=lambda x,y:x+y\n",
    "\n",
    "print(a(2,5))\n"
   ]
  },
  {
   "cell_type": "code",
   "execution_count": null,
   "id": "9ea67c7c",
   "metadata": {},
   "outputs": [],
   "source": []
  }
 ],
 "metadata": {
  "kernelspec": {
   "display_name": "Python 3 (ipykernel)",
   "language": "python",
   "name": "python3"
  },
  "language_info": {
   "codemirror_mode": {
    "name": "ipython",
    "version": 3
   },
   "file_extension": ".py",
   "mimetype": "text/x-python",
   "name": "python",
   "nbconvert_exporter": "python",
   "pygments_lexer": "ipython3",
   "version": "3.9.12"
  }
 },
 "nbformat": 4,
 "nbformat_minor": 5
}
