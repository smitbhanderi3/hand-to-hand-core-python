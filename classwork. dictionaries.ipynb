{
 "cells": [
  {
   "cell_type": "code",
   "execution_count": null,
   "id": "cd5637ca",
   "metadata": {},
   "outputs": [],
   "source": [
    "#21/jul\n",
    "#dictionry     d[=dict(),d={}]\n",
    "#key     value\n",
    "#\"name\": \"rinkle\",1;3\n",
    "\n",
    "\n",
    "    \n",
    "\n",
    "    \n",
    "    \n"
   ]
  },
  {
   "cell_type": "code",
   "execution_count": 1,
   "id": "ff53c38e",
   "metadata": {},
   "outputs": [
    {
     "data": {
      "text/plain": [
       "{1: 3, 'name': 'smit', 'abc': '55.5'}"
      ]
     },
     "execution_count": 1,
     "metadata": {},
     "output_type": "execute_result"
    }
   ],
   "source": [
    "d={1:3,'name':'smit','abc':'55.5'}\n",
    "d"
   ]
  },
  {
   "cell_type": "code",
   "execution_count": 2,
   "id": "72044c2a",
   "metadata": {},
   "outputs": [
    {
     "data": {
      "text/plain": [
       "3"
      ]
     },
     "execution_count": 2,
     "metadata": {},
     "output_type": "execute_result"
    }
   ],
   "source": [
    "#ex:\n",
    "d={1:3,'name':'smit','abc':'55.5'}\n",
    "\n",
    "d[1]"
   ]
  },
  {
   "cell_type": "code",
   "execution_count": 3,
   "id": "878480dc",
   "metadata": {},
   "outputs": [
    {
     "data": {
      "text/plain": [
       "'smit'"
      ]
     },
     "execution_count": 3,
     "metadata": {},
     "output_type": "execute_result"
    }
   ],
   "source": [
    "#find name:\n",
    "d={1:3,'name':'smit','abc':'55.5'}\n",
    "d['name']"
   ]
  },
  {
   "cell_type": "code",
   "execution_count": 4,
   "id": "142a4782",
   "metadata": {},
   "outputs": [
    {
     "data": {
      "text/plain": [
       "'55.5'"
      ]
     },
     "execution_count": 4,
     "metadata": {},
     "output_type": "execute_result"
    }
   ],
   "source": [
    "#\n",
    "d={1:3,'name':'smit','abc':'55.5'}\n",
    "d.get('abc')"
   ]
  },
  {
   "cell_type": "code",
   "execution_count": 5,
   "id": "97db4a99",
   "metadata": {},
   "outputs": [
    {
     "data": {
      "text/plain": [
       "'empty'"
      ]
     },
     "execution_count": 5,
     "metadata": {},
     "output_type": "execute_result"
    }
   ],
   "source": [
    "d={1:3,'name':'smit','abc':'55.5'}\n",
    "d.get('a','empty')"
   ]
  },
  {
   "cell_type": "code",
   "execution_count": 6,
   "id": "41c58ea0",
   "metadata": {},
   "outputs": [
    {
     "data": {
      "text/plain": [
       "{1: 3, 'name': 'smit', 'abc': '55.5', 2: 77}"
      ]
     },
     "execution_count": 6,
     "metadata": {},
     "output_type": "execute_result"
    }
   ],
   "source": [
    "#update:\n",
    "d={1:3,'name':'smit','abc':'55.5'}\n",
    "d.update({2:77})\n",
    "d\n"
   ]
  },
  {
   "cell_type": "code",
   "execution_count": 10,
   "id": "177facc3",
   "metadata": {},
   "outputs": [
    {
     "data": {
      "text/plain": [
       "{1: 3, 'name': 'smit', 'abc': '55.5', 2: 7}"
      ]
     },
     "execution_count": 10,
     "metadata": {},
     "output_type": "execute_result"
    }
   ],
   "source": [
    "#2)\n",
    "d={1:3,'name':'smit','abc':'55.5'}\n",
    "d.update({2:7})\n",
    "d"
   ]
  },
  {
   "cell_type": "code",
   "execution_count": 11,
   "id": "4b7a81e9",
   "metadata": {},
   "outputs": [
    {
     "data": {
      "text/plain": [
       "{1: 3, 'name': 'smit'}"
      ]
     },
     "execution_count": 11,
     "metadata": {},
     "output_type": "execute_result"
    }
   ],
   "source": [
    "#.pop    (key /value delete) \n",
    "d={1:3,'name':'smit','abc':'55.5'}\n",
    "d.pop('abc')\n",
    "d"
   ]
  },
  {
   "cell_type": "code",
   "execution_count": 11,
   "id": "ed6ddd31",
   "metadata": {},
   "outputs": [
    {
     "data": {
      "text/plain": [
       "{1: 3, 'name': 'smit', 'abc': '55.5'}"
      ]
     },
     "execution_count": 11,
     "metadata": {},
     "output_type": "execute_result"
    }
   ],
   "source": [
    "#.popitem (last key and value remove)\n",
    "d={1:3,'name':'smit','abc':'55.5',2:55}\n",
    "d.popitem()\n",
    "d"
   ]
  },
  {
   "cell_type": "code",
   "execution_count": 13,
   "id": "6f07469b",
   "metadata": {},
   "outputs": [
    {
     "data": {
      "text/plain": [
       "{}"
      ]
     },
     "execution_count": 13,
     "metadata": {},
     "output_type": "execute_result"
    }
   ],
   "source": [
    "#.clear   (all key and valyu are remove)\n",
    "d={1:3,'name':'smit','abc':'55.5'}\n",
    "d.clear()\n",
    "d"
   ]
  },
  {
   "cell_type": "code",
   "execution_count": 1,
   "id": "f1d0bd15",
   "metadata": {},
   "outputs": [
    {
     "data": {
      "text/plain": [
       "[1, 'name', 'abc']"
      ]
     },
     "execution_count": 1,
     "metadata": {},
     "output_type": "execute_result"
    }
   ],
   "source": [
    "#.key  \n",
    "d={1:3,'name':'smit','abc':'55.5'}\n",
    "list(d.keys())\n",
    "\n"
   ]
  },
  {
   "cell_type": "code",
   "execution_count": 15,
   "id": "1e6b040d",
   "metadata": {},
   "outputs": [
    {
     "data": {
      "text/plain": [
       "[3, 'smit', '55.5']"
      ]
     },
     "execution_count": 15,
     "metadata": {},
     "output_type": "execute_result"
    }
   ],
   "source": [
    "#d.values\n",
    "d={1:3,'name':'smit','abc':'55.5'}\n",
    "list(d.values())"
   ]
  },
  {
   "cell_type": "code",
   "execution_count": 16,
   "id": "ae78641a",
   "metadata": {},
   "outputs": [
    {
     "data": {
      "text/plain": [
       "dict_items([(1, 3), ('name', 'smit'), ('abc', '55.5')])"
      ]
     },
     "execution_count": 16,
     "metadata": {},
     "output_type": "execute_result"
    }
   ],
   "source": [
    "#d.iterms\n",
    "d={1:3,'name':'smit','abc':'55.5'}\n",
    "d.items()"
   ]
  },
  {
   "cell_type": "code",
   "execution_count": 17,
   "id": "507de2a1",
   "metadata": {},
   "outputs": [
    {
     "name": "stdout",
     "output_type": "stream",
     "text": [
      "1:3\n",
      "name:smit\n",
      "abc:55.5\n"
     ]
    }
   ],
   "source": [
    "#ex\n",
    "d={1:3,'name':'smit','abc':'55.5'}\n",
    "\n",
    "for k,v in d.items():\n",
    "    print(f'{k}:{v}')"
   ]
  },
  {
   "cell_type": "code",
   "execution_count": 18,
   "id": "c766a93e",
   "metadata": {},
   "outputs": [
    {
     "name": "stdout",
     "output_type": "stream",
     "text": [
      "1 3\n",
      "name smit\n",
      "abc 55.5\n"
     ]
    }
   ],
   "source": [
    "#ex2\n",
    "d={1:3,'name':'smit','abc':'55.5'}\n",
    "\n",
    "for k,v in d.items():\n",
    "    print(k,v)"
   ]
  },
  {
   "cell_type": "code",
   "execution_count": 5,
   "id": "08158810",
   "metadata": {},
   "outputs": [
    {
     "data": {
      "text/plain": [
       "{1: 2, 66: 3, 77: 4, 'name': 'smit', 'abc': '55.5'}"
      ]
     },
     "execution_count": 5,
     "metadata": {},
     "output_type": "execute_result"
    }
   ],
   "source": [
    "#class work example\n",
    "#write a pythin program concinate two given dictionry in onne dictonary.\n",
    "\n",
    "d1={1:2,66:3,77:4,}\n",
    "d2={'name':'smit','abc':'55.5'}\n",
    "\n",
    "d1.update(d2)\n",
    "d1"
   ]
  },
  {
   "cell_type": "code",
   "execution_count": 4,
   "id": "b24e9880",
   "metadata": {},
   "outputs": [
    {
     "name": "stdout",
     "output_type": "stream",
     "text": [
      "2 3\n",
      "5 99\n"
     ]
    }
   ],
   "source": [
    "#example 2\n",
    "#Write a Python script to print a dictionary where the keys are numbers between 1 and 15.\n",
    "\n",
    "\n",
    "d={2:3,5:99}\n",
    " \n",
    "for k ,v in d.items():\n",
    "    if k>=1 and k<=15:\n",
    "        print(k,v)\n",
    "\n",
    "\n",
    "\n"
   ]
  },
  {
   "cell_type": "code",
   "execution_count": 3,
   "id": "1acc479b",
   "metadata": {},
   "outputs": [
    {
     "name": "stdout",
     "output_type": "stream",
     "text": [
      "False\n"
     ]
    }
   ],
   "source": [
    "#example3\n",
    "#write a [ython progeam to chack the presence of a key in a distionry.]\n",
    "\n",
    "\n",
    "\n",
    "d={1:3,'name':'smit','abc':'55.5'}\n",
    "key=2\n",
    "if key in d.keys():\n",
    "    print(True)\n",
    "else:\n",
    "    print(False)\n"
   ]
  },
  {
   "cell_type": "code",
   "execution_count": 2,
   "id": "d27b1120",
   "metadata": {},
   "outputs": [
    {
     "name": "stdout",
     "output_type": "stream",
     "text": [
      "{12: 12, 'python': 'java'}\n",
      "{'python': 12, 'java': 11, 'php': 32}\n"
     ]
    }
   ],
   "source": [
    "#task. Write a Python program to map two lists into a dictionary.\n",
    "list1=[(12,12),('python','java')]\n",
    "print(dict(list1))\n",
    "a=[12,11,32]\n",
    "d=['python','java','php']\n",
    "dict1=dict(zip(d,a))\n",
    "print(dict1)\n",
    "\n",
    "\n",
    "\n"
   ]
  },
  {
   "cell_type": "code",
   "execution_count": null,
   "id": "1a905eec",
   "metadata": {},
   "outputs": [],
   "source": []
  }
 ],
 "metadata": {
  "kernelspec": {
   "display_name": "Python 3 (ipykernel)",
   "language": "python",
   "name": "python3"
  },
  "language_info": {
   "codemirror_mode": {
    "name": "ipython",
    "version": 3
   },
   "file_extension": ".py",
   "mimetype": "text/x-python",
   "name": "python",
   "nbconvert_exporter": "python",
   "pygments_lexer": "ipython3",
   "version": "3.9.12"
  }
 },
 "nbformat": 4,
 "nbformat_minor": 5
}
