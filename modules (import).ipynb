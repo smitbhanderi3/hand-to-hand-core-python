{
 "cells": [
  {
   "cell_type": "code",
   "execution_count": 2,
   "id": "b8e448b1",
   "metadata": {},
   "outputs": [
    {
     "data": {
      "text/plain": [
       "0.8939966636005579"
      ]
     },
     "execution_count": 2,
     "metadata": {},
     "output_type": "execute_result"
    }
   ],
   "source": [
    "#modlues:  ('import math') math,rendom,\n",
    "\n",
    "\n",
    "\n",
    "#exmple:\n",
    "import math\n",
    "\n",
    "math.pi\n",
    "math.tausin(90)\n"
   ]
  },
  {
   "cell_type": "code",
   "execution_count": 3,
   "id": "3e1c27fb",
   "metadata": {},
   "outputs": [
    {
     "data": {
      "text/plain": [
       "120"
      ]
     },
     "execution_count": 3,
     "metadata": {},
     "output_type": "execute_result"
    }
   ],
   "source": [
    "#exmple:\n",
    "import math\n",
    "math.factorial(5)"
   ]
  },
  {
   "cell_type": "code",
   "execution_count": 1,
   "id": "eb9ca50f",
   "metadata": {},
   "outputs": [
    {
     "data": {
      "text/plain": [
       "720"
      ]
     },
     "execution_count": 1,
     "metadata": {},
     "output_type": "execute_result"
    }
   ],
   "source": [
    "# math as short m:\n",
    "\n",
    "import math as m\n",
    "m.factorial(6)"
   ]
  },
  {
   "cell_type": "code",
   "execution_count": 7,
   "id": "76e91884",
   "metadata": {},
   "outputs": [
    {
     "data": {
      "text/plain": [
       "120"
      ]
     },
     "execution_count": 7,
     "metadata": {},
     "output_type": "execute_result"
    }
   ],
   "source": [
    "from math import factorial\n",
    "factorial(5)\n"
   ]
  },
  {
   "cell_type": "code",
   "execution_count": 8,
   "id": "071e807c",
   "metadata": {},
   "outputs": [
    {
     "data": {
      "text/plain": [
       "120"
      ]
     },
     "execution_count": 8,
     "metadata": {},
     "output_type": "execute_result"
    }
   ],
   "source": [
    "from math import factorial as fact\n",
    "fact(5)\n"
   ]
  },
  {
   "cell_type": "code",
   "execution_count": 11,
   "id": "746435d2",
   "metadata": {},
   "outputs": [
    {
     "data": {
      "text/plain": [
       "6727"
      ]
     },
     "execution_count": 11,
     "metadata": {},
     "output_type": "execute_result"
    }
   ],
   "source": [
    "#rendom modules:\n",
    "#example\n",
    "import random as r\n",
    "r.choice(range(1000,9999))"
   ]
  },
  {
   "cell_type": "code",
   "execution_count": 16,
   "id": "19e93b2b",
   "metadata": {},
   "outputs": [
    {
     "data": {
      "text/plain": [
       "7"
      ]
     },
     "execution_count": 16,
     "metadata": {},
     "output_type": "execute_result"
    }
   ],
   "source": [
    "#example:\n",
    "import random as r\n",
    "l=[2,7,9,5]\n",
    "r.choice(l)"
   ]
  },
  {
   "cell_type": "code",
   "execution_count": null,
   "id": "a63bf5bd",
   "metadata": {},
   "outputs": [],
   "source": []
  }
 ],
 "metadata": {
  "kernelspec": {
   "display_name": "Python 3 (ipykernel)",
   "language": "python",
   "name": "python3"
  },
  "language_info": {
   "codemirror_mode": {
    "name": "ipython",
    "version": 3
   },
   "file_extension": ".py",
   "mimetype": "text/x-python",
   "name": "python",
   "nbconvert_exporter": "python",
   "pygments_lexer": "ipython3",
   "version": "3.9.12"
  }
 },
 "nbformat": 4,
 "nbformat_minor": 5
}
