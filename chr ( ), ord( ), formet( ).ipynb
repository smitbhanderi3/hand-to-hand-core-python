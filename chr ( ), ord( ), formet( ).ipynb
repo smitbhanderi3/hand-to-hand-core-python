{
 "cells": [
  {
   "cell_type": "code",
   "execution_count": 3,
   "id": "39333640",
   "metadata": {},
   "outputs": [
    {
     "name": "stdout",
     "output_type": "stream",
     "text": [
      "C\n"
     ]
    }
   ],
   "source": [
    "#chr: 65 to start\n",
    "\n",
    "a=67\n",
    "print(chr(a))"
   ]
  },
  {
   "cell_type": "code",
   "execution_count": 10,
   "id": "f21cb4ec",
   "metadata": {},
   "outputs": [
    {
     "name": "stdout",
     "output_type": "stream",
     "text": [
      "122\n"
     ]
    }
   ],
   "source": [
    "#ord: A to Z start 65 to 90, a to z 91 to 122\n",
    "\n",
    "\n",
    "h=\"z\"\n",
    "print(ord(h))"
   ]
  },
  {
   "cell_type": "code",
   "execution_count": null,
   "id": "1c8c0b78",
   "metadata": {},
   "outputs": [],
   "source": [
    "#formet:\n",
    "\n",
    "\n"
   ]
  }
 ],
 "metadata": {
  "kernelspec": {
   "display_name": "Python 3 (ipykernel)",
   "language": "python",
   "name": "python3"
  },
  "language_info": {
   "codemirror_mode": {
    "name": "ipython",
    "version": 3
   },
   "file_extension": ".py",
   "mimetype": "text/x-python",
   "name": "python",
   "nbconvert_exporter": "python",
   "pygments_lexer": "ipython3",
   "version": "3.9.12"
  }
 },
 "nbformat": 4,
 "nbformat_minor": 5
}
