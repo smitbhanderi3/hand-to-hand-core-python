{
 "cells": [
  {
   "cell_type": "code",
   "execution_count": 14,
   "id": "c7960bec",
   "metadata": {},
   "outputs": [
    {
     "name": "stdout",
     "output_type": "stream",
     "text": [
      "child class instannce method\n",
      "smit class innstance method\n",
      "smit class class method: 100000\n",
      "smit static method: 10\n"
     ]
    }
   ],
   "source": [
    "\n",
    "#method single inheritence:\n",
    "\n",
    "  #   [A]    [B]\n",
    "\n",
    "class Smit():\n",
    "    money=100000\n",
    "    \n",
    "    def show(self):\n",
    "        print(\"smit class innstance method\")\n",
    "        \n",
    "    @classmethod\n",
    "    def showmoney(cls):\n",
    "        print(\"smit class class method:\" , cls.money)\n",
    "       \n",
    "    @staticmethod\n",
    "    def stat():\n",
    "        a=10\n",
    "        print(\"smit static method:\" , a)\n",
    "        \n",
    "class Son(Smit):\n",
    "    def disp(self):\n",
    "        print(\"child class instannce method\")\n",
    "    \n",
    "s = Son()\n",
    "s.disp()\n",
    "s.show()\n",
    "s.showmoney()\n",
    "s.stat()\n",
    "\n",
    "\n"
   ]
  },
  {
   "cell_type": "code",
   "execution_count": 8,
   "id": "c2eac839",
   "metadata": {},
   "outputs": [
    {
     "name": "stdout",
     "output_type": "stream",
     "text": [
      "C class method\n",
      "A class method \n",
      "B class method\n"
     ]
    }
   ],
   "source": [
    "# multileval inheritance: (method) \n",
    "#     [A]     [B]     [C]\n",
    "    \n",
    "    \n",
    "    \n",
    "class A:\n",
    "    def showA(self):\n",
    "        print(\"A class method \")\n",
    "class B(A):\n",
    "    def showB(self):\n",
    "        print(\"B class method\")\n",
    "        \n",
    "class C(B):\n",
    "    def showC(self):\n",
    "        print(\"C class method\")\n",
    "        \n",
    "g = C()\n",
    "g.showC()\n",
    "g.showA()\n",
    "g.showB()\n"
   ]
  },
  {
   "cell_type": "code",
   "execution_count": 4,
   "id": "c8334c4f",
   "metadata": {},
   "outputs": [
    {
     "name": "stdout",
     "output_type": "stream",
     "text": [
      "B Class constuctor\n",
      "C Class constuctor\n"
     ]
    }
   ],
   "source": [
    "# multileval inheritence: (constuctor)\n",
    "\n",
    "class A:\n",
    "    def __init__(self):\n",
    "        print(\"A Class constuctor\" )\n",
    "        \n",
    "class B(A):\n",
    "    def __init__(self):\n",
    "        print(\"B Class constuctor\" )\n",
    "              \n",
    "class C(B):\n",
    "    def __init__(self):\n",
    "        super().__init__()\n",
    "        print(\"C Class constuctor\") \n",
    "\n",
    " \n",
    "obj=C()\n",
    "\n",
    "    \n",
    "\n",
    "\n"
   ]
  },
  {
   "cell_type": "code",
   "execution_count": 5,
   "id": "c65700e0",
   "metadata": {},
   "outputs": [
    {
     "name": "stdout",
     "output_type": "stream",
     "text": [
      "Son Class Method\n"
     ]
    }
   ],
   "source": [
    "#multiple innheritence:\n",
    "#        [A]     [B]\n",
    " #           [C]\n",
    "    \n",
    "    \n",
    "    \n",
    "class Father:\n",
    "    def showF(self):\n",
    "        print(\"Father Class Method\" )\n",
    "        \n",
    "class Mother:\n",
    "    def showM(self):\n",
    "        print (\"Mother Class Method\")\n",
    "\n",
    "class Son(Father, Mother):\n",
    "    def showS(self):\n",
    "        super()\n",
    "        print (\"Son Class Method\")\n",
    " \n",
    "    \n",
    "s = Son()\n",
    "s.showS()\n",
    "\n",
    "\n",
    "               \n",
    "\n"
   ]
  },
  {
   "cell_type": "code",
   "execution_count": null,
   "id": "c12a77ed",
   "metadata": {},
   "outputs": [],
   "source": []
  }
 ],
 "metadata": {
  "kernelspec": {
   "display_name": "Python 3 (ipykernel)",
   "language": "python",
   "name": "python3"
  },
  "language_info": {
   "codemirror_mode": {
    "name": "ipython",
    "version": 3
   },
   "file_extension": ".py",
   "mimetype": "text/x-python",
   "name": "python",
   "nbconvert_exporter": "python",
   "pygments_lexer": "ipython3",
   "version": "3.9.12"
  }
 },
 "nbformat": 4,
 "nbformat_minor": 5
}
