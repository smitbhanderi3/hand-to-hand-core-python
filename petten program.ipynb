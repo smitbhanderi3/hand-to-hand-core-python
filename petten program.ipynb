{
 "cells": [
  {
   "cell_type": "code",
   "execution_count": 13,
   "id": "fab96aa5",
   "metadata": {},
   "outputs": [
    {
     "ename": "IndentationError",
     "evalue": "unindent does not match any outer indentation level (<tokenize>, line 15)",
     "output_type": "error",
     "traceback": [
      "\u001b[1;36m  File \u001b[1;32m<tokenize>:15\u001b[1;36m\u001b[0m\n\u001b[1;33m    i=i+1\u001b[0m\n\u001b[1;37m    ^\u001b[0m\n\u001b[1;31mIndentationError\u001b[0m\u001b[1;31m:\u001b[0m unindent does not match any outer indentation level\n"
     ]
    }
   ],
   "source": [
    "# piramid program.\n",
    "# *              (while loop)\n",
    "# * *\n",
    "# * * *\n",
    "# * * * *\n",
    "# * * * * *\n",
    "\n",
    "i=1\n",
    "while i<=5:\n",
    "      j=1\n",
    "         while j<=i:\n",
    "            print('*', end=' ')\n",
    "            i=j+1\n",
    "            print()\n",
    "        i=i+1\n"
   ]
  },
  {
   "cell_type": "code",
   "execution_count": 4,
   "id": "bec4f7c4",
   "metadata": {},
   "outputs": [
    {
     "name": "stdout",
     "output_type": "stream",
     "text": [
      "* \n",
      "* * \n",
      "* * * \n",
      "* * * * \n",
      "* * * * * \n",
      "* * * * * \n",
      "* * * * \n",
      "* * * \n",
      "* * \n",
      "* \n"
     ]
    }
   ],
   "source": [
    "# *         (fot rang)\n",
    "# * *\n",
    "# * * *\n",
    "# * * * *\n",
    "# * * * * *\n",
    "\n",
    "\n",
    "for i in range(1,6):\n",
    "    for j in range (1,i+1):\n",
    "        print('*',end=' ')\n",
    "    print()\n",
    "    \n",
    "for i in range(5,0,-1):\n",
    "    for j in range(1,i+1):\n",
    "        print('*',end=' ')\n",
    "    print()"
   ]
  },
  {
   "cell_type": "code",
   "execution_count": null,
   "id": "879ad9f3",
   "metadata": {},
   "outputs": [],
   "source": [
    "#revesrs piramid\n",
    "# * * * * *\n",
    "# * * * * \n",
    "# * * * \n",
    "# * * \n",
    "# *\n",
    "for i in range(5,0,-1):\n",
    "    for j in range(1,i+1):\n",
    "        print('*',end=' ')\n",
    "    print()\n",
    "        \n",
    "    "
   ]
  },
  {
   "cell_type": "code",
   "execution_count": 16,
   "id": "e43b38a4",
   "metadata": {},
   "outputs": [
    {
     "name": "stdout",
     "output_type": "stream",
     "text": [
      "    *  \n",
      "   **  \n",
      "  ***  \n",
      " ****  \n",
      "*****  \n"
     ]
    }
   ],
   "source": [
    "#         *\n",
    "#       * *\n",
    "#     * * *\n",
    "#   * * * *(\n",
    "# * * * * * \n",
    "\n",
    "for i in range(1,6):\n",
    "    for k in range(1,6-i):\n",
    "        print(\" \",end=\"\")\n",
    "    for j in range(1,i+1):\n",
    "            print('*',end='')\n",
    "    print(\"  \")\n",
    "        "
   ]
  },
  {
   "cell_type": "code",
   "execution_count": null,
   "id": "e464a41a",
   "metadata": {},
   "outputs": [],
   "source": [
    "# * * * * *\n",
    "# * * * *\n",
    "# * * *\n",
    "# * *\n",
    "# *\n",
    "\n",
    "for i  in range(5,0,-1):\n",
    "    for k in range(1,5-i):\n",
    "        print(\"\",end=\"\")\n",
    "    for j in range(1,i+1):\n",
    "        print('*',end=' ')\n",
    "    print()"
   ]
  },
  {
   "cell_type": "code",
   "execution_count": null,
   "id": "8d054a81",
   "metadata": {},
   "outputs": [],
   "source": [
    "# * * * * *\n",
    "#   * * * *\n",
    "#     * * *\n",
    "#       * *\n",
    "#         *\n",
    "\n",
    "for i  in range(5,0,-1):\n",
    "    for k in range(1,6-i):\n",
    "        print(\"\",end=\" \")\n",
    "    for j in range(1,i+1):\n",
    "        print('*',end='')\n",
    "    print( )"
   ]
  },
  {
   "cell_type": "code",
   "execution_count": 1,
   "id": "07b0bd80",
   "metadata": {},
   "outputs": [
    {
     "name": "stdout",
     "output_type": "stream",
     "text": [
      "    1\n",
      "   111\n",
      "  11111\n",
      " 1111111\n",
      "111111111\n"
     ]
    }
   ],
   "source": [
    "#     *\n",
    "#    ***\n",
    "#   *****\n",
    "#  *******\n",
    "# *********\n",
    "\n",
    "\n",
    "for i  in range(1,6):\n",
    "    for k in range(1,6-i):\n",
    "        print(\" \",end=\"\")\n",
    "    for j in range(1,(2*i-1)+1):\n",
    "        print('1',end=\"\")\n",
    "    print()"
   ]
  },
  {
   "cell_type": "code",
   "execution_count": 4,
   "id": "8d8ba3b3",
   "metadata": {},
   "outputs": [
    {
     "name": "stdout",
     "output_type": "stream",
     "text": [
      "*********\n",
      " *******\n",
      "  *****\n",
      "   ***\n",
      "    *\n"
     ]
    }
   ],
   "source": [
    "# *********\n",
    "#  *******\n",
    "#   *****\n",
    "#    ***\n",
    "#     *\n",
    "\n",
    "for i  in range(5,0,-1):\n",
    "    for k in range(1,6-i):\n",
    "        print(\" \",end=\"\")\n",
    "    for j in range(1,(2*i-1)+1):\n",
    "        print('*',end=\"\")\n",
    "    print()\n",
    "\n"
   ]
  },
  {
   "cell_type": "code",
   "execution_count": 6,
   "id": "20f64639",
   "metadata": {},
   "outputs": [
    {
     "name": "stdout",
     "output_type": "stream",
     "text": [
      "enter the number of rows needed:5\n",
      "1 \n",
      "1 2 \n",
      "1 2 3 \n",
      "1 2 3 4 \n",
      "1 2 3 4 5 \n"
     ]
    }
   ],
   "source": [
    "# 1\n",
    "# 1 2\n",
    "# 1 2 3\n",
    "# 1 2 3 4\n",
    "# 1 2 3 4 5\n",
    "\n",
    "n=int(input(\"enter the number of rows needed:\"))\n",
    "for i in range(n):\n",
    "    for j in range(i+1):\n",
    "        print(j+1,end=\" \")\n",
    "    print()"
   ]
  },
  {
   "cell_type": "code",
   "execution_count": 7,
   "id": "3bd6fdab",
   "metadata": {},
   "outputs": [
    {
     "name": "stdout",
     "output_type": "stream",
     "text": [
      "enter the number of rows needed:5\n",
      "1 \n",
      "2 1 \n",
      "3 2 1 \n",
      "4 3 2 1 \n",
      "5 4 3 2 1 \n"
     ]
    }
   ],
   "source": [
    "# 1\n",
    "# 2 1\n",
    "# 3 2 1\n",
    "# 4 3 2 1\n",
    "# 5 4 3 2 1\n",
    "\n",
    "n=int(input(\"enter the number of rows needed:\"))\n",
    "for i in range(n):\n",
    "    for j in range(i,-1,-1):\n",
    "        print(j+1,end=\" \")\n",
    "    print()"
   ]
  },
  {
   "cell_type": "code",
   "execution_count": 8,
   "id": "ef0766eb",
   "metadata": {},
   "outputs": [
    {
     "name": "stdout",
     "output_type": "stream",
     "text": [
      "enter the number of rows needed:5\n",
      "1 \n",
      "2 2 \n",
      "3 3 3 \n",
      "4 4 4 4 \n",
      "5 5 5 5 5 \n"
     ]
    }
   ],
   "source": [
    "# 1\n",
    "# 2 2\n",
    "# 3 3 3\n",
    "# 4 4 4 4\n",
    "# 5 5 5 5 5 \n",
    "\n",
    "n=int(input(\"enter the number of rows needed:\"))\n",
    "for i in range(n):\n",
    "    for j in range(i,-1,-1):\n",
    "        print(i+1,end=\" \")\n",
    "    print()\n"
   ]
  },
  {
   "cell_type": "code",
   "execution_count": 14,
   "id": "2aba5113",
   "metadata": {
    "scrolled": true
   },
   "outputs": [
    {
     "name": "stdout",
     "output_type": "stream",
     "text": [
      "enter the number of rows needed:5\n",
      "5 \n",
      "4 4 \n",
      "3 3 3 \n",
      "2 2 2 2 \n",
      "1 1 1 1 1 \n"
     ]
    }
   ],
   "source": [
    "# 5 \n",
    "# 4 4 \n",
    "# 3 3 3 \n",
    "# 2 2 2 2 \n",
    "# 1 1 1 1 1 \n",
    "\n",
    "n=int(input(\"enter the number of rows needed:\"))\n",
    "for i in range(n):\n",
    "    for j in range(i+1):\n",
    "        print(n-i,end=\" \")\n",
    "    print()"
   ]
  },
  {
   "cell_type": "code",
   "execution_count": 15,
   "id": "ca925117",
   "metadata": {},
   "outputs": [
    {
     "name": "stdout",
     "output_type": "stream",
     "text": [
      "enter the number of rows needed:5\n",
      "5 \n",
      "5 4 \n",
      "5 4 3 \n",
      "5 4 3 2 \n",
      "5 4 3 2 1 \n"
     ]
    }
   ],
   "source": [
    "# 5 \n",
    "# 5 4\n",
    "# 5 4 3\n",
    "# 5 4 3 2\n",
    "# 5 4 3 2 1\n",
    "\n",
    "\n",
    "n=int(input(\"enter the number of rows needed:\"))\n",
    "for i in range(n):\n",
    "    for j in range(i+1):\n",
    "        print(n-j,end=\" \")\n",
    "    print()\n",
    "\n"
   ]
  },
  {
   "cell_type": "code",
   "execution_count": 121,
   "id": "c4f6e163",
   "metadata": {
    "scrolled": true
   },
   "outputs": [
    {
     "name": "stdout",
     "output_type": "stream",
     "text": [
      "  *   *   *   *   \n",
      "*       *       * \n",
      "*                *  \n",
      "*      LOVE     * \n",
      "  *           *   \n",
      "    *       *     \n",
      "      *   *       \n",
      "        *         \n"
     ]
    }
   ],
   "source": [
    "n = 8; m = n+1\n",
    "for i in range(n//2-1):\n",
    "    for j in range(m):\n",
    "        if i == n//2-2 and (j == 0 or j == m-1):\n",
    "            print(\"*\",end=\"  \")\n",
    "        elif j <= m//2 and ((i+j == n//2-3 and j < m//4) or (j-i == m//2-n//2+3 and j >= m//4)):\n",
    "            print(\"*\",end=\" \")\n",
    "        elif j > m//2 and ((i+j == n//2-3+m//2 and j <= 3*m//4) or (j-i == m//2-n//2+3+m//2 and j >= 3*m//4)):\n",
    "            print(\"*\",end=\" \")\n",
    "        else:\n",
    "            print(\" \",end=\" \")\n",
    "    print()\n",
    "for i in range(n//2-1,n):\n",
    "    for j in range (m):\n",
    "        if(i-j == n//2-1) or (i+j == n-1+m//2):\n",
    "            print('*',end=\" \")\n",
    "        elif i == n//2-1:\n",
    "            if j == m//2-1 or j == m//2+1:\n",
    "                print(\"\",end=\" \")\n",
    "            elif j == m//2:\n",
    "                print(\"LOVE\",end=\"\")\n",
    "            else:\n",
    "                print(\" \",end=\" \")\n",
    "        else:\n",
    "            print(\" \",end=\" \")\n",
    "            \n",
    "    print()"
   ]
  },
  {
   "cell_type": "code",
   "execution_count": 70,
   "id": "f6fd3d13",
   "metadata": {},
   "outputs": [],
   "source": [
    "a=10"
   ]
  },
  {
   "cell_type": "code",
   "execution_count": 71,
   "id": "ec226e9d",
   "metadata": {},
   "outputs": [
    {
     "data": {
      "text/plain": [
       "10"
      ]
     },
     "execution_count": 71,
     "metadata": {},
     "output_type": "execute_result"
    }
   ],
   "source": [
    "a"
   ]
  },
  {
   "cell_type": "code",
   "execution_count": 10,
   "id": "65207c23",
   "metadata": {},
   "outputs": [
    {
     "name": "stdout",
     "output_type": "stream",
     "text": [
      "                                                            \n",
      "                                                            \n",
      "                                                            \n",
      "            +-+-+-+-+-+               +-+-+-+-+-+           \n",
      "        -+-+-+-+-+-+-+-+-+-+     +-+-+-+-+-+-+-+-+-+-       \n",
      "     -+-+-+-+-+-+-+-+-+-+-+-+-+-+-+-+-+-+-+-+-+-+-+-+-+-    \n",
      "    -+-+-+-+-+-+-+-+-+-+-+-+-+-+-+-+-+-+-+-+-+-+-+-+-+-+-   \n",
      "   -+-+-+-+-+-+-+-+-+-+-+-+-+-+-+-+-+-+-+-+-+-+-+-+-+-+-+-  \n",
      "  -+-+-+-+-+-+-+-+-+-+-+-+-+-+-+-+-+-+-+-+-+-+-+-+-+-+-+-+- \n",
      "  +-+-+-+-+-+-+-+-+-+-+-+-+-+-+-+-+-+-+-+-+-+-+-+-+-+-+-+-+ \n",
      "  -+-+-+-+-+-+-+-+-+-+-+-+-+-+-+-+-+-+-+-+-+-+-+-+-+-+-+-+- \n",
      "  +-+-+-+-+-+-+-+-+-+-+-+-+-+-+-+-+-+-+-+-+-+-+-+-+-+-+-+-+ \n",
      "   +-+-+-+-+-+-+-+-+-+-+-+-+-+-+-+-+-+-+-+-+-+-+-+-+-+-+-+  \n",
      "   -+-+-+-+-+-+-+-+-+-+-+-+-+-+-+-+-+-+-+-+-+-+-+-+-+-+-+-  \n",
      "    -+-+-+-+-+-+-+-+-+-+-+-+-+-+-+-+-+-+-+-+-+-+-+-+-+-+-   \n",
      "     -+-+-+-+-+-+-+-+-+-+-+-+-+-+-+-+-+-+-+-+-+-+-+-+-+-    \n",
      "       +-+-+-+-+-+-+-+-+-+-+-+-+-+-+-+-+-+-+-+-+-+-+-+      \n",
      "        +-+-+-+-+-+-+-+-+-+-+-+-+-+-+-+-+-+-+-+-+-+-+       \n",
      "          -+-+-+-+-+-+-+-+-+-+-+-+-+-+-+-+-+-+-+-+-         \n",
      "            +-+-+-+-+-+-+-+-+-+-+-+-+-+-+-+-+-+-+           \n",
      "               +-+-+-+-+-+-+-+-+-+-+-+-+-+-+-+              \n",
      "                  +-+-+-+-+-+-+-+-+-+-+-+-+                 \n",
      "                     +-+-+-+-+-+-+-+-+-+                    \n",
      "                         -+-+-+-+-+-                        \n",
      "                            -+-+-                           \n",
      "                              +                             \n",
      "                                                            \n",
      "                                                            \n",
      "                                                            \n",
      "                                                            \n"
     ]
    }
   ],
   "source": [
    "heart = \"\\n\".join([''.join([('+-+-'[(x-y) % 4] if ((x*0.04)**2 + (y*0.1)**2 - 1)**3 - (x*0.04)**2 * (y*0.1)**3 <= 0 else ' ') for x in range(-30, 30)]) for y in range(15, -15, -1)])\n",
    "print(heart)\n"
   ]
  },
  {
   "cell_type": "code",
   "execution_count": 7,
   "id": "53ead947",
   "metadata": {},
   "outputs": [
    {
     "name": "stdout",
     "output_type": "stream",
     "text": [
      "       banana       \n"
     ]
    }
   ],
   "source": []
  },
  {
   "cell_type": "code",
   "execution_count": 13,
   "id": "f7bfd88d",
   "metadata": {},
   "outputs": [
    {
     "name": "stdout",
     "output_type": "stream",
     "text": [
      "enter a number10\n"
     ]
    },
    {
     "ename": "TypeError",
     "evalue": "can only concatenate str (not \"int\") to str",
     "output_type": "error",
     "traceback": [
      "\u001b[1;31m---------------------------------------------------------------------------\u001b[0m",
      "\u001b[1;31mTypeError\u001b[0m                                 Traceback (most recent call last)",
      "Input \u001b[1;32mIn [13]\u001b[0m, in \u001b[0;36m<cell line: 2>\u001b[1;34m()\u001b[0m\n\u001b[0;32m      1\u001b[0m n \u001b[38;5;241m=\u001b[39m \u001b[38;5;28mint\u001b[39m(\u001b[38;5;28minput\u001b[39m(\u001b[38;5;124m\"\u001b[39m\u001b[38;5;124menter a number\u001b[39m\u001b[38;5;124m\"\u001b[39m))\n\u001b[0;32m      2\u001b[0m \u001b[38;5;28;01mfor\u001b[39;00m i \u001b[38;5;129;01min\u001b[39;00m \u001b[38;5;28mrange\u001b[39m(\u001b[38;5;241m0\u001b[39m,n):\n\u001b[1;32m----> 3\u001b[0m     n\u001b[38;5;241m=\u001b[39m\u001b[38;5;124;43m\"\u001b[39;49m\u001b[38;5;124;43m1 \u001b[39;49m\u001b[38;5;124;43m\"\u001b[39;49m\u001b[38;5;241;43m*\u001b[39;49m\u001b[43mn\u001b[49m\u001b[38;5;241;43m+\u001b[39;49m\u001b[43mi\u001b[49m\n\u001b[0;32m      4\u001b[0m     \u001b[38;5;28mprint\u001b[39m(n\u001b[38;5;241m.\u001b[39mcenter(\u001b[38;5;241m20\u001b[39m))\n",
      "\u001b[1;31mTypeError\u001b[0m: can only concatenate str (not \"int\") to str"
     ]
    }
   ],
   "source": []
  },
  {
   "cell_type": "code",
   "execution_count": null,
   "id": "7723f61a",
   "metadata": {},
   "outputs": [],
   "source": []
  },
  {
   "cell_type": "code",
   "execution_count": null,
   "id": "721fe21d",
   "metadata": {},
   "outputs": [],
   "source": []
  }
 ],
 "metadata": {
  "kernelspec": {
   "display_name": "Python 3 (ipykernel)",
   "language": "python",
   "name": "python3"
  },
  "language_info": {
   "codemirror_mode": {
    "name": "ipython",
    "version": 3
   },
   "file_extension": ".py",
   "mimetype": "text/x-python",
   "name": "python",
   "nbconvert_exporter": "python",
   "pygments_lexer": "ipython3",
   "version": "3.9.12"
  }
 },
 "nbformat": 4,
 "nbformat_minor": 5
}
