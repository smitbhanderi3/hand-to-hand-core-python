{
 "cells": [
  {
   "cell_type": "code",
   "execution_count": null,
   "id": "626cae25",
   "metadata": {},
   "outputs": [],
   "source": []
  },
  {
   "cell_type": "code",
   "execution_count": 1,
   "id": "227474b4",
   "metadata": {},
   "outputs": [
    {
     "name": "stdout",
     "output_type": "stream",
     "text": [
      "345\n",
      "smit\n"
     ]
    }
   ],
   "source": [
    "#class\n",
    "\n",
    "#example:\n",
    "#declaration\n",
    "#class//\n",
    "class Employee:\n",
    "    #\n",
    "    id=345\n",
    "    name='smit'\n",
    "\n",
    "#objectnof// class employee\n",
    "e=Employee()\n",
    "print(e.id)\n",
    "print(e.name)"
   ]
  },
  {
   "cell_type": "code",
   "execution_count": 2,
   "id": "25d41f27",
   "metadata": {},
   "outputs": [
    {
     "name": "stdout",
     "output_type": "stream",
     "text": [
      "Enter ID:205\n",
      "Enter Name:smit\n",
      "ID: 205\n",
      "Name: smit\n"
     ]
    }
   ],
   "source": [
    "#example:2\n",
    "#without value srech class:\n",
    "#class//\n",
    "class Employee:\n",
    "    #\n",
    "    id=None  #static  #class attribute\n",
    "    name=None\n",
    "    def getdata(self):\n",
    "        self.id=int(input('Enter ID:'))\n",
    "        self.name=input('Enter Name:')\n",
    "    def showdata(self):\n",
    "        print(f'ID: {self.id}')\n",
    "        print(f'Name: {self.name}')\n",
    "#objectnof// class employee\n",
    "e=Employee()\n",
    "e.getdata()\n",
    "e.showdata()"
   ]
  },
  {
   "cell_type": "code",
   "execution_count": 3,
   "id": "5e907abe",
   "metadata": {},
   "outputs": [],
   "source": [
    "#types of atribuite;\n",
    "#1)static atribuite\n",
    "#2)intance atribuite"
   ]
  },
  {
   "cell_type": "code",
   "execution_count": 1,
   "id": "c43133bf",
   "metadata": {},
   "outputs": [
    {
     "name": "stdout",
     "output_type": "stream",
     "text": [
      "bose\n"
     ]
    }
   ],
   "source": [
    "#2)intance:\n",
    "\n",
    "#example:\n",
    "class Car:\n",
    "    wheel=4 #class atribuite\n",
    "    def soundsystem(self):\n",
    "        self.music='bose'\n",
    "\n",
    "bmw=Car()\n",
    "bmw.soundsystem()\n",
    "print(bmw.music) #instance"
   ]
  },
  {
   "cell_type": "code",
   "execution_count": 1,
   "id": "31b45b89",
   "metadata": {},
   "outputs": [],
   "source": [
    "#types of method:\n",
    "# static method\n",
    "# instance method\n",
    "#class method(not uesd)\n"
   ]
  },
  {
   "cell_type": "code",
   "execution_count": 2,
   "id": "fd5d8933",
   "metadata": {},
   "outputs": [
    {
     "name": "stdout",
     "output_type": "stream",
     "text": [
      "static method\n",
      "Instance Method\n",
      "class method\n"
     ]
    }
   ],
   "source": [
    "class Abc:\n",
    "    @staticmethod\n",
    "    def a():\n",
    "        print('static method')\n",
    "    \n",
    "    def b(self):\n",
    "        print('Instance Method')\n",
    "\n",
    "    @classmethod\n",
    "    def c(Abc):\n",
    "        print('class method')\n",
    "\n",
    "j=Abc()\n",
    "j.a()\n",
    "j.b()\n",
    "j.c()"
   ]
  },
  {
   "cell_type": "code",
   "execution_count": 2,
   "id": "40e5ed9e",
   "metadata": {},
   "outputs": [
    {
     "name": "stdout",
     "output_type": "stream",
     "text": [
      "Smith\n",
      "parth\n"
     ]
    }
   ],
   "source": [
    "#contuctors:// destructor :\n",
    "\n",
    "\n",
    "class Person:\n",
    "    name=None\n",
    "    #constructor\n",
    "    def __init__(self,m): #parameterarzied constuuctor\n",
    "        self.name=m\n",
    "    #destructor\n",
    "    def __del__(self):\n",
    "        print('calling destructor')\n",
    "\n",
    "p=Person('Smith')\n",
    "print(p.name)\n",
    "p2=Person('parth')\n",
    "print(p2.name)\n"
   ]
  },
  {
   "cell_type": "code",
   "execution_count": 1,
   "id": "0e5c2f61",
   "metadata": {},
   "outputs": [
    {
     "name": "stdout",
     "output_type": "stream",
     "text": [
      "Smith\n"
     ]
    }
   ],
   "source": [
    "class Person:\n",
    "    name=None\n",
    "    #constructor\n",
    "    def __init__(self,m): #parameterarzied constuuctor\n",
    "        self.name=m\n",
    "p=Person('Smith')\n",
    "print(p.name)"
   ]
  },
  {
   "cell_type": "code",
   "execution_count": null,
   "id": "609e9143",
   "metadata": {},
   "outputs": [],
   "source": []
  }
 ],
 "metadata": {
  "kernelspec": {
   "display_name": "Python 3 (ipykernel)",
   "language": "python",
   "name": "python3"
  },
  "language_info": {
   "codemirror_mode": {
    "name": "ipython",
    "version": 3
   },
   "file_extension": ".py",
   "mimetype": "text/x-python",
   "name": "python",
   "nbconvert_exporter": "python",
   "pygments_lexer": "ipython3",
   "version": "3.9.12"
  }
 },
 "nbformat": 4,
 "nbformat_minor": 5
}
