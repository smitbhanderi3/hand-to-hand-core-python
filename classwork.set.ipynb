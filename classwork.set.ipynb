{
 "cells": [
  {
   "cell_type": "code",
   "execution_count": 1,
   "id": "37ee9745",
   "metadata": {},
   "outputs": [],
   "source": [
    "#set { }\n",
    "\n",
    "#->"
   ]
  },
  {
   "cell_type": "code",
   "execution_count": 3,
   "id": "a784e054",
   "metadata": {},
   "outputs": [
    {
     "data": {
      "text/plain": [
       "{False, True, 2, 5, 7}"
      ]
     },
     "execution_count": 3,
     "metadata": {},
     "output_type": "execute_result"
    }
   ],
   "source": [
    "s={2,True,False,2,5,7}\n",
    "s\n"
   ]
  },
  {
   "cell_type": "code",
   "execution_count": 4,
   "id": "50714b3e",
   "metadata": {},
   "outputs": [
    {
     "data": {
      "text/plain": [
       "{2, 5, 7, False, True, 'smit'}"
      ]
     },
     "execution_count": 4,
     "metadata": {},
     "output_type": "execute_result"
    }
   ],
   "source": [
    "#add  value in set\n",
    "s={2,True,False,2,5,7}\n",
    "s.add('smit')\n",
    "s"
   ]
  },
  {
   "cell_type": "code",
   "execution_count": 5,
   "id": "73a9577b",
   "metadata": {},
   "outputs": [
    {
     "data": {
      "text/plain": [
       "{False, True, 5, 7}"
      ]
     },
     "execution_count": 5,
     "metadata": {},
     "output_type": "execute_result"
    }
   ],
   "source": [
    "# discaer value in set \n",
    "s={2,True,False,2,5,7}\n",
    "s.discard(2)\n",
    "s\n"
   ]
  },
  {
   "cell_type": "code",
   "execution_count": 1,
   "id": "a8d0741c",
   "metadata": {},
   "outputs": [
    {
     "data": {
      "text/plain": [
       "{False, True, 5, 7}"
      ]
     },
     "execution_count": 1,
     "metadata": {},
     "output_type": "execute_result"
    }
   ],
   "source": [
    "#remove value in set . (set vlue in not nuber to error)\n",
    "s={2,True,False,2,5,7}\n",
    "s.remove(2)\n",
    "s"
   ]
  },
  {
   "cell_type": "code",
   "execution_count": 10,
   "id": "1ae80655",
   "metadata": {},
   "outputs": [
    {
     "data": {
      "text/plain": [
       "{False, True, 2, 3, 5, 7, 43}"
      ]
     },
     "execution_count": 10,
     "metadata": {},
     "output_type": "execute_result"
    }
   ],
   "source": [
    "#update value for set\n",
    "\n",
    "s={2,True,False,2,5,7}\n",
    "s.update([2,3,43])\n",
    "s"
   ]
  },
  {
   "cell_type": "code",
   "execution_count": 12,
   "id": "df6773d5",
   "metadata": {},
   "outputs": [
    {
     "data": {
      "text/plain": [
       "{2, 45, 6, 'parth', 'smit'}"
      ]
     },
     "execution_count": 12,
     "metadata": {},
     "output_type": "execute_result"
    }
   ],
   "source": [
    "#example. \n",
    "\n",
    "#write a program remove a dublicates items form a tuple.\n",
    "\n",
    "name=('smit','parth',2,45,6,2)\n",
    "name1=set(name)\n",
    "name1"
   ]
  },
  {
   "cell_type": "code",
   "execution_count": 15,
   "id": "a01a17b3",
   "metadata": {},
   "outputs": [
    {
     "data": {
      "text/plain": [
       "('apple', 'orenge', [33, 66, 88], 'mango')"
      ]
     },
     "execution_count": 15,
     "metadata": {},
     "output_type": "execute_result"
    }
   ],
   "source": [
    "#ans (tuple)\n",
    "\n",
    "f=('mango','apple','orenge','orenge',[33,66,88],'mango')\n",
    "l=list(f)\n",
    "for i in  l:\n",
    "    if l.count(i)>1:\n",
    "        l.remove(i)\n",
    "        \n",
    "f=tuple(l)\n",
    "f"
   ]
  },
  {
   "cell_type": "code",
   "execution_count": null,
   "id": "457cf169",
   "metadata": {},
   "outputs": [],
   "source": []
  }
 ],
 "metadata": {
  "kernelspec": {
   "display_name": "Python 3 (ipykernel)",
   "language": "python",
   "name": "python3"
  },
  "language_info": {
   "codemirror_mode": {
    "name": "ipython",
    "version": 3
   },
   "file_extension": ".py",
   "mimetype": "text/x-python",
   "name": "python",
   "nbconvert_exporter": "python",
   "pygments_lexer": "ipython3",
   "version": "3.9.12"
  }
 },
 "nbformat": 4,
 "nbformat_minor": 5
}
