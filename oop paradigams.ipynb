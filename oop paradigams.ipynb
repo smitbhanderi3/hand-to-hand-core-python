{
 "cells": [
  {
   "cell_type": "code",
   "execution_count": null,
   "id": "2204837c",
   "metadata": {},
   "outputs": [],
   "source": [
    "#1)encapsulation:\n",
    "#2)abstection:\n",
    "    #access modififer:\n",
    "       #1)public:\n",
    "       #2)privete:\n",
    "       #3)protected"
   ]
  },
  {
   "cell_type": "code",
   "execution_count": 1,
   "id": "74aa628d",
   "metadata": {},
   "outputs": [
    {
     "name": "stdout",
     "output_type": "stream",
     "text": [
      "56\n",
      "smit\n"
     ]
    },
    {
     "ename": "AttributeError",
     "evalue": "'A' object has no attribute '__v'",
     "output_type": "error",
     "traceback": [
      "\u001b[1;31m---------------------------------------------------------------------------\u001b[0m",
      "\u001b[1;31mAttributeError\u001b[0m                            Traceback (most recent call last)",
      "Input \u001b[1;32mIn [1]\u001b[0m, in \u001b[0;36m<cell line: 12>\u001b[1;34m()\u001b[0m\n\u001b[0;32m     10\u001b[0m \u001b[38;5;28mprint\u001b[39m(o\u001b[38;5;241m.\u001b[39mnum)\n\u001b[0;32m     11\u001b[0m \u001b[38;5;28mprint\u001b[39m(o\u001b[38;5;241m.\u001b[39mname)\n\u001b[1;32m---> 12\u001b[0m \u001b[38;5;28mprint\u001b[39m(\u001b[43mo\u001b[49m\u001b[38;5;241;43m.\u001b[39;49m\u001b[43m__v\u001b[49m)\n\u001b[0;32m     13\u001b[0m \u001b[38;5;28mprint\u001b[39m(o\u001b[38;5;241m.\u001b[39m_gender)\n",
      "\u001b[1;31mAttributeError\u001b[0m: 'A' object has no attribute '__v'"
     ]
    }
   ],
   "source": [
    "#ex:\n",
    "\n",
    "class A:\n",
    "    num=56\n",
    "    __v=90    #__private\n",
    "    name=\"smit\" #public\n",
    "    _gender='m'  #_protected\n",
    "    \n",
    "o=A()\n",
    "print(o.num)\n",
    "print(o.name)\n",
    "print(o.__v)\n",
    "print(o._gender)"
   ]
  },
  {
   "cell_type": "code",
   "execution_count": 3,
   "id": "bf3b84b6",
   "metadata": {},
   "outputs": [
    {
     "name": "stdout",
     "output_type": "stream",
     "text": [
      "2022\n",
      "white\n",
      "auto\n"
     ]
    },
    {
     "ename": "AttributeError",
     "evalue": "'Car' object has no attribute '__xprice'",
     "output_type": "error",
     "traceback": [
      "\u001b[1;31m---------------------------------------------------------------------------\u001b[0m",
      "\u001b[1;31mAttributeError\u001b[0m                            Traceback (most recent call last)",
      "Input \u001b[1;32mIn [3]\u001b[0m, in \u001b[0;36m<cell line: 12>\u001b[1;34m()\u001b[0m\n\u001b[0;32m     10\u001b[0m \u001b[38;5;28mprint\u001b[39m(obj\u001b[38;5;241m.\u001b[39mcolor)\n\u001b[0;32m     11\u001b[0m \u001b[38;5;28mprint\u001b[39m(obj\u001b[38;5;241m.\u001b[39mtranmiter)\n\u001b[1;32m---> 12\u001b[0m \u001b[38;5;28mprint\u001b[39m(\u001b[43mobj\u001b[49m\u001b[38;5;241;43m.\u001b[39;49m\u001b[43m__xprice\u001b[49m)\n\u001b[0;32m     13\u001b[0m \u001b[38;5;28mprint\u001b[39m(obj\u001b[38;5;241m.\u001b[39mroadprice)\n",
      "\u001b[1;31mAttributeError\u001b[0m: 'Car' object has no attribute '__xprice'"
     ]
    }
   ],
   "source": [
    "\n",
    "class Car:\n",
    "    model=2022\n",
    "    color='white'\n",
    "    tranmiter='auto'\n",
    "    _xprice=2000000       #private\n",
    "    roadprice=2500000\n",
    "\n",
    "obj=Car()\n",
    "print(obj.model)\n",
    "print(obj.color)\n",
    "print(obj.tranmiter)\n",
    "print(obj.__xprice)\n",
    "print(obj.roadprice)"
   ]
  },
  {
   "cell_type": "code",
   "execution_count": null,
   "id": "55d959c3",
   "metadata": {},
   "outputs": [],
   "source": []
  }
 ],
 "metadata": {
  "kernelspec": {
   "display_name": "Python 3 (ipykernel)",
   "language": "python",
   "name": "python3"
  },
  "language_info": {
   "codemirror_mode": {
    "name": "ipython",
    "version": 3
   },
   "file_extension": ".py",
   "mimetype": "text/x-python",
   "name": "python",
   "nbconvert_exporter": "python",
   "pygments_lexer": "ipython3",
   "version": "3.9.12"
  }
 },
 "nbformat": 4,
 "nbformat_minor": 5
}
