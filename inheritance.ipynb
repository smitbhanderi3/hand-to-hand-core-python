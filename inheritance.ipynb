{
 "cells": [
  {
   "cell_type": "code",
   "execution_count": null,
   "id": "72b58bde",
   "metadata": {},
   "outputs": [],
   "source": [
    "#inheritence:\n",
    "\n",
    "class Employee:\n",
    "    id=None\n",
    "    name=None\n",
    "\n",
    "    def GetEmp(self):\n",
    "        self.id=1\n",
    "        self.name=\"smit\"\n",
    "\n",
    "    def ShowEmp(self):\n",
    "        print(f\"ID: {self.id}\")\n",
    "        print(f\"NAME: {self.name}\")\n",
    "\n",
    "class Payroll(Employee):\n",
    "    salary=None\n",
    "\n",
    "\n",
    "    def GetData(self):\n",
    "        self.GetEmp()\n",
    "        self.salary=250000\n",
    "\n",
    "    def ShowData(self):\n",
    "        self.ShowEmp()\n",
    "        print(f\"Selary: {self.salary}\")\n",
    "\n",
    "\n",
    "p=Payroll()\n",
    "p.GetData()\n",
    "p.ShowData()\n"
   ]
  },
  {
   "cell_type": "code",
   "execution_count": null,
   "id": "ca9b0478",
   "metadata": {},
   "outputs": [],
   "source": [
    "#types of inheritence:\n",
    "#1)single inheritence        A---->[B]\n",
    "#2)multilevel inheritence    A--->[B]----->[c]\n",
    "#3)multiple inheritence      \n",
    "                  \n",
    "#4)hierarchical inheritence\n",
    "#5) hybrid inheritence"
   ]
  },
  {
   "cell_type": "code",
   "execution_count": null,
   "id": "cbdca979",
   "metadata": {},
   "outputs": [],
   "source": [
    "#exmple:\n",
    "    #3)multiple inheritence;\n",
    "\n",
    "class A:\n",
    "    def a(self):\n",
    "        print(\"calling form class: A\")\n",
    "\n",
    "class B:\n",
    "    def b(self):\n",
    "        print(\"calling form class: B\")\n",
    "\n",
    "class C(A,B):\n",
    "    def c(self):\n",
    "        self.a()\n",
    "        self.b()\n",
    "        print(\"calling form class: c\")\n",
    "\n",
    "obj=C()\n",
    "obj.c()\n",
    "\n"
   ]
  },
  {
   "cell_type": "code",
   "execution_count": null,
   "id": "9cda3bf4",
   "metadata": {},
   "outputs": [],
   "source": [
    "#constuuctor in inheritence:\n",
    "\n",
    "class A:\n",
    "    def __init__(self):\n",
    "        print(\"calling form class: A\")\n",
    "        \n",
    "class B(A):\n",
    "    def __init__(self):\n",
    "        super().__init__()\n",
    "        print(\"calling form class: B\") \n",
    "        \n",
    "obj=B()\n",
    "    "
   ]
  },
  {
   "cell_type": "code",
   "execution_count": 1,
   "id": "a21fa417",
   "metadata": {},
   "outputs": [],
   "source": [
    "#expmle:\n",
    "\n",
    "\n",
    "            \n",
    "            \n",
    "            \n",
    "            "
   ]
  },
  {
   "cell_type": "code",
   "execution_count": null,
   "id": "1f3a8c31",
   "metadata": {},
   "outputs": [],
   "source": []
  }
 ],
 "metadata": {
  "kernelspec": {
   "display_name": "Python 3 (ipykernel)",
   "language": "python",
   "name": "python3"
  },
  "language_info": {
   "codemirror_mode": {
    "name": "ipython",
    "version": 3
   },
   "file_extension": ".py",
   "mimetype": "text/x-python",
   "name": "python",
   "nbconvert_exporter": "python",
   "pygments_lexer": "ipython3",
   "version": "3.9.12"
  }
 },
 "nbformat": 4,
 "nbformat_minor": 5
}
