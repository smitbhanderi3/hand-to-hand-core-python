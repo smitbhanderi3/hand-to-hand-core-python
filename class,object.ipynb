{
 "cells": [
  {
   "cell_type": "code",
   "execution_count": 2,
   "id": "071bddd5",
   "metadata": {},
   "outputs": [],
   "source": [
    "#class:\n",
    "\n",
    "class Phone:\n",
    "    def make_call(self):  #self complseriy\n",
    "        print(\"i am makin a call\")\n",
    "    def play_game(self):\n",
    "        print(\"i am playing a game\")"
   ]
  },
  {
   "cell_type": "code",
   "execution_count": 3,
   "id": "8216539e",
   "metadata": {},
   "outputs": [],
   "source": [
    "p1=Phone()   # valiable frist alpabeet big\n"
   ]
  },
  {
   "cell_type": "code",
   "execution_count": 4,
   "id": "e611a1f1",
   "metadata": {},
   "outputs": [
    {
     "name": "stdout",
     "output_type": "stream",
     "text": [
      "i am makin a call\n"
     ]
    }
   ],
   "source": [
    "p1.make_call()\n"
   ]
  },
  {
   "cell_type": "code",
   "execution_count": 5,
   "id": "91d5642a",
   "metadata": {},
   "outputs": [
    {
     "name": "stdout",
     "output_type": "stream",
     "text": [
      "i am playing a game\n"
     ]
    }
   ],
   "source": [
    "p1.play_game()"
   ]
  },
  {
   "cell_type": "code",
   "execution_count": 6,
   "id": "ef34e434",
   "metadata": {
    "scrolled": true
   },
   "outputs": [],
   "source": [
    "\n",
    "#add parameter to the  class\n",
    "class Phone:\n",
    "    def set_color(self,color): #object\n",
    "        self.color=color\n",
    "    def set_cost(self,cost):\n",
    "        self.cost=cost         #object\n",
    "    def show_color(self):\n",
    "        return self.color\n",
    "    def show_cost(self):\n",
    "        return self.cost\n",
    "    def make_call(self):  #self complseriy\n",
    "        print(\"i am makin a call\")\n",
    "    def play_game(self):\n",
    "        print(\"i am playing a game\")\n",
    "        "
   ]
  },
  {
   "cell_type": "code",
   "execution_count": 7,
   "id": "7a526e02",
   "metadata": {},
   "outputs": [],
   "source": [
    "p2 =Phone()\n"
   ]
  },
  {
   "cell_type": "code",
   "execution_count": 8,
   "id": "6758d913",
   "metadata": {},
   "outputs": [],
   "source": [
    "p2.set_color(\"blue\")"
   ]
  },
  {
   "cell_type": "code",
   "execution_count": 9,
   "id": "fa8f9d84",
   "metadata": {},
   "outputs": [],
   "source": [
    "p2.set_cost(15000)"
   ]
  },
  {
   "cell_type": "code",
   "execution_count": 10,
   "id": "8c03e3da",
   "metadata": {},
   "outputs": [
    {
     "data": {
      "text/plain": [
       "'blue'"
      ]
     },
     "execution_count": 10,
     "metadata": {},
     "output_type": "execute_result"
    }
   ],
   "source": [
    "p2.show_color()"
   ]
  },
  {
   "cell_type": "code",
   "execution_count": 11,
   "id": "fe5bc2b9",
   "metadata": {},
   "outputs": [
    {
     "data": {
      "text/plain": [
       "15000"
      ]
     },
     "execution_count": 11,
     "metadata": {},
     "output_type": "execute_result"
    }
   ],
   "source": [
    "p2.show_cost()"
   ]
  },
  {
   "cell_type": "code",
   "execution_count": 12,
   "id": "4dd151f2",
   "metadata": {},
   "outputs": [
    {
     "name": "stdout",
     "output_type": "stream",
     "text": [
      "i am makin a call\n"
     ]
    }
   ],
   "source": [
    "p2.make_call()"
   ]
  },
  {
   "cell_type": "code",
   "execution_count": 13,
   "id": "3cbdb27f",
   "metadata": {},
   "outputs": [
    {
     "name": "stdout",
     "output_type": "stream",
     "text": [
      "i am playing a game\n"
     ]
    }
   ],
   "source": [
    "p2.play_game()"
   ]
  },
  {
   "cell_type": "code",
   "execution_count": 16,
   "id": "8250782f",
   "metadata": {},
   "outputs": [],
   "source": [
    "#creating a calss with constructor:\n",
    "class Employee:\n",
    "    def __init__(self,name,age,salary,gender):\n",
    "        self.name=name\n",
    "        self.age=age\n",
    "        self.salary=salary\n",
    "        self.gender=gender\n",
    "    def show_employee_data(self):\n",
    "        print(\"Name of employee is\",self.name)\n",
    "        print(\"age of employee is\",self.age)\n",
    "        print(\"salary of emploree is\",self.salary)\n",
    "        \n",
    "        print(\"gender of employee is\",self.gender)"
   ]
  },
  {
   "cell_type": "code",
   "execution_count": 17,
   "id": "1c011c10",
   "metadata": {},
   "outputs": [],
   "source": [
    "e1 = Employee('smit',20,150000,'male')\n"
   ]
  },
  {
   "cell_type": "code",
   "execution_count": 18,
   "id": "1e9e5aea",
   "metadata": {},
   "outputs": [
    {
     "name": "stdout",
     "output_type": "stream",
     "text": [
      "Name of employee is smit\n",
      "age of employee is 20\n",
      "salary of emploree is 150000\n",
      "gender of employee is male\n"
     ]
    }
   ],
   "source": [
    "e1.show_employee_data()"
   ]
  },
  {
   "cell_type": "code",
   "execution_count": null,
   "id": "5d88ee78",
   "metadata": {},
   "outputs": [],
   "source": [
    "#inheritance in python:\n",
    "class Vehicle:\n",
    "    def __init__(self,mileage,cost):\n",
    "        self.mileage=mileage\n",
    "        self.cost=cost\n",
    "        \n",
    "    def show_vehicle_data(self):\n",
    "        print(\"mileage of vehicle is \",self.mileage)\n",
    "        print(\"cost of vehicle is \",self.cost)\n",
    "        print(\"i am a vehicle\")\n",
    "        "
   ]
  },
  {
   "cell_type": "code",
   "execution_count": null,
   "id": "23a7bf90",
   "metadata": {},
   "outputs": [],
   "source": [
    "v1 = Vehicle(12,50000)"
   ]
  },
  {
   "cell_type": "code",
   "execution_count": null,
   "id": "0857a865",
   "metadata": {},
   "outputs": [],
   "source": [
    "v1.show_vehicle_data()"
   ]
  },
  {
   "cell_type": "code",
   "execution_count": null,
   "id": "5dbe6a0e",
   "metadata": {},
   "outputs": [],
   "source": [
    "class Car(Vehicle):\n",
    "    def show_car_data(self):\n",
    "        print(\"i am a car\")\n",
    "        "
   ]
  },
  {
   "cell_type": "code",
   "execution_count": null,
   "id": "7cdce7c8",
   "metadata": {},
   "outputs": [],
   "source": [
    "c1 = Car(15,450000)"
   ]
  },
  {
   "cell_type": "code",
   "execution_count": null,
   "id": "bebcfe21",
   "metadata": {},
   "outputs": [],
   "source": [
    "c1.show_vehicle_data()"
   ]
  },
  {
   "cell_type": "code",
   "execution_count": null,
   "id": "e209ab34",
   "metadata": {},
   "outputs": [],
   "source": [
    "c1.show_car_data()"
   ]
  },
  {
   "cell_type": "code",
   "execution_count": null,
   "id": "eda53f50",
   "metadata": {},
   "outputs": [],
   "source": [
    "#types of method:\n",
    "#instance method\n",
    "#class method\n",
    "#statice  method\n",
    "\n",
    "\n",
    "\n",
    "\n",
    "\n"
   ]
  },
  {
   "cell_type": "code",
   "execution_count": null,
   "id": "972221fc",
   "metadata": {},
   "outputs": [],
   "source": [
    "#class method:\n",
    "class Mobile:\n",
    "    @classmethod   #decoreter\n",
    "    def show_model(cls):    #class method\n",
    "        print(\"apple max\")\n",
    "    \n",
    "\n",
    "apple=Mobile()\n",
    "Mobile.show_model()   #calling"
   ]
  },
  {
   "cell_type": "code",
   "execution_count": null,
   "id": "f81a3ae2",
   "metadata": {},
   "outputs": [],
   "source": [
    "class Mobile:\n",
    "    fp =\"Yes\"\n",
    "    @classmethod   #decoreter\n",
    "    def show_model(cls):    #class method\n",
    "        print(\"Fingerprint:\", cls.fp)\n",
    "    \n",
    "\n",
    "apple=Mobile()\n",
    "Mobile.show_model()   #calling"
   ]
  },
  {
   "cell_type": "code",
   "execution_count": null,
   "id": "24b87c29",
   "metadata": {},
   "outputs": [],
   "source": [
    " class Mobile:\n",
    "    fp =\"Yes\"\n",
    "    @classmethod   #decoreter\n",
    "    def show_model(cls,r):    #class method\n",
    "        cls.ram=r\n",
    "        print(\"Fingerprint:\", cls.fp)\n",
    "        print(\"RAM:\",cls.ram)\n",
    "\n",
    "apple=Mobile()\n",
    "Mobile.show_model('4GB')   #calling"
   ]
  },
  {
   "cell_type": "code",
   "execution_count": 7,
   "id": "6637345c",
   "metadata": {},
   "outputs": [
    {
     "name": "stdout",
     "output_type": "stream",
     "text": [
      "model: Apple xsmax print 1000\n"
     ]
    }
   ],
   "source": [
    "#static method:\n",
    "\n",
    "class Mobile:\n",
    "    @staticmethod   #decoreter\n",
    "    def show_model(m,p):    #class method\n",
    "        model=m\n",
    "        price=p\n",
    "        print(\"model:\",model,\"print\",price)\n",
    "    \n",
    "\n",
    "apple=Mobile()\n",
    "Mobile.show_model(\"Apple xsmax\",1000)   #calling"
   ]
  },
  {
   "cell_type": "code",
   "execution_count": 11,
   "id": "d658d75d",
   "metadata": {},
   "outputs": [
    {
     "name": "stdout",
     "output_type": "stream",
     "text": [
      "Model: apple max Price: 1000\n"
     ]
    }
   ],
   "source": [
    "#instance method:\n",
    "                #accessor method\n",
    "                #mutator method\n",
    "        \n",
    "class Mobile:\n",
    "    def __init__(self):\n",
    "        self.model =\"apple max\"\n",
    "        \n",
    "    def show_model(self,p):\n",
    "        self.price =p\n",
    "        print(\"Model:\",self.model,\"Price:\",self.price)\n",
    "        \n",
    "apple=Mobile()\n",
    "apple.show_model(1000)\n",
    "        "
   ]
  },
  {
   "cell_type": "code",
   "execution_count": null,
   "id": "d4f13896",
   "metadata": {},
   "outputs": [],
   "source": [
    "#constructor:\n"
   ]
  },
  {
   "cell_type": "code",
   "execution_count": 16,
   "id": "2cbf2275",
   "metadata": {},
   "outputs": [
    {
     "name": "stdout",
     "output_type": "stream",
     "text": [
      "hi this is constructor method\n",
      "destuctor method called\n",
      "object deleted......\n",
      "this is normal\n",
      "destuctor method called\n",
      "object deleted......\n"
     ]
    }
   ],
   "source": [
    "#destructor:\n",
    "\n",
    "class Vsp():\n",
    "    def __init__(self):\n",
    "        print(\"hi this is constructor method\")\n",
    "        \n",
    "    def my(self):\n",
    "        print(\"this is normal\")\n",
    "    \n",
    "    def __del__(self):\n",
    "        print(\"destuctor method called\")\n",
    "        print(\"object deleted......\")\n",
    "    \n",
    "ob=Vsp()\n",
    "\n",
    "ob.my()\n",
    "\n",
    "del ob"
   ]
  },
  {
   "cell_type": "code",
   "execution_count": null,
   "id": "1a34c6bf",
   "metadata": {},
   "outputs": [],
   "source": []
  }
 ],
 "metadata": {
  "kernelspec": {
   "display_name": "Python 3 (ipykernel)",
   "language": "python",
   "name": "python3"
  },
  "language_info": {
   "codemirror_mode": {
    "name": "ipython",
    "version": 3
   },
   "file_extension": ".py",
   "mimetype": "text/x-python",
   "name": "python",
   "nbconvert_exporter": "python",
   "pygments_lexer": "ipython3",
   "version": "3.9.12"
  }
 },
 "nbformat": 4,
 "nbformat_minor": 5
}
