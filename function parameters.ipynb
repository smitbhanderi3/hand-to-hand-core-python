{
 "cells": [
  {
   "cell_type": "code",
   "execution_count": 4,
   "id": "35fc12bf",
   "metadata": {},
   "outputs": [
    {
     "name": "stdout",
     "output_type": "stream",
     "text": [
      "zarna is the name.5\n"
     ]
    }
   ],
   "source": [
    "# parameter:\n",
    "    #positional argument:\n",
    "    \n",
    "def Addition(name,b,c):\n",
    "    print(f'{name} is the name.{b+c}')\n",
    "    \n",
    "Addition('zarna',2,3)"
   ]
  },
  {
   "cell_type": "code",
   "execution_count": 5,
   "id": "56f57abc",
   "metadata": {},
   "outputs": [
    {
     "name": "stdout",
     "output_type": "stream",
     "text": [
      "zarna is the name.22\n"
     ]
    }
   ],
   "source": [
    "#default parameter:\n",
    "          #default argument\n",
    "def Addition(name,b,c=20):\n",
    "    print(f'{name} is the name.{b+c}')\n",
    "    \n",
    "Addition('zarna',2,)"
   ]
  },
  {
   "cell_type": "code",
   "execution_count": 5,
   "id": "9014d7c7",
   "metadata": {},
   "outputs": [
    {
     "name": "stdout",
     "output_type": "stream",
     "text": [
      "zarna is the name.42\n"
     ]
    }
   ],
   "source": [
    "#key words parameter/ keywords argument:\n",
    "\n",
    "def Addition(name,b,c):\n",
    "    print(f'{name} is the name.{b+c}')\n",
    "    \n",
    "Addition(c=20,name='zarna',b=22)"
   ]
  },
  {
   "cell_type": "code",
   "execution_count": 7,
   "id": "6f877dff",
   "metadata": {},
   "outputs": [
    {
     "name": "stdout",
     "output_type": "stream",
     "text": [
      "10 20\n",
      "(5, 59, 7)\n"
     ]
    }
   ],
   "source": [
    "# aerbitry positional argument: (*)\n",
    "\n",
    "def Addition(v,n,*a):\n",
    "    print(v,n)\n",
    "    print(a)\n",
    "    \n",
    "Addition(10,20,5,59,7)"
   ]
  },
  {
   "cell_type": "code",
   "execution_count": 12,
   "id": "c1031a7e",
   "metadata": {},
   "outputs": [
    {
     "name": "stdout",
     "output_type": "stream",
     "text": [
      "7 10\n",
      "{'r': 20, 'm': 5, 't': 59}\n"
     ]
    }
   ],
   "source": [
    "# arebitry keywords argument: (**)\n",
    "\n",
    "\n",
    "def Addition(v,n,**a):\n",
    "    print(v,n)\n",
    "    print(a)\n",
    "    \n",
    "Addition(n=10,r=20,m=5,t=59,v=7)"
   ]
  },
  {
   "cell_type": "code",
   "execution_count": null,
   "id": "235cb7a8",
   "metadata": {},
   "outputs": [],
   "source": [
    "\n",
    "\n"
   ]
  }
 ],
 "metadata": {
  "kernelspec": {
   "display_name": "Python 3 (ipykernel)",
   "language": "python",
   "name": "python3"
  },
  "language_info": {
   "codemirror_mode": {
    "name": "ipython",
    "version": 3
   },
   "file_extension": ".py",
   "mimetype": "text/x-python",
   "name": "python",
   "nbconvert_exporter": "python",
   "pygments_lexer": "ipython3",
   "version": "3.9.12"
  }
 },
 "nbformat": 4,
 "nbformat_minor": 5
}
