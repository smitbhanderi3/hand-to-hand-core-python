{
 "cells": [
  {
   "cell_type": "code",
   "execution_count": null,
   "id": "727275bf",
   "metadata": {},
   "outputs": [],
   "source": [
    "#14/thu\n",
    "\n",
    "\n",
    "#string function:\n",
    "\n",
    "str1=\"learing python in tops\"\n",
    "\n",
    "str1.capitalize()"
   ]
  },
  {
   "cell_type": "code",
   "execution_count": null,
   "id": "b87f5494",
   "metadata": {},
   "outputs": [],
   "source": [
    "#all words frist albabet is cepital.\n",
    "str1=\"learning python in tops\"\n",
    "\n",
    "str1.title()\n",
    "\n",
    "str1.count('i')\n",
    "str1.endswith('tops')\n",
    "str1.startswith('learning')"
   ]
  },
  {
   "cell_type": "code",
   "execution_count": null,
   "id": "431d1b8b",
   "metadata": {},
   "outputs": [],
   "source": [
    "#find function\n",
    "str1=\"learning\"\n",
    "\n",
    "str1.find('ing')\n",
    "\n",
    "\n",
    "\n"
   ]
  },
  {
   "cell_type": "code",
   "execution_count": null,
   "id": "eefe6fd0",
   "metadata": {},
   "outputs": [],
   "source": [
    "#split punction\n",
    "str1='learning,python,in,tops'\n",
    "\n",
    "str1.split(',')"
   ]
  },
  {
   "cell_type": "code",
   "execution_count": null,
   "id": "938cc303",
   "metadata": {},
   "outputs": [],
   "source": [
    "#join function\n",
    "str1='learning python in tops'\n",
    "\n",
    "'.'.join(str1)"
   ]
  },
  {
   "cell_type": "code",
   "execution_count": null,
   "id": "2ca51bf1",
   "metadata": {},
   "outputs": [],
   "source": [
    "l1=['learning','python', 'in','tops']\n",
    "' '.join(l1)\n"
   ]
  },
  {
   "cell_type": "code",
   "execution_count": null,
   "id": "7aeb3cb7",
   "metadata": {},
   "outputs": [],
   "source": [
    "#replece function.\n",
    "\n",
    "str1='learning python in tops'\n",
    "#ex\n",
    "str1.replace('ing','abc')\n",
    "#ex\n",
    "str1.replace('i','a')\n",
    "#ex\n",
    "str1.replace('i','a',2)#first 2 word "
   ]
  },
  {
   "cell_type": "code",
   "execution_count": null,
   "id": "b262355e",
   "metadata": {},
   "outputs": [],
   "source": [
    "#string slicing:  [:],[::]\n",
    "\n",
    "\n",
    "str1='python'\n",
    "print(str1[1:3])\n",
    "\n"
   ]
  },
  {
   "cell_type": "code",
   "execution_count": null,
   "id": "de22036a",
   "metadata": {},
   "outputs": [],
   "source": [
    "#ex\n",
    "str1='learning python in tops'\n",
    "print(str1)\n",
    "print(str[ : :-1])"
   ]
  },
  {
   "cell_type": "code",
   "execution_count": null,
   "id": "f58aae0d",
   "metadata": {},
   "outputs": [],
   "source": [
    "#string:  lower,upper,title,capitalizer\n",
    "#lower() \n",
    "   #ex:\n",
    "w=\"Smit Bhanderi\"\n",
    "n=w.lower()\n",
    "print(n)\n",
    "#upper()\n",
    "   #ex:\n",
    "w=\"smit bhanderi\"\n",
    "n=w.upper()\n",
    "print(n)\n",
    "#title()\n",
    "  #ex\n",
    "w=\"smit bhanderi\"\n",
    "n=w.title()\n",
    "print(n)\n",
    "#capitalize()\n",
    "  #ex\n",
    "w=\"smit bhanderi\"\n",
    "n=w.capitalize()\n",
    "print(n)"
   ]
  },
  {
   "cell_type": "code",
   "execution_count": null,
   "id": "13a1bc10",
   "metadata": {},
   "outputs": [],
   "source": [
    "#string: find , index , isalpha(a,b,c,d,) ,isdigit(1,2,3,4),isalnum(a,1,b,2,c,3,d,4,)\n",
    "#find:\n",
    "w=\"smitbhanderi\"\n",
    "print(w.find('s'))\n",
    "#index:\n",
    "w=\"smitbhanderi\"\n",
    "print(w.index('e'))\n",
    "#isalpa:\n",
    "w=\"smitbhanderi\"\n",
    "print(w.isalpha())\n",
    "#isdigit:\n",
    "w=\"1345\"\n",
    "print(w.isdigit())\n",
    "#isalnum:\n",
    "w=\"smitbhanderi123\"\n",
    "print(w.isalnum())"
   ]
  },
  {
   "cell_type": "code",
   "execution_count": null,
   "id": "caccce48",
   "metadata": {},
   "outputs": [],
   "source": [
    "#16/july\n",
    "#module 3:\n",
    "\n",
    "#list=[],list('','',)\n",
    "#tapple\n",
    "#discnory\n",
    "#set\n",
    "\n",
    "\n",
    "#list\n",
    "\n",
    "l1=[22,400.5,'jagruti',True,22]\n",
    "l1[2]"
   ]
  },
  {
   "cell_type": "code",
   "execution_count": null,
   "id": "c7f44d0e",
   "metadata": {},
   "outputs": [],
   "source": [
    "#ex;type\n",
    "l1=[22,400.5,'jagruti',True,22]\n",
    "type(l1[4])"
   ]
  },
  {
   "cell_type": "code",
   "execution_count": null,
   "id": "41bd8955",
   "metadata": {},
   "outputs": [],
   "source": [
    "#ex: muteable changing\n",
    "l1=[22,400.5,'jagruti',True,22]\n",
    "l1[0]='rinkal'\n",
    "l1"
   ]
  },
  {
   "cell_type": "code",
   "execution_count": null,
   "id": "2f3aba78",
   "metadata": {},
   "outputs": [],
   "source": [
    "#ex:etreshtion\n",
    "\n",
    "l1=[22,400.5,'jagruti',True,22]\n",
    "\n",
    "for i in l1:\n",
    "    print(i)"
   ]
  },
  {
   "cell_type": "code",
   "execution_count": null,
   "id": "03557650",
   "metadata": {},
   "outputs": [],
   "source": [
    "#ex :index wise\n",
    "l1=[22,400.5,'jagruti',True,22]\n",
    "\n",
    "for i in range(0,5):\n",
    "    print(l1[i])"
   ]
  },
  {
   "cell_type": "code",
   "execution_count": null,
   "id": "61f9853b",
   "metadata": {},
   "outputs": [],
   "source": [
    "#ex: value chack \n",
    "l1=[22,400.5,'jagruti',True,22]\n",
    "\n",
    "num=400.5\n",
    "\n",
    "if num in l1:\n",
    "    print(True)\n"
   ]
  },
  {
   "cell_type": "code",
   "execution_count": null,
   "id": "d1158cdd",
   "metadata": {},
   "outputs": [],
   "source": [
    "#ex: list in list \n",
    "l1=[22,400.5,'jagruti',True,[44,66]]\n",
    "l1[4]"
   ]
  },
  {
   "cell_type": "code",
   "execution_count": null,
   "id": "c76b448c",
   "metadata": {},
   "outputs": [],
   "source": [
    "#2) opretion : l1.tab= all words\n",
    "\n",
    "#ex: 1)append. (all one list)\n",
    "l1=[22,400.5,'jagruti',True,[44,66]]\n",
    "l1.append(56)\n",
    "\n",
    "l1"
   ]
  },
  {
   "cell_type": "code",
   "execution_count": null,
   "id": "168e16d8",
   "metadata": {},
   "outputs": [],
   "source": [
    "#2) .extend (add list in list)\n",
    "\n",
    "l1=[22,400.5,'jagruti',True,[44,66]]\n",
    "l1.extend(['a',45,99])\n",
    "\n",
    "l1"
   ]
  },
  {
   "cell_type": "code",
   "execution_count": null,
   "id": "44ac735d",
   "metadata": {},
   "outputs": [],
   "source": [
    "#3) .insert (add in nummber in words)\n",
    "\n",
    "l1=[22,400.5,'jagruti',True,[44,66]]\n",
    "l1.insert(2,False)\n",
    "\n",
    "l1"
   ]
  },
  {
   "cell_type": "code",
   "execution_count": null,
   "id": "f5d9cc8c",
   "metadata": {},
   "outputs": [],
   "source": [
    "#4) .pop ()\n",
    "\n",
    "l1=[22,400.5,'jagruti',True,[44,66]]\n",
    "l1.pop(1)\n",
    "\n",
    "l1"
   ]
  },
  {
   "cell_type": "code",
   "execution_count": null,
   "id": "e8499c7a",
   "metadata": {},
   "outputs": [],
   "source": [
    "#5) ..remove\n",
    "\n",
    "l1=[22,400.5,'jagruti',True,[44,66]]\n",
    "l1.remove(400.5)\n",
    "\n",
    "l1"
   ]
  },
  {
   "cell_type": "code",
   "execution_count": null,
   "id": "3e63962d",
   "metadata": {},
   "outputs": [],
   "source": [
    "#6) .copy\n",
    "\n",
    "l1=[22,400.5,'jagruti',True,[44,66]]\n",
    "l2=l1.copy()\n",
    "\n",
    "l2"
   ]
  },
  {
   "cell_type": "code",
   "execution_count": null,
   "id": "175ddb79",
   "metadata": {},
   "outputs": [],
   "source": [
    "#7) print(len(l1))\n",
    "\n",
    "l1=[22,400.5,'jagruti',True,[44,66]]\n",
    "print(len(l1))\n",
    "\n",
    "l1"
   ]
  },
  {
   "cell_type": "code",
   "execution_count": null,
   "id": "ab65bd61",
   "metadata": {},
   "outputs": [],
   "source": [
    "#8) revrese\n",
    "\n",
    "l1=[22,400.5,'jagruti',True,[44,66]]\n",
    "l1.reverse()\n",
    "\n",
    "l1"
   ]
  },
  {
   "cell_type": "code",
   "execution_count": null,
   "id": "1bcd52e5",
   "metadata": {},
   "outputs": [],
   "source": [
    "#9) .sort  (Felse)\n",
    "\n",
    "l1=[22,400.5,'jagruti',True,[44,66]]\n",
    "l2=[56,89,23,17,77]\n",
    "\n",
    "l2.sort()\n",
    "l2"
   ]
  },
  {
   "cell_type": "code",
   "execution_count": null,
   "id": "20a679bb",
   "metadata": {},
   "outputs": [],
   "source": [
    "#10) .sort(reverse=True)\n",
    "l1=[22,400.5,'jagruti',True,[44,66]]\n",
    "l2=[56,89,23,17,77]\n",
    "\n",
    "\n",
    "l2.sort(reverse=True)\n",
    "l2"
   ]
  },
  {
   "cell_type": "code",
   "execution_count": null,
   "id": "59c2ce50",
   "metadata": {},
   "outputs": [],
   "source": [
    "#  min globle functionn.\n",
    "\n",
    "l2=[56,89,23,17,77]\n",
    "\n",
    "print(min(l2))\n",
    "l2"
   ]
  },
  {
   "cell_type": "code",
   "execution_count": null,
   "id": "a61b3392",
   "metadata": {},
   "outputs": [],
   "source": [
    "l2=[56,89,23,17,77]\n",
    "\n",
    "print(max(l2))\n",
    "l2"
   ]
  },
  {
   "cell_type": "code",
   "execution_count": null,
   "id": "0624297e",
   "metadata": {},
   "outputs": [],
   "source": [
    "l1=[22,400.5,'jagruti',True,[44,66]]\n",
    "l2=[56,89,23,17,77]\n",
    "\n",
    "l2[-1]"
   ]
  },
  {
   "cell_type": "code",
   "execution_count": null,
   "id": "15a6b463",
   "metadata": {},
   "outputs": [],
   "source": [
    "#ex: (h.w)\n",
    "#write a python program taxt two lise it return true list one item is commen in the two list.\n",
    "\n",
    "l1=[1,2,3,4,5,6,7,8,9]\n",
    "l2=[2,3,4,5,6,7,8,9,0]\n",
    "\n",
    " list(l1,l2):\n",
    "    result =False\n",
    "    for i in l1:\n",
    "        for j in l2:\n",
    "            if i==j:\n",
    "                result=Ture\n",
    "                \n",
    "                \n",
    "            \n"
   ]
  },
  {
   "cell_type": "code",
   "execution_count": null,
   "id": "1e963fcc",
   "metadata": {},
   "outputs": [],
   "source": [
    "# #19\\july\n",
    "# li=10,\"like\",\"hello\",20]\n",
    "# def k_f_t(li):\n",
    "#     from val in li:\n",
    "#         if not isinstance(val,(int,float)):\n",
    "#             li.remove(val)\n",
    "#         return li\n",
    "    \n",
    "\n"
   ]
  },
  {
   "cell_type": "code",
   "execution_count": 1,
   "id": "cc106d1e",
   "metadata": {},
   "outputs": [],
   "source": [
    "#19\\july\n",
    "# remove a two  string in list.\n",
    "li=[10,\"like\",\"hello\",20]\n",
    "def k_f_t(li):\n",
    "    for val in li:\n",
    "        if not isinstance(val,(int,float)):\n",
    "            li.remove(val)\n",
    "        return li\n",
    "    "
   ]
  },
  {
   "cell_type": "code",
   "execution_count": 2,
   "id": "d3a9ba4d",
   "metadata": {},
   "outputs": [
    {
     "data": {
      "text/plain": [
       "[10, 'like', 'hello', 20]"
      ]
     },
     "execution_count": 2,
     "metadata": {},
     "output_type": "execute_result"
    }
   ],
   "source": [
    "k_f_t(li)\n",
    "\n"
   ]
  },
  {
   "cell_type": "code",
   "execution_count": 3,
   "id": "a7a0d0b8",
   "metadata": {},
   "outputs": [
    {
     "data": {
      "text/plain": [
       "[10, 20]"
      ]
     },
     "execution_count": 3,
     "metadata": {},
     "output_type": "execute_result"
    }
   ],
   "source": [
    "list(filter(lambda x:isinstance(x,(int,float)),li))\n"
   ]
  },
  {
   "cell_type": "code",
   "execution_count": null,
   "id": "473cfdc4",
   "metadata": {},
   "outputs": [],
   "source": []
  },
  {
   "cell_type": "code",
   "execution_count": null,
   "id": "9a6cc716",
   "metadata": {},
   "outputs": [],
   "source": []
  }
 ],
 "metadata": {
  "kernelspec": {
   "display_name": "Python 3 (ipykernel)",
   "language": "python",
   "name": "python3"
  },
  "language_info": {
   "codemirror_mode": {
    "name": "ipython",
    "version": 3
   },
   "file_extension": ".py",
   "mimetype": "text/x-python",
   "name": "python",
   "nbconvert_exporter": "python",
   "pygments_lexer": "ipython3",
   "version": "3.9.12"
  }
 },
 "nbformat": 4,
 "nbformat_minor": 5
}
