{
 "cells": [
  {
   "cell_type": "code",
   "execution_count": 2,
   "id": "93ca00bf",
   "metadata": {},
   "outputs": [
    {
     "data": {
      "text/plain": [
       "('mango', 'apple', 'orenge', [33, 66, 88, 10])"
      ]
     },
     "execution_count": 2,
     "metadata": {},
     "output_type": "execute_result"
    }
   ],
   "source": [
    "#19/july\n",
    "\n",
    "#ec\n",
    "\n",
    "fruits=('mango','apple','orenge',[33,66,88])\n",
    "fruits[3].append(10)\n",
    "fruits"
   ]
  },
  {
   "cell_type": "code",
   "execution_count": 1,
   "id": "8e2fa48a",
   "metadata": {},
   "outputs": [
    {
     "data": {
      "text/plain": [
       "['mango', 'apple', 'orenge', [33, 66, 88]]"
      ]
     },
     "execution_count": 1,
     "metadata": {},
     "output_type": "execute_result"
    }
   ],
   "source": [
    "#tuple to change list convert.\n",
    "fruits=('mango','apple','orenge',[33,66,88])\n",
    "l=list(fruits)\n",
    "l"
   ]
  },
  {
   "cell_type": "code",
   "execution_count": null,
   "id": "ebc7a0b9",
   "metadata": {},
   "outputs": [],
   "source": [
    "fruits=('mango','apple','orenge',[33,66,88])\n",
    "l=list(fruits)\n",
    "l.append(True)\n",
    "fruits=tuple(l)\n",
    "fruits\n"
   ]
  },
  {
   "cell_type": "code",
   "execution_count": 3,
   "id": "d5b480c0",
   "metadata": {},
   "outputs": [
    {
     "data": {
      "text/plain": [
       "('apple', 'orenge', [33, 66, 88], 'mango')"
      ]
     },
     "execution_count": 3,
     "metadata": {},
     "output_type": "execute_result"
    }
   ],
   "source": [
    "#example\n",
    "#write a program remove a dublicates items form a tuple.\n",
    "\n",
    "\n",
    "f=('mango','apple','orenge','orenge',[33,66,88],'mango')\n",
    "l=list(f)\n",
    "for i in  l:\n",
    "    if l.count(i)>1:\n",
    "        l.remove(i)\n",
    "        \n",
    "f=tuple(l)\n",
    "f"
   ]
  },
  {
   "cell_type": "code",
   "execution_count": 5,
   "id": "ba28e7e9",
   "metadata": {},
   "outputs": [
    {
     "data": {
      "text/plain": [
       "'python'"
      ]
     },
     "execution_count": 5,
     "metadata": {},
     "output_type": "execute_result"
    }
   ],
   "source": [
    "#example\n",
    "#write a program convert list of charecter into a string.\n",
    "\n",
    "name1=('p','y','t','h','o','n')\n",
    "name2=''.join(name1)\n",
    "name2"
   ]
  },
  {
   "cell_type": "code",
   "execution_count": null,
   "id": "3ce2e3fa",
   "metadata": {},
   "outputs": [],
   "source": []
  },
  {
   "cell_type": "code",
   "execution_count": null,
   "id": "a2a738c4",
   "metadata": {},
   "outputs": [],
   "source": []
  }
 ],
 "metadata": {
  "kernelspec": {
   "display_name": "Python 3 (ipykernel)",
   "language": "python",
   "name": "python3"
  },
  "language_info": {
   "codemirror_mode": {
    "name": "ipython",
    "version": 3
   },
   "file_extension": ".py",
   "mimetype": "text/x-python",
   "name": "python",
   "nbconvert_exporter": "python",
   "pygments_lexer": "ipython3",
   "version": "3.9.12"
  }
 },
 "nbformat": 4,
 "nbformat_minor": 5
}
