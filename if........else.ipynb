{
 "cells": [
  {
   "cell_type": "code",
   "execution_count": 2,
   "id": "05510b59",
   "metadata": {},
   "outputs": [
    {
     "name": "stdout",
     "output_type": "stream",
     "text": [
      "number is greatar\n"
     ]
    }
   ],
   "source": [
    "#if:\n",
    "#exmple\n",
    "num=80\n",
    "if num>50:\n",
    "    print(\"number is greatar\")"
   ]
  },
  {
   "cell_type": "code",
   "execution_count": 4,
   "id": "4d9ac457",
   "metadata": {},
   "outputs": [
    {
     "name": "stdout",
     "output_type": "stream",
     "text": [
      "enter number56\n",
      "56is even\n"
     ]
    }
   ],
   "source": [
    "#else:\n",
    "\n",
    "\n",
    "num=int(input(\"enter number\"))\n",
    "if num%2==0:\n",
    "    print(f'{num}is even')\n",
    "else:\n",
    "    print(f'{num}is odd')"
   ]
  },
  {
   "cell_type": "code",
   "execution_count": 6,
   "id": "5e51b676",
   "metadata": {},
   "outputs": [
    {
     "name": "stdout",
     "output_type": "stream",
     "text": [
      "number is lessor then 100\n"
     ]
    }
   ],
   "source": [
    "#if------elif--------else:\n",
    "\n",
    "num=50\n",
    "if num>100:\n",
    "    print(\"number is greater then 100\")\n",
    "elif num<100:\n",
    "    print(\"number is lessor then 100\")\n",
    "else:\n",
    "    print(\"number is equel to 100 \")"
   ]
  },
  {
   "cell_type": "code",
   "execution_count": null,
   "id": "22b3f3a7",
   "metadata": {},
   "outputs": [],
   "source": []
  }
 ],
 "metadata": {
  "kernelspec": {
   "display_name": "Python 3 (ipykernel)",
   "language": "python",
   "name": "python3"
  },
  "language_info": {
   "codemirror_mode": {
    "name": "ipython",
    "version": 3
   },
   "file_extension": ".py",
   "mimetype": "text/x-python",
   "name": "python",
   "nbconvert_exporter": "python",
   "pygments_lexer": "ipython3",
   "version": "3.9.12"
  }
 },
 "nbformat": 4,
 "nbformat_minor": 5
}
