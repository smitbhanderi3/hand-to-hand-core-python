{
 "cells": [
  {
   "cell_type": "code",
   "execution_count": 1,
   "id": "7ec03bab",
   "metadata": {},
   "outputs": [
    {
     "name": "stdout",
     "output_type": "stream",
     "text": [
      "[1, 4, 9, 16]\n"
     ]
    }
   ],
   "source": [
    "#student = \"smit\"\n",
    "list1 = [1, 2, 3, 4]\n",
    "list2 = [i**2 for i in list1]\n",
    "print(list2)"
   ]
  },
  {
   "cell_type": "code",
   "execution_count": null,
   "id": "2e6aa241",
   "metadata": {},
   "outputs": [],
   "source": []
  },
  {
   "cell_type": "code",
   "execution_count": 8,
   "id": "36741f73",
   "metadata": {},
   "outputs": [
    {
     "data": {
      "text/plain": [
       "'smit'"
      ]
     },
     "execution_count": 8,
     "metadata": {},
     "output_type": "execute_result"
    }
   ],
   "source": [
    "student"
   ]
  },
  {
   "cell_type": "code",
   "execution_count": 9,
   "id": "7feaf704",
   "metadata": {},
   "outputs": [],
   "source": [
    "student = \"matt\""
   ]
  },
  {
   "cell_type": "code",
   "execution_count": 10,
   "id": "d2d4a5b3",
   "metadata": {},
   "outputs": [
    {
     "data": {
      "text/plain": [
       "'matt'"
      ]
     },
     "execution_count": 10,
     "metadata": {},
     "output_type": "execute_result"
    }
   ],
   "source": [
    "student"
   ]
  },
  {
   "cell_type": "code",
   "execution_count": 11,
   "id": "8d43a75a",
   "metadata": {},
   "outputs": [],
   "source": [
    "student = \"bob\""
   ]
  },
  {
   "cell_type": "code",
   "execution_count": 12,
   "id": "2616f489",
   "metadata": {},
   "outputs": [
    {
     "data": {
      "text/plain": [
       "'bob'"
      ]
     },
     "execution_count": 12,
     "metadata": {},
     "output_type": "execute_result"
    }
   ],
   "source": [
    "student\n"
   ]
  },
  {
   "cell_type": "code",
   "execution_count": 13,
   "id": "0105bba6",
   "metadata": {},
   "outputs": [],
   "source": [
    "a1 = 10\n"
   ]
  },
  {
   "cell_type": "code",
   "execution_count": 14,
   "id": "86e8078a",
   "metadata": {},
   "outputs": [
    {
     "data": {
      "text/plain": [
       "10"
      ]
     },
     "execution_count": 14,
     "metadata": {},
     "output_type": "execute_result"
    }
   ],
   "source": [
    "a1\n"
   ]
  },
  {
   "cell_type": "code",
   "execution_count": 15,
   "id": "a5a8d422",
   "metadata": {},
   "outputs": [
    {
     "data": {
      "text/plain": [
       "int"
      ]
     },
     "execution_count": 15,
     "metadata": {},
     "output_type": "execute_result"
    }
   ],
   "source": [
    "type(a1)"
   ]
  },
  {
   "cell_type": "code",
   "execution_count": 16,
   "id": "512367f3",
   "metadata": {},
   "outputs": [],
   "source": [
    "b1 = True\n"
   ]
  },
  {
   "cell_type": "code",
   "execution_count": 17,
   "id": "703921dc",
   "metadata": {},
   "outputs": [
    {
     "data": {
      "text/plain": [
       "True"
      ]
     },
     "execution_count": 17,
     "metadata": {},
     "output_type": "execute_result"
    }
   ],
   "source": [
    "b1"
   ]
  },
  {
   "cell_type": "code",
   "execution_count": 18,
   "id": "afb1da9f",
   "metadata": {},
   "outputs": [
    {
     "data": {
      "text/plain": [
       "bool"
      ]
     },
     "execution_count": 18,
     "metadata": {},
     "output_type": "execute_result"
    }
   ],
   "source": [
    "type(b1)"
   ]
  },
  {
   "cell_type": "code",
   "execution_count": 19,
   "id": "3cccf3c1",
   "metadata": {},
   "outputs": [
    {
     "data": {
      "text/plain": [
       "'hello world'"
      ]
     },
     "execution_count": 19,
     "metadata": {},
     "output_type": "execute_result"
    }
   ],
   "source": [
    "a1 = \"hello world\"\n",
    "a1"
   ]
  },
  {
   "cell_type": "code",
   "execution_count": 20,
   "id": "4973f439",
   "metadata": {},
   "outputs": [
    {
     "data": {
      "text/plain": [
       "str"
      ]
     },
     "execution_count": 20,
     "metadata": {},
     "output_type": "execute_result"
    }
   ],
   "source": [
    "type(a1)"
   ]
  },
  {
   "cell_type": "code",
   "execution_count": 21,
   "id": "c71757af",
   "metadata": {},
   "outputs": [
    {
     "data": {
      "text/plain": [
       "(3+4j)"
      ]
     },
     "execution_count": 21,
     "metadata": {},
     "output_type": "execute_result"
    }
   ],
   "source": [
    "a1 = 3+4j\n",
    "a1"
   ]
  },
  {
   "cell_type": "code",
   "execution_count": 22,
   "id": "2e199a44",
   "metadata": {},
   "outputs": [
    {
     "data": {
      "text/plain": [
       "complex"
      ]
     },
     "execution_count": 22,
     "metadata": {},
     "output_type": "execute_result"
    }
   ],
   "source": [
    "type(a1)"
   ]
  },
  {
   "cell_type": "code",
   "execution_count": 23,
   "id": "8eb061a0",
   "metadata": {},
   "outputs": [],
   "source": [
    "#opretors:\n",
    "#arithmetic opretors:\n",
    "              #  +,- *,/,"
   ]
  },
  {
   "cell_type": "code",
   "execution_count": 24,
   "id": "3ac65dcd",
   "metadata": {},
   "outputs": [],
   "source": [
    "a= 10\n",
    "b=20"
   ]
  },
  {
   "cell_type": "code",
   "execution_count": 25,
   "id": "e5e6b1d5",
   "metadata": {},
   "outputs": [
    {
     "data": {
      "text/plain": [
       "(10, 20)"
      ]
     },
     "execution_count": 25,
     "metadata": {},
     "output_type": "execute_result"
    }
   ],
   "source": [
    "a,b"
   ]
  },
  {
   "cell_type": "code",
   "execution_count": 26,
   "id": "926992e7",
   "metadata": {},
   "outputs": [
    {
     "data": {
      "text/plain": [
       "30"
      ]
     },
     "execution_count": 26,
     "metadata": {},
     "output_type": "execute_result"
    }
   ],
   "source": [
    "a+b"
   ]
  },
  {
   "cell_type": "code",
   "execution_count": 27,
   "id": "1e7a3538",
   "metadata": {},
   "outputs": [
    {
     "data": {
      "text/plain": [
       "-10"
      ]
     },
     "execution_count": 27,
     "metadata": {},
     "output_type": "execute_result"
    }
   ],
   "source": [
    "a-b"
   ]
  },
  {
   "cell_type": "code",
   "execution_count": 28,
   "id": "9265a3e9",
   "metadata": {},
   "outputs": [],
   "source": [
    "#relational opretor\"\n",
    "#,<,>,==,!="
   ]
  },
  {
   "cell_type": "code",
   "execution_count": 29,
   "id": "cd97a373",
   "metadata": {},
   "outputs": [],
   "source": [
    "a=50\n",
    "b=100"
   ]
  },
  {
   "cell_type": "code",
   "execution_count": 30,
   "id": "9d6464bf",
   "metadata": {},
   "outputs": [
    {
     "data": {
      "text/plain": [
       "False"
      ]
     },
     "execution_count": 30,
     "metadata": {},
     "output_type": "execute_result"
    }
   ],
   "source": [
    "a>b"
   ]
  },
  {
   "cell_type": "code",
   "execution_count": 31,
   "id": "8418cbae",
   "metadata": {},
   "outputs": [
    {
     "data": {
      "text/plain": [
       "True"
      ]
     },
     "execution_count": 31,
     "metadata": {},
     "output_type": "execute_result"
    }
   ],
   "source": [
    "a<b"
   ]
  },
  {
   "cell_type": "code",
   "execution_count": 32,
   "id": "9330862a",
   "metadata": {},
   "outputs": [
    {
     "data": {
      "text/plain": [
       "False"
      ]
     },
     "execution_count": 32,
     "metadata": {},
     "output_type": "execute_result"
    }
   ],
   "source": [
    " a==b "
   ]
  },
  {
   "cell_type": "code",
   "execution_count": 33,
   "id": "00f80ec4",
   "metadata": {},
   "outputs": [
    {
     "data": {
      "text/plain": [
       "True"
      ]
     },
     "execution_count": 33,
     "metadata": {},
     "output_type": "execute_result"
    }
   ],
   "source": [
    "a!=b\n"
   ]
  },
  {
   "cell_type": "code",
   "execution_count": 34,
   "id": "e90c70d4",
   "metadata": {},
   "outputs": [],
   "source": [
    "#logical opretor:\n",
    "   #and , or"
   ]
  },
  {
   "cell_type": "code",
   "execution_count": 35,
   "id": "c9f8b0b7",
   "metadata": {},
   "outputs": [],
   "source": [
    "a= True\n",
    "b = False"
   ]
  },
  {
   "cell_type": "code",
   "execution_count": 36,
   "id": "3fdac964",
   "metadata": {},
   "outputs": [
    {
     "data": {
      "text/plain": [
       "True"
      ]
     },
     "execution_count": 36,
     "metadata": {},
     "output_type": "execute_result"
    }
   ],
   "source": [
    "a &a"
   ]
  },
  {
   "cell_type": "code",
   "execution_count": 37,
   "id": "9a9d2db7",
   "metadata": {},
   "outputs": [
    {
     "data": {
      "text/plain": [
       "False"
      ]
     },
     "execution_count": 37,
     "metadata": {},
     "output_type": "execute_result"
    }
   ],
   "source": [
    "a&b"
   ]
  },
  {
   "cell_type": "code",
   "execution_count": 38,
   "id": "0f341702",
   "metadata": {},
   "outputs": [
    {
     "data": {
      "text/plain": [
       "False"
      ]
     },
     "execution_count": 38,
     "metadata": {},
     "output_type": "execute_result"
    }
   ],
   "source": [
    "b&a\n"
   ]
  },
  {
   "cell_type": "code",
   "execution_count": 39,
   "id": "8d151278",
   "metadata": {},
   "outputs": [
    {
     "data": {
      "text/plain": [
       "False"
      ]
     },
     "execution_count": 39,
     "metadata": {},
     "output_type": "execute_result"
    }
   ],
   "source": [
    "b&b"
   ]
  },
  {
   "cell_type": "code",
   "execution_count": 40,
   "id": "e67805a0",
   "metadata": {},
   "outputs": [
    {
     "data": {
      "text/plain": [
       "True"
      ]
     },
     "execution_count": 40,
     "metadata": {},
     "output_type": "execute_result"
    }
   ],
   "source": [
    "a|b"
   ]
  },
  {
   "cell_type": "code",
   "execution_count": 41,
   "id": "69ef47eb",
   "metadata": {},
   "outputs": [
    {
     "data": {
      "text/plain": [
       "True"
      ]
     },
     "execution_count": 41,
     "metadata": {},
     "output_type": "execute_result"
    }
   ],
   "source": [
    "b|a"
   ]
  },
  {
   "cell_type": "code",
   "execution_count": 42,
   "id": "95eefd22",
   "metadata": {},
   "outputs": [
    {
     "data": {
      "text/plain": [
       "False"
      ]
     },
     "execution_count": 42,
     "metadata": {},
     "output_type": "execute_result"
    }
   ],
   "source": [
    "b|b"
   ]
  },
  {
   "cell_type": "code",
   "execution_count": 43,
   "id": "555aa3fe",
   "metadata": {},
   "outputs": [
    {
     "data": {
      "text/plain": [
       "True"
      ]
     },
     "execution_count": 43,
     "metadata": {},
     "output_type": "execute_result"
    }
   ],
   "source": [
    "a|a\n"
   ]
  },
  {
   "cell_type": "code",
   "execution_count": 44,
   "id": "78d58dce",
   "metadata": {},
   "outputs": [],
   "source": [
    "#python keywords:"
   ]
  },
  {
   "cell_type": "code",
   "execution_count": 47,
   "id": "5cf295b3",
   "metadata": {},
   "outputs": [],
   "source": [
    "A =True\n"
   ]
  },
  {
   "cell_type": "code",
   "execution_count": 48,
   "id": "fe600b7c",
   "metadata": {},
   "outputs": [
    {
     "data": {
      "text/plain": [
       "True"
      ]
     },
     "execution_count": 48,
     "metadata": {},
     "output_type": "execute_result"
    }
   ],
   "source": [
    "a"
   ]
  },
  {
   "cell_type": "code",
   "execution_count": 49,
   "id": "3302f06c",
   "metadata": {},
   "outputs": [],
   "source": [
    "#python identifies:\n",
    "student = 'smit'\n"
   ]
  },
  {
   "cell_type": "code",
   "execution_count": 50,
   "id": "a07e742d",
   "metadata": {},
   "outputs": [
    {
     "data": {
      "text/plain": [
       "'smit'"
      ]
     },
     "execution_count": 50,
     "metadata": {},
     "output_type": "execute_result"
    }
   ],
   "source": [
    "student"
   ]
  },
  {
   "cell_type": "code",
   "execution_count": 51,
   "id": "4460131b",
   "metadata": {},
   "outputs": [],
   "source": [
    "#python liternls:\n",
    "\n",
    "a = 3.14"
   ]
  },
  {
   "cell_type": "code",
   "execution_count": 52,
   "id": "4a3ad303",
   "metadata": {},
   "outputs": [],
   "source": [
    "# python string:\n",
    "\n"
   ]
  },
  {
   "cell_type": "code",
   "execution_count": 53,
   "id": "13990905",
   "metadata": {},
   "outputs": [],
   "source": [
    "str1 = ' this is my string'"
   ]
  },
  {
   "cell_type": "code",
   "execution_count": 54,
   "id": "5ac1c170",
   "metadata": {},
   "outputs": [
    {
     "data": {
      "text/plain": [
       "' this is my string'"
      ]
     },
     "execution_count": 54,
     "metadata": {},
     "output_type": "execute_result"
    }
   ],
   "source": [
    "str1"
   ]
  },
  {
   "cell_type": "code",
   "execution_count": 55,
   "id": "ef578c9f",
   "metadata": {},
   "outputs": [],
   "source": [
    "str2= \"this is my second string\""
   ]
  },
  {
   "cell_type": "code",
   "execution_count": 56,
   "id": "399cf1e3",
   "metadata": {},
   "outputs": [
    {
     "data": {
      "text/plain": [
       "'this is my second string'"
      ]
     },
     "execution_count": 56,
     "metadata": {},
     "output_type": "execute_result"
    }
   ],
   "source": [
    "str2\n"
   ]
  },
  {
   "cell_type": "code",
   "execution_count": 57,
   "id": "b0b877be",
   "metadata": {},
   "outputs": [],
   "source": [
    "str3= '''\n",
    "smit\n",
    "is \n",
    "python\n",
    "student\n",
    "'''\n"
   ]
  },
  {
   "cell_type": "code",
   "execution_count": 58,
   "id": "26f81f26",
   "metadata": {},
   "outputs": [
    {
     "data": {
      "text/plain": [
       "'\\nsmit\\nis \\npython\\nstudent\\n'"
      ]
     },
     "execution_count": 58,
     "metadata": {},
     "output_type": "execute_result"
    }
   ],
   "source": [
    "str3"
   ]
  },
  {
   "cell_type": "code",
   "execution_count": 59,
   "id": "eda6d88f",
   "metadata": {},
   "outputs": [],
   "source": [
    "# extraction indiual character:\n"
   ]
  },
  {
   "cell_type": "code",
   "execution_count": 60,
   "id": "1e99beb8",
   "metadata": {},
   "outputs": [],
   "source": [
    "my_string=\"my name is  smit\""
   ]
  },
  {
   "cell_type": "code",
   "execution_count": 61,
   "id": "b561aefd",
   "metadata": {},
   "outputs": [
    {
     "data": {
      "text/plain": [
       "'m'"
      ]
     },
     "execution_count": 61,
     "metadata": {},
     "output_type": "execute_result"
    }
   ],
   "source": [
    "my_string[0]"
   ]
  },
  {
   "cell_type": "code",
   "execution_count": 62,
   "id": "c8ee5e50",
   "metadata": {},
   "outputs": [
    {
     "data": {
      "text/plain": [
       "'t'"
      ]
     },
     "execution_count": 62,
     "metadata": {},
     "output_type": "execute_result"
    }
   ],
   "source": [
    "my_string[-1]"
   ]
  },
  {
   "cell_type": "code",
   "execution_count": 63,
   "id": "668b3e60",
   "metadata": {},
   "outputs": [
    {
     "data": {
      "text/plain": [
       "' is '"
      ]
     },
     "execution_count": 63,
     "metadata": {},
     "output_type": "execute_result"
    }
   ],
   "source": [
    "my_string[7:11]"
   ]
  },
  {
   "cell_type": "code",
   "execution_count": 64,
   "id": "a810d9df",
   "metadata": {},
   "outputs": [
    {
     "data": {
      "text/plain": [
       "16"
      ]
     },
     "execution_count": 64,
     "metadata": {},
     "output_type": "execute_result"
    }
   ],
   "source": [
    "len(my_string)"
   ]
  },
  {
   "cell_type": "code",
   "execution_count": 65,
   "id": "71dd09ab",
   "metadata": {},
   "outputs": [
    {
     "data": {
      "text/plain": [
       "'MY NAME IS  SMIT'"
      ]
     },
     "execution_count": 65,
     "metadata": {},
     "output_type": "execute_result"
    }
   ],
   "source": [
    "my_string.upper()"
   ]
  },
  {
   "cell_type": "code",
   "execution_count": 66,
   "id": "07cb5081",
   "metadata": {},
   "outputs": [
    {
     "data": {
      "text/plain": [
       "'ma name is  smit'"
      ]
     },
     "execution_count": 66,
     "metadata": {},
     "output_type": "execute_result"
    }
   ],
   "source": [
    "my_string.replace('y','a')"
   ]
  },
  {
   "cell_type": "code",
   "execution_count": 67,
   "id": "71cc111f",
   "metadata": {},
   "outputs": [
    {
     "data": {
      "text/plain": [
       "2"
      ]
     },
     "execution_count": 67,
     "metadata": {},
     "output_type": "execute_result"
    }
   ],
   "source": [
    "my_string.count('i')"
   ]
  },
  {
   "cell_type": "code",
   "execution_count": 68,
   "id": "b8ac650a",
   "metadata": {},
   "outputs": [
    {
     "data": {
      "text/plain": [
       "'my name are  smit'"
      ]
     },
     "execution_count": 68,
     "metadata": {},
     "output_type": "execute_result"
    }
   ],
   "source": [
    "my_string.replace('is','are')"
   ]
  },
  {
   "cell_type": "code",
   "execution_count": 69,
   "id": "b860562a",
   "metadata": {},
   "outputs": [
    {
     "data": {
      "text/plain": [
       "8"
      ]
     },
     "execution_count": 69,
     "metadata": {},
     "output_type": "execute_result"
    }
   ],
   "source": [
    "s1 = 'this is sparta!!!'\n",
    "s1.find('sparta')"
   ]
  },
  {
   "cell_type": "code",
   "execution_count": 70,
   "id": "e8e52991",
   "metadata": {},
   "outputs": [
    {
     "data": {
      "text/plain": [
       "['I like apples ', 'mangos ', 'bananas']"
      ]
     },
     "execution_count": 70,
     "metadata": {},
     "output_type": "execute_result"
    }
   ],
   "source": [
    "fruit ='I like apples ,mangos ,bananas'\n",
    "fruit.split(',')"
   ]
  },
  {
   "cell_type": "code",
   "execution_count": 71,
   "id": "5b1fcfcc",
   "metadata": {},
   "outputs": [
    {
     "data": {
      "text/plain": [
       "'president obama is the best president of united states'"
      ]
     },
     "execution_count": 71,
     "metadata": {},
     "output_type": "execute_result"
    }
   ],
   "source": [
    "str_final = \"president obama is the best president of united states\"\n",
    "str_final"
   ]
  },
  {
   "cell_type": "code",
   "execution_count": 72,
   "id": "c82c3a94",
   "metadata": {},
   "outputs": [
    {
     "data": {
      "text/plain": [
       "['pr',\n",
       " 'sid',\n",
       " 'nt obama is th',\n",
       " ' b',\n",
       " 'st pr',\n",
       " 'sid',\n",
       " 'nt of unit',\n",
       " 'd stat',\n",
       " 's']"
      ]
     },
     "execution_count": 72,
     "metadata": {},
     "output_type": "execute_result"
    }
   ],
   "source": [
    "str_final.split('e')"
   ]
  },
  {
   "cell_type": "code",
   "execution_count": 73,
   "id": "efd7a37c",
   "metadata": {},
   "outputs": [],
   "source": [
    "#collction:"
   ]
  },
  {
   "cell_type": "code",
   "execution_count": 74,
   "id": "5a41749a",
   "metadata": {},
   "outputs": [],
   "source": [
    "#tuple:\n",
    "\n",
    "tup1=(1,True,3.14,5-7j)"
   ]
  },
  {
   "cell_type": "code",
   "execution_count": 75,
   "id": "cb9c0343",
   "metadata": {},
   "outputs": [
    {
     "data": {
      "text/plain": [
       "(1, True, 3.14, (5-7j))"
      ]
     },
     "execution_count": 75,
     "metadata": {},
     "output_type": "execute_result"
    }
   ],
   "source": [
    "tup1"
   ]
  },
  {
   "cell_type": "code",
   "execution_count": 76,
   "id": "c591819b",
   "metadata": {},
   "outputs": [
    {
     "data": {
      "text/plain": [
       "tuple"
      ]
     },
     "execution_count": 76,
     "metadata": {},
     "output_type": "execute_result"
    }
   ],
   "source": [
    "type(tup1)"
   ]
  },
  {
   "cell_type": "code",
   "execution_count": 77,
   "id": "e9b56053",
   "metadata": {},
   "outputs": [
    {
     "data": {
      "text/plain": [
       "1"
      ]
     },
     "execution_count": 77,
     "metadata": {},
     "output_type": "execute_result"
    }
   ],
   "source": [
    "tup1[0]"
   ]
  },
  {
   "cell_type": "code",
   "execution_count": 78,
   "id": "23b30aa1",
   "metadata": {},
   "outputs": [
    {
     "data": {
      "text/plain": [
       "(5-7j)"
      ]
     },
     "execution_count": 78,
     "metadata": {},
     "output_type": "execute_result"
    }
   ],
   "source": [
    "tup1[-1]"
   ]
  },
  {
   "cell_type": "code",
   "execution_count": 79,
   "id": "1417b9a8",
   "metadata": {},
   "outputs": [
    {
     "data": {
      "text/plain": [
       "(1, True)"
      ]
     },
     "execution_count": 79,
     "metadata": {},
     "output_type": "execute_result"
    }
   ],
   "source": [
    "tup1[0:2]"
   ]
  },
  {
   "cell_type": "code",
   "execution_count": 81,
   "id": "04338b67",
   "metadata": {},
   "outputs": [
    {
     "ename": "TypeError",
     "evalue": "'tuple' object does not support item assignment",
     "output_type": "error",
     "traceback": [
      "\u001b[1;31m---------------------------------------------------------------------------\u001b[0m",
      "\u001b[1;31mTypeError\u001b[0m                                 Traceback (most recent call last)",
      "Input \u001b[1;32mIn [81]\u001b[0m, in \u001b[0;36m<cell line: 1>\u001b[1;34m()\u001b[0m\n\u001b[1;32m----> 1\u001b[0m tup1[\u001b[38;5;241m2\u001b[39m]\u001b[38;5;241m=\u001b[39m[\u001b[38;5;124m\"\u001b[39m\u001b[38;5;124mthis is  sparta\u001b[39m\u001b[38;5;124m\"\u001b[39m]\n",
      "\u001b[1;31mTypeError\u001b[0m: 'tuple' object does not support item assignment"
     ]
    }
   ],
   "source": [
    "tup1[2]=[\"this is  sparta\"]"
   ]
  },
  {
   "cell_type": "code",
   "execution_count": 82,
   "id": "5df9801c",
   "metadata": {},
   "outputs": [
    {
     "data": {
      "text/plain": [
       "4"
      ]
     },
     "execution_count": 82,
     "metadata": {},
     "output_type": "execute_result"
    }
   ],
   "source": [
    " len(tup1)"
   ]
  },
  {
   "cell_type": "code",
   "execution_count": 83,
   "id": "16906250",
   "metadata": {},
   "outputs": [
    {
     "data": {
      "text/plain": [
       "(1, 2, 3, 4, 5, 6)"
      ]
     },
     "execution_count": 83,
     "metadata": {},
     "output_type": "execute_result"
    }
   ],
   "source": [
    "tup1=(1,2,3)\n",
    "tup2=(4,5,6)\n",
    "tup1+tup2"
   ]
  },
  {
   "cell_type": "code",
   "execution_count": 84,
   "id": "524ae5ac",
   "metadata": {},
   "outputs": [
    {
     "data": {
      "text/plain": [
       "((1, 2, 3), (4, 5, 6))"
      ]
     },
     "execution_count": 84,
     "metadata": {},
     "output_type": "execute_result"
    }
   ],
   "source": [
    "tup1,tup2"
   ]
  },
  {
   "cell_type": "code",
   "execution_count": 85,
   "id": "19271eba",
   "metadata": {},
   "outputs": [
    {
     "data": {
      "text/plain": [
       "(4, 5, 6, 1, 2, 3)"
      ]
     },
     "execution_count": 85,
     "metadata": {},
     "output_type": "execute_result"
    }
   ],
   "source": [
    "tup2+tup1"
   ]
  },
  {
   "cell_type": "code",
   "execution_count": 86,
   "id": "7a2e789f",
   "metadata": {},
   "outputs": [
    {
     "data": {
      "text/plain": [
       "(91, 2, 'smit', 91, 2, 'smit', 91, 2, 'smit')"
      ]
     },
     "execution_count": 86,
     "metadata": {},
     "output_type": "execute_result"
    }
   ],
   "source": [
    "tup1=91,2,'smit'\n",
    "tup1*3\n"
   ]
  },
  {
   "cell_type": "code",
   "execution_count": 87,
   "id": "0693cfd2",
   "metadata": {},
   "outputs": [
    {
     "ename": "SyntaxError",
     "evalue": "cannot assign to operator (3610909143.py, line 1)",
     "output_type": "error",
     "traceback": [
      "\u001b[1;36m  Input \u001b[1;32mIn [87]\u001b[1;36m\u001b[0m\n\u001b[1;33m    tup1*5 = tup2\u001b[0m\n\u001b[1;37m    ^\u001b[0m\n\u001b[1;31mSyntaxError\u001b[0m\u001b[1;31m:\u001b[0m cannot assign to operator\n"
     ]
    }
   ],
   "source": [
    "tup1*5 = tup2"
   ]
  },
  {
   "cell_type": "code",
   "execution_count": 88,
   "id": "251be256",
   "metadata": {},
   "outputs": [
    {
     "ename": "TypeError",
     "evalue": "'<' not supported between instances of 'str' and 'int'",
     "output_type": "error",
     "traceback": [
      "\u001b[1;31m---------------------------------------------------------------------------\u001b[0m",
      "\u001b[1;31mTypeError\u001b[0m                                 Traceback (most recent call last)",
      "Input \u001b[1;32mIn [88]\u001b[0m, in \u001b[0;36m<cell line: 1>\u001b[1;34m()\u001b[0m\n\u001b[1;32m----> 1\u001b[0m \u001b[38;5;28;43mmin\u001b[39;49m\u001b[43m(\u001b[49m\u001b[43mtup1\u001b[49m\u001b[43m)\u001b[49m\n",
      "\u001b[1;31mTypeError\u001b[0m: '<' not supported between instances of 'str' and 'int'"
     ]
    }
   ],
   "source": [
    "min(tup1)"
   ]
  },
  {
   "cell_type": "code",
   "execution_count": 89,
   "id": "339bbe73",
   "metadata": {},
   "outputs": [],
   "source": [
    "#list: [ ]"
   ]
  },
  {
   "cell_type": "code",
   "execution_count": 90,
   "id": "65642a6e",
   "metadata": {},
   "outputs": [],
   "source": [
    "l1 = [1,'smit',3.14,True]"
   ]
  },
  {
   "cell_type": "code",
   "execution_count": 91,
   "id": "70d39989",
   "metadata": {},
   "outputs": [
    {
     "data": {
      "text/plain": [
       "[1, 'smit', 3.14, True]"
      ]
     },
     "execution_count": 91,
     "metadata": {},
     "output_type": "execute_result"
    }
   ],
   "source": [
    "l1"
   ]
  },
  {
   "cell_type": "code",
   "execution_count": 92,
   "id": "28d11bc0",
   "metadata": {},
   "outputs": [
    {
     "data": {
      "text/plain": [
       "list"
      ]
     },
     "execution_count": 92,
     "metadata": {},
     "output_type": "execute_result"
    }
   ],
   "source": [
    "type(l1)"
   ]
  },
  {
   "cell_type": "code",
   "execution_count": 93,
   "id": "f95776ed",
   "metadata": {},
   "outputs": [
    {
     "data": {
      "text/plain": [
       "1"
      ]
     },
     "execution_count": 93,
     "metadata": {},
     "output_type": "execute_result"
    }
   ],
   "source": [
    "l1[0]"
   ]
  },
  {
   "cell_type": "code",
   "execution_count": 94,
   "id": "f661e51b",
   "metadata": {},
   "outputs": [
    {
     "data": {
      "text/plain": [
       "True"
      ]
     },
     "execution_count": 94,
     "metadata": {},
     "output_type": "execute_result"
    }
   ],
   "source": [
    "l1[-1]"
   ]
  },
  {
   "cell_type": "code",
   "execution_count": 95,
   "id": "e6259454",
   "metadata": {},
   "outputs": [
    {
     "data": {
      "text/plain": [
       "['smit', 3.14]"
      ]
     },
     "execution_count": 95,
     "metadata": {},
     "output_type": "execute_result"
    }
   ],
   "source": [
    "l1[1:3]"
   ]
  },
  {
   "cell_type": "code",
   "execution_count": 96,
   "id": "12fff548",
   "metadata": {},
   "outputs": [
    {
     "data": {
      "text/plain": [
       "[100, 'smit', 3.14, True]"
      ]
     },
     "execution_count": 96,
     "metadata": {},
     "output_type": "execute_result"
    }
   ],
   "source": [
    "l1[0]=100\n",
    "l1"
   ]
  },
  {
   "cell_type": "code",
   "execution_count": 97,
   "id": "cc81f2c4",
   "metadata": {},
   "outputs": [
    {
     "data": {
      "text/plain": [
       "[100, 'smit', 3.14, True, -87.99]"
      ]
     },
     "execution_count": 97,
     "metadata": {},
     "output_type": "execute_result"
    }
   ],
   "source": [
    "l1.append(-87.99)\n",
    "l1"
   ]
  },
  {
   "cell_type": "code",
   "execution_count": 98,
   "id": "5fcdc5fc",
   "metadata": {},
   "outputs": [
    {
     "data": {
      "text/plain": [
       "[100, 'smit', 3.14, True]"
      ]
     },
     "execution_count": 98,
     "metadata": {},
     "output_type": "execute_result"
    }
   ],
   "source": [
    "l1.pop()\n",
    "l1"
   ]
  },
  {
   "cell_type": "code",
   "execution_count": 99,
   "id": "f0f4d8fc",
   "metadata": {},
   "outputs": [
    {
     "data": {
      "text/plain": [
       "[True, 3.14, 'smit', 100]"
      ]
     },
     "execution_count": 99,
     "metadata": {},
     "output_type": "execute_result"
    }
   ],
   "source": [
    "l1.reverse()\n",
    "l1"
   ]
  },
  {
   "cell_type": "code",
   "execution_count": 100,
   "id": "ca4195c6",
   "metadata": {},
   "outputs": [],
   "source": [
    "l1 = ['434',12,90,True,False]"
   ]
  },
  {
   "cell_type": "code",
   "execution_count": 101,
   "id": "5aeed4ac",
   "metadata": {},
   "outputs": [],
   "source": [
    "l1.reverse()\n"
   ]
  },
  {
   "cell_type": "code",
   "execution_count": 102,
   "id": "a81418fc",
   "metadata": {},
   "outputs": [
    {
     "data": {
      "text/plain": [
       "[False, True, 90, 12, '434']"
      ]
     },
     "execution_count": 102,
     "metadata": {},
     "output_type": "execute_result"
    }
   ],
   "source": [
    " l1"
   ]
  },
  {
   "cell_type": "code",
   "execution_count": 103,
   "id": "4906aef9",
   "metadata": {},
   "outputs": [],
   "source": [
    "l1.insert(1,'hello')"
   ]
  },
  {
   "cell_type": "code",
   "execution_count": 104,
   "id": "8d2a245d",
   "metadata": {},
   "outputs": [
    {
     "data": {
      "text/plain": [
       "[False, 'hello', True, 90, 12, '434']"
      ]
     },
     "execution_count": 104,
     "metadata": {},
     "output_type": "execute_result"
    }
   ],
   "source": [
    "l1"
   ]
  },
  {
   "cell_type": "code",
   "execution_count": 105,
   "id": "88733303",
   "metadata": {},
   "outputs": [],
   "source": [
    "l1 = ['s','m','i','t']\n"
   ]
  },
  {
   "cell_type": "code",
   "execution_count": 106,
   "id": "8f10c4f7",
   "metadata": {},
   "outputs": [],
   "source": [
    "l1.sort()"
   ]
  },
  {
   "cell_type": "code",
   "execution_count": 107,
   "id": "757f9c22",
   "metadata": {},
   "outputs": [
    {
     "data": {
      "text/plain": [
       "['i', 'm', 's', 't']"
      ]
     },
     "execution_count": 107,
     "metadata": {},
     "output_type": "execute_result"
    }
   ],
   "source": [
    "l1"
   ]
  },
  {
   "cell_type": "code",
   "execution_count": 108,
   "id": "4364dcad",
   "metadata": {},
   "outputs": [
    {
     "data": {
      "text/plain": [
       "[1, 2, 3, 'a', 'b', 'c']"
      ]
     },
     "execution_count": 108,
     "metadata": {},
     "output_type": "execute_result"
    }
   ],
   "source": [
    "l1=[1,2,3]\n",
    "l2=['a','b','c']\n",
    "l1+l2"
   ]
  },
  {
   "cell_type": "code",
   "execution_count": 109,
   "id": "646ca14c",
   "metadata": {},
   "outputs": [
    {
     "data": {
      "text/plain": [
       "[1, 'a', True, 1, 'a', True, 1, 'a', True]"
      ]
     },
     "execution_count": 109,
     "metadata": {},
     "output_type": "execute_result"
    }
   ],
   "source": [
    "l1 = [1,'a',True]\n",
    "l1*3"
   ]
  },
  {
   "cell_type": "code",
   "execution_count": 110,
   "id": "7f605f3e",
   "metadata": {},
   "outputs": [],
   "source": [
    "#dictionary:\n",
    "\n"
   ]
  },
  {
   "cell_type": "code",
   "execution_count": 111,
   "id": "107a1eb2",
   "metadata": {},
   "outputs": [],
   "source": [
    "d1 = {\"apple\":10,\"orenge\":20,\"banana\":500}"
   ]
  },
  {
   "cell_type": "code",
   "execution_count": 112,
   "id": "c34fc400",
   "metadata": {},
   "outputs": [
    {
     "data": {
      "text/plain": [
       "{'apple': 10, 'orenge': 20, 'banana': 500}"
      ]
     },
     "execution_count": 112,
     "metadata": {},
     "output_type": "execute_result"
    }
   ],
   "source": [
    "d1"
   ]
  },
  {
   "cell_type": "code",
   "execution_count": 113,
   "id": "0d1a7c49",
   "metadata": {},
   "outputs": [
    {
     "data": {
      "text/plain": [
       "dict"
      ]
     },
     "execution_count": 113,
     "metadata": {},
     "output_type": "execute_result"
    }
   ],
   "source": [
    "type(d1)"
   ]
  },
  {
   "cell_type": "code",
   "execution_count": 114,
   "id": "cf7e27da",
   "metadata": {},
   "outputs": [
    {
     "data": {
      "text/plain": [
       "dict_keys(['apple', 'orenge', 'banana'])"
      ]
     },
     "execution_count": 114,
     "metadata": {},
     "output_type": "execute_result"
    }
   ],
   "source": [
    "d1.keys() "
   ]
  },
  {
   "cell_type": "code",
   "execution_count": 115,
   "id": "9ccd9fcc",
   "metadata": {},
   "outputs": [
    {
     "data": {
      "text/plain": [
       "dict_values([10, 20, 500])"
      ]
     },
     "execution_count": 115,
     "metadata": {},
     "output_type": "execute_result"
    }
   ],
   "source": [
    "d1.values()"
   ]
  },
  {
   "cell_type": "code",
   "execution_count": 116,
   "id": "32be33bc",
   "metadata": {},
   "outputs": [
    {
     "data": {
      "text/plain": [
       "{'apple': 10, 'orenge': 20, 'banana': 500}"
      ]
     },
     "execution_count": 116,
     "metadata": {},
     "output_type": "execute_result"
    }
   ],
   "source": [
    "\n",
    "d1"
   ]
  },
  {
   "cell_type": "code",
   "execution_count": 117,
   "id": "f55adde4",
   "metadata": {},
   "outputs": [],
   "source": [
    "d1['mango']=5"
   ]
  },
  {
   "cell_type": "code",
   "execution_count": 118,
   "id": "92bc6ce4",
   "metadata": {},
   "outputs": [
    {
     "data": {
      "text/plain": [
       "{'apple': 10, 'orenge': 20, 'banana': 500, 'mango': 5}"
      ]
     },
     "execution_count": 118,
     "metadata": {},
     "output_type": "execute_result"
    }
   ],
   "source": [
    "d1\n"
   ]
  },
  {
   "cell_type": "code",
   "execution_count": 119,
   "id": "ecf94309",
   "metadata": {},
   "outputs": [],
   "source": [
    "d1['banana']=50"
   ]
  },
  {
   "cell_type": "code",
   "execution_count": 120,
   "id": "610af294",
   "metadata": {},
   "outputs": [
    {
     "data": {
      "text/plain": [
       "{'apple': 10, 'orenge': 20, 'banana': 50, 'mango': 5}"
      ]
     },
     "execution_count": 120,
     "metadata": {},
     "output_type": "execute_result"
    }
   ],
   "source": [
    "d1"
   ]
  },
  {
   "cell_type": "code",
   "execution_count": 121,
   "id": "a57d0841",
   "metadata": {},
   "outputs": [
    {
     "data": {
      "text/plain": [
       "{'apple': 10, 'orenge': 20, 'banana': 50, 'mango': 5}"
      ]
     },
     "execution_count": 121,
     "metadata": {},
     "output_type": "execute_result"
    }
   ],
   "source": [
    "d1"
   ]
  },
  {
   "cell_type": "code",
   "execution_count": 122,
   "id": "131ffc39",
   "metadata": {},
   "outputs": [
    {
     "data": {
      "text/plain": [
       "{'watermelon': 1000, 'grepes': 750, 'maskmeloon': 850}"
      ]
     },
     "execution_count": 122,
     "metadata": {},
     "output_type": "execute_result"
    }
   ],
   "source": [
    "d2 = {'watermelon': 1000,'grepes':750,'maskmeloon':850}\n",
    "d2"
   ]
  },
  {
   "cell_type": "code",
   "execution_count": 123,
   "id": "79195fd1",
   "metadata": {},
   "outputs": [],
   "source": [
    "d1.update(d2)"
   ]
  },
  {
   "cell_type": "code",
   "execution_count": 124,
   "id": "44d8b7ca",
   "metadata": {},
   "outputs": [
    {
     "data": {
      "text/plain": [
       "{'apple': 10,\n",
       " 'orenge': 20,\n",
       " 'banana': 50,\n",
       " 'mango': 5,\n",
       " 'watermelon': 1000,\n",
       " 'grepes': 750,\n",
       " 'maskmeloon': 850}"
      ]
     },
     "execution_count": 124,
     "metadata": {},
     "output_type": "execute_result"
    }
   ],
   "source": [
    "d1"
   ]
  },
  {
   "cell_type": "code",
   "execution_count": 125,
   "id": "54e61b67",
   "metadata": {},
   "outputs": [
    {
     "data": {
      "text/plain": [
       "50"
      ]
     },
     "execution_count": 125,
     "metadata": {},
     "output_type": "execute_result"
    }
   ],
   "source": [
    "d1.pop('banana',\"banan\")"
   ]
  },
  {
   "cell_type": "code",
   "execution_count": 126,
   "id": "d06bc300",
   "metadata": {},
   "outputs": [
    {
     "data": {
      "text/plain": [
       "{'apple': 10,\n",
       " 'orenge': 20,\n",
       " 'mango': 5,\n",
       " 'watermelon': 1000,\n",
       " 'grepes': 750,\n",
       " 'maskmeloon': 850}"
      ]
     },
     "execution_count": 126,
     "metadata": {},
     "output_type": "execute_result"
    }
   ],
   "source": [
    "d1"
   ]
  },
  {
   "cell_type": "code",
   "execution_count": 127,
   "id": "8046bff4",
   "metadata": {},
   "outputs": [],
   "source": [
    "#set:\n"
   ]
  },
  {
   "cell_type": "code",
   "execution_count": 128,
   "id": "b2acf0db",
   "metadata": {},
   "outputs": [
    {
     "data": {
      "text/plain": [
       "{1, 2, 'smit'}"
      ]
     },
     "execution_count": 128,
     "metadata": {},
     "output_type": "execute_result"
    }
   ],
   "source": [
    "s1={1,2,'smit'}\n",
    "s1"
   ]
  },
  {
   "cell_type": "code",
   "execution_count": 129,
   "id": "7e5e14e3",
   "metadata": {},
   "outputs": [
    {
     "data": {
      "text/plain": [
       "{1, 2, 2.14, 'smit'}"
      ]
     },
     "execution_count": 129,
     "metadata": {},
     "output_type": "execute_result"
    }
   ],
   "source": [
    "s1={1,2.14,'smit',2,'smit'}\n",
    "s1"
   ]
  },
  {
   "cell_type": "code",
   "execution_count": 130,
   "id": "1ce93a34",
   "metadata": {},
   "outputs": [],
   "source": [
    "s1.add(False)"
   ]
  },
  {
   "cell_type": "code",
   "execution_count": 131,
   "id": "169b6a1c",
   "metadata": {},
   "outputs": [
    {
     "data": {
      "text/plain": [
       "{1, 2, 2.14, False, 'smit'}"
      ]
     },
     "execution_count": 131,
     "metadata": {},
     "output_type": "execute_result"
    }
   ],
   "source": [
    "s1"
   ]
  },
  {
   "cell_type": "code",
   "execution_count": 132,
   "id": "0ff46def",
   "metadata": {},
   "outputs": [],
   "source": [
    "s1.update(['hello',56265,5+7j])"
   ]
  },
  {
   "cell_type": "code",
   "execution_count": 133,
   "id": "9efa3f75",
   "metadata": {},
   "outputs": [
    {
     "data": {
      "text/plain": [
       "{(5+7j), 1, 2, 2.14, 56265, False, 'hello', 'smit'}"
      ]
     },
     "execution_count": 133,
     "metadata": {},
     "output_type": "execute_result"
    }
   ],
   "source": [
    "s1"
   ]
  },
  {
   "cell_type": "code",
   "execution_count": 134,
   "id": "13201d3f",
   "metadata": {},
   "outputs": [],
   "source": [
    "s1={1,2,3,4,5,6,7,8}\n",
    "s2={5,6}"
   ]
  },
  {
   "cell_type": "code",
   "execution_count": 135,
   "id": "866232ea",
   "metadata": {},
   "outputs": [
    {
     "data": {
      "text/plain": [
       "{1, 2, 3, 4, 5, 6, 7, 8}"
      ]
     },
     "execution_count": 135,
     "metadata": {},
     "output_type": "execute_result"
    }
   ],
   "source": [
    "s1.union(s2)"
   ]
  },
  {
   "cell_type": "code",
   "execution_count": 136,
   "id": "557f87ba",
   "metadata": {},
   "outputs": [
    {
     "data": {
      "text/plain": [
       "{5, 6}"
      ]
     },
     "execution_count": 136,
     "metadata": {},
     "output_type": "execute_result"
    }
   ],
   "source": [
    "s3 = {5,6,10}\n",
    "s1.intersection(s3)\n"
   ]
  },
  {
   "cell_type": "code",
   "execution_count": 137,
   "id": "7e0428bf",
   "metadata": {},
   "outputs": [],
   "source": [
    "#if____ statsment:\n",
    "\n"
   ]
  },
  {
   "cell_type": "code",
   "execution_count": 138,
   "id": "830b9f37",
   "metadata": {},
   "outputs": [],
   "source": [
    "a=10"
   ]
  },
  {
   "cell_type": "code",
   "execution_count": 139,
   "id": "faed065c",
   "metadata": {},
   "outputs": [],
   "source": [
    "b=20"
   ]
  },
  {
   "cell_type": "code",
   "execution_count": 140,
   "id": "7ada41a3",
   "metadata": {},
   "outputs": [],
   "source": [
    "if a>b:\n",
    "    print(\"B is greter than A\")"
   ]
  },
  {
   "cell_type": "code",
   "execution_count": 141,
   "id": "e170dafe",
   "metadata": {},
   "outputs": [
    {
     "name": "stdout",
     "output_type": "stream",
     "text": [
      "b is greter than A\n"
     ]
    }
   ],
   "source": [
    "if a>b:\n",
    "    print(\"A is greter than A\")\n",
    "else:\n",
    "    print(\"b is greter than A\")"
   ]
  },
  {
   "cell_type": "code",
   "execution_count": 142,
   "id": "4e3529cc",
   "metadata": {},
   "outputs": [],
   "source": [
    "a=10\n",
    "b=20\n",
    "c=30"
   ]
  },
  {
   "cell_type": "code",
   "execution_count": 143,
   "id": "bf218f93",
   "metadata": {},
   "outputs": [
    {
     "name": "stdout",
     "output_type": "stream",
     "text": [
      "C is the greatest\n"
     ]
    }
   ],
   "source": [
    "if (a>b) & (a>c):\n",
    "    print(\"A is the greatest\")\n",
    "elif (b>a) & (b>c):\n",
    "    print(\"b is the greatest\")\n",
    "else:\n",
    "    print(\"C is the greatest\")"
   ]
  },
  {
   "cell_type": "code",
   "execution_count": 144,
   "id": "82bd7425",
   "metadata": {},
   "outputs": [],
   "source": [
    "# if with tuple:\n"
   ]
  },
  {
   "cell_type": "code",
   "execution_count": 145,
   "id": "9eebb79d",
   "metadata": {},
   "outputs": [],
   "source": [
    "tup1 = ('a','b','c')"
   ]
  },
  {
   "cell_type": "code",
   "execution_count": 146,
   "id": "078928db",
   "metadata": {},
   "outputs": [
    {
     "name": "stdout",
     "output_type": "stream",
     "text": [
      "value z is not present in tup1\n"
     ]
    }
   ],
   "source": [
    "if 'z'in tup1:\n",
    "    print(\"value a is present in tup1\")\n",
    "else:\n",
    "    print(\"value z is not present in tup1\")"
   ]
  },
  {
   "cell_type": "code",
   "execution_count": 147,
   "id": "52f5cee5",
   "metadata": {},
   "outputs": [],
   "source": [
    "#if with list:"
   ]
  },
  {
   "cell_type": "code",
   "execution_count": 148,
   "id": "98f2b453",
   "metadata": {},
   "outputs": [],
   "source": [
    "l1 = [ 'a','b','c']"
   ]
  },
  {
   "cell_type": "code",
   "execution_count": 149,
   "id": "c83fff73",
   "metadata": {},
   "outputs": [],
   "source": [
    "if l1[1]=='b':\n",
    "    l1[1]='z'"
   ]
  },
  {
   "cell_type": "code",
   "execution_count": 150,
   "id": "afbfb17d",
   "metadata": {},
   "outputs": [
    {
     "data": {
      "text/plain": [
       "['a', 'z', 'c']"
      ]
     },
     "execution_count": 150,
     "metadata": {},
     "output_type": "execute_result"
    }
   ],
   "source": [
    "l1"
   ]
  },
  {
   "cell_type": "code",
   "execution_count": 151,
   "id": "0cc217a6",
   "metadata": {},
   "outputs": [],
   "source": [
    "# if with disctiony:\n"
   ]
  },
  {
   "cell_type": "code",
   "execution_count": 152,
   "id": "bc686376",
   "metadata": {},
   "outputs": [],
   "source": [
    "d1 = {'k1':10,'k2':20,'k3':30}"
   ]
  },
  {
   "cell_type": "code",
   "execution_count": 153,
   "id": "dfae4237",
   "metadata": {},
   "outputs": [
    {
     "data": {
      "text/plain": [
       "{'k1': 10, 'k2': 20, 'k3': 30}"
      ]
     },
     "execution_count": 153,
     "metadata": {},
     "output_type": "execute_result"
    }
   ],
   "source": [
    "d1"
   ]
  },
  {
   "cell_type": "code",
   "execution_count": 154,
   "id": "af79654d",
   "metadata": {},
   "outputs": [],
   "source": [
    "if d1['k3']==30:\n",
    "    d1['k3']=d1['k3']+100"
   ]
  },
  {
   "cell_type": "code",
   "execution_count": 155,
   "id": "7050f665",
   "metadata": {},
   "outputs": [
    {
     "data": {
      "text/plain": [
       "{'k1': 10, 'k2': 20, 'k3': 130}"
      ]
     },
     "execution_count": 155,
     "metadata": {},
     "output_type": "execute_result"
    }
   ],
   "source": [
    "d1"
   ]
  },
  {
   "cell_type": "code",
   "execution_count": 156,
   "id": "51bca5cf",
   "metadata": {},
   "outputs": [],
   "source": [
    "#looping statement:\n",
    "\n",
    "#while:\n"
   ]
  },
  {
   "cell_type": "code",
   "execution_count": 157,
   "id": "eb122fbf",
   "metadata": {},
   "outputs": [
    {
     "name": "stdout",
     "output_type": "stream",
     "text": [
      "1\n",
      "2\n",
      "3\n",
      "4\n",
      "5\n",
      "6\n",
      "7\n",
      "8\n",
      "9\n",
      "10\n"
     ]
    }
   ],
   "source": [
    "i=1\n",
    "while i<=10:\n",
    "    print(i)\n",
    "    i=i+1"
   ]
  },
  {
   "cell_type": "code",
   "execution_count": 158,
   "id": "084040c4",
   "metadata": {},
   "outputs": [
    {
     "name": "stdout",
     "output_type": "stream",
     "text": [
      "500 * 1 = 500\n",
      "500 * 2 = 1000\n",
      "500 * 3 = 1500\n",
      "500 * 4 = 2000\n",
      "500 * 5 = 2500\n",
      "500 * 6 = 3000\n",
      "500 * 7 = 3500\n",
      "500 * 8 = 4000\n",
      "500 * 9 = 4500\n",
      "500 * 10 = 5000\n",
      "500 * 11 = 5500\n",
      "500 * 12 = 6000\n",
      "500 * 13 = 6500\n",
      "500 * 14 = 7000\n",
      "500 * 15 = 7500\n",
      "500 * 16 = 8000\n",
      "500 * 17 = 8500\n",
      "500 * 18 = 9000\n",
      "500 * 19 = 9500\n",
      "500 * 20 = 10000\n"
     ]
    }
   ],
   "source": [
    "i=1\n",
    "n=500\n",
    "while i <=20:\n",
    "    print(n,'*',i,\"=\",n*i)\n",
    "    i=i+1"
   ]
  },
  {
   "cell_type": "code",
   "execution_count": 159,
   "id": "31549ea6",
   "metadata": {},
   "outputs": [],
   "source": [
    "#while with list:\n"
   ]
  },
  {
   "cell_type": "code",
   "execution_count": 160,
   "id": "ffdfdf56",
   "metadata": {},
   "outputs": [],
   "source": [
    "l1=[1,2,3,4,5]"
   ]
  },
  {
   "cell_type": "code",
   "execution_count": 161,
   "id": "ae539997",
   "metadata": {},
   "outputs": [],
   "source": [
    "i=0"
   ]
  },
  {
   "cell_type": "code",
   "execution_count": 162,
   "id": "065873ae",
   "metadata": {},
   "outputs": [],
   "source": [
    "while i<len(l1):\n",
    "    l1[i]=l1[i]+100\n",
    "    i=i+1"
   ]
  },
  {
   "cell_type": "code",
   "execution_count": 163,
   "id": "fdd1398b",
   "metadata": {},
   "outputs": [
    {
     "data": {
      "text/plain": [
       "[101, 102, 103, 104, 105]"
      ]
     },
     "execution_count": 163,
     "metadata": {},
     "output_type": "execute_result"
    }
   ],
   "source": [
    "l1"
   ]
  },
  {
   "cell_type": "code",
   "execution_count": 164,
   "id": "9e1df058",
   "metadata": {},
   "outputs": [],
   "source": [
    "# for loop: "
   ]
  },
  {
   "cell_type": "code",
   "execution_count": 165,
   "id": "46c4c901",
   "metadata": {},
   "outputs": [],
   "source": [
    "l1= ['mango','apple', 'banana','orenge']"
   ]
  },
  {
   "cell_type": "code",
   "execution_count": 166,
   "id": "1d98b2a8",
   "metadata": {},
   "outputs": [
    {
     "name": "stdout",
     "output_type": "stream",
     "text": [
      "mango\n",
      "apple\n",
      "banana\n",
      "orenge\n"
     ]
    }
   ],
   "source": [
    "for i in l1:\n",
    "    print(i)"
   ]
  },
  {
   "cell_type": "code",
   "execution_count": 167,
   "id": "f114f8f3",
   "metadata": {},
   "outputs": [],
   "source": [
    "l1 = ['orenge', 'balck', 'white']\n",
    "l2= ['book','laptop','chair']"
   ]
  },
  {
   "cell_type": "code",
   "execution_count": 168,
   "id": "fb39cd52",
   "metadata": {},
   "outputs": [
    {
     "name": "stdout",
     "output_type": "stream",
     "text": [
      "orenge book\n",
      "orenge laptop\n",
      "orenge chair\n",
      "balck book\n",
      "balck laptop\n",
      "balck chair\n",
      "white book\n",
      "white laptop\n",
      "white chair\n"
     ]
    }
   ],
   "source": [
    "for i in l1:\n",
    "    for j in l2:\n",
    "        print(i,j)"
   ]
  },
  {
   "cell_type": "code",
   "execution_count": 169,
   "id": "0aec2181",
   "metadata": {},
   "outputs": [],
   "source": [
    "# function:\n"
   ]
  },
  {
   "cell_type": "code",
   "execution_count": 170,
   "id": "d0bbdd70",
   "metadata": {},
   "outputs": [],
   "source": [
    "def hello():\n",
    "    print(\"hello world\")"
   ]
  },
  {
   "cell_type": "code",
   "execution_count": 171,
   "id": "cb20ad04",
   "metadata": {},
   "outputs": [
    {
     "name": "stdout",
     "output_type": "stream",
     "text": [
      "hello world\n"
     ]
    }
   ],
   "source": [
    "hello()"
   ]
  },
  {
   "cell_type": "code",
   "execution_count": 172,
   "id": "0c7fae1b",
   "metadata": {},
   "outputs": [],
   "source": [
    "def add_10(x):\n",
    "    return x+10"
   ]
  },
  {
   "cell_type": "code",
   "execution_count": 173,
   "id": "bdf76495",
   "metadata": {},
   "outputs": [
    {
     "data": {
      "text/plain": [
       "19"
      ]
     },
     "execution_count": 173,
     "metadata": {},
     "output_type": "execute_result"
    }
   ],
   "source": [
    "add_10(9)"
   ]
  },
  {
   "cell_type": "code",
   "execution_count": 174,
   "id": "70d08443",
   "metadata": {},
   "outputs": [
    {
     "data": {
      "text/plain": [
       "15"
      ]
     },
     "execution_count": 174,
     "metadata": {},
     "output_type": "execute_result"
    }
   ],
   "source": [
    "add_10(5)"
   ]
  },
  {
   "cell_type": "code",
   "execution_count": 175,
   "id": "efa39073",
   "metadata": {},
   "outputs": [],
   "source": [
    "def odd_even(x):\n",
    "    if x%2==0:\n",
    "        print(x , \"is even\")\n",
    "    else:\n",
    "        print(x,\"is odd\")\n",
    "        "
   ]
  },
  {
   "cell_type": "code",
   "execution_count": 176,
   "id": "546d5553",
   "metadata": {},
   "outputs": [
    {
     "name": "stdout",
     "output_type": "stream",
     "text": [
      "10 is even\n"
     ]
    }
   ],
   "source": [
    "odd_even(10)"
   ]
  },
  {
   "cell_type": "code",
   "execution_count": 177,
   "id": "128d4544",
   "metadata": {},
   "outputs": [],
   "source": [
    "g=lambda x: x*x*x "
   ]
  },
  {
   "cell_type": "code",
   "execution_count": 178,
   "id": "b3977cc4",
   "metadata": {},
   "outputs": [
    {
     "data": {
      "text/plain": [
       "125"
      ]
     },
     "execution_count": 178,
     "metadata": {},
     "output_type": "execute_result"
    }
   ],
   "source": [
    "g(5)"
   ]
  },
  {
   "cell_type": "code",
   "execution_count": 179,
   "id": "1f67251b",
   "metadata": {},
   "outputs": [],
   "source": [
    "#lambda with filter:\n"
   ]
  },
  {
   "cell_type": "code",
   "execution_count": 180,
   "id": "80087137",
   "metadata": {},
   "outputs": [],
   "source": [
    "l1=[87,56,90,34,2,5,7,98]\n",
    "\n",
    "final_list=list(filter(lambda x:(x%2!=0),l1))"
   ]
  },
  {
   "cell_type": "code",
   "execution_count": 181,
   "id": "5299ab07",
   "metadata": {},
   "outputs": [
    {
     "data": {
      "text/plain": [
       "[87, 5, 7]"
      ]
     },
     "execution_count": 181,
     "metadata": {},
     "output_type": "execute_result"
    }
   ],
   "source": [
    "final_list"
   ]
  },
  {
   "cell_type": "code",
   "execution_count": 182,
   "id": "b585670a",
   "metadata": {},
   "outputs": [],
   "source": [
    "# lambda with map:"
   ]
  },
  {
   "cell_type": "code",
   "execution_count": 183,
   "id": "fe97a053",
   "metadata": {},
   "outputs": [],
   "source": [
    "l1=[1,2,3,4,5,6,7,8,9]"
   ]
  },
  {
   "cell_type": "code",
   "execution_count": 184,
   "id": "8e2feae3",
   "metadata": {},
   "outputs": [],
   "source": [
    "list_final_new=list(map(lambda x: x*2,l1))"
   ]
  },
  {
   "cell_type": "code",
   "execution_count": 185,
   "id": "41d6653a",
   "metadata": {},
   "outputs": [
    {
     "data": {
      "text/plain": [
       "[2, 4, 6, 8, 10, 12, 14, 16, 18]"
      ]
     },
     "execution_count": 185,
     "metadata": {},
     "output_type": "execute_result"
    }
   ],
   "source": [
    "list_final_new"
   ]
  },
  {
   "cell_type": "code",
   "execution_count": 186,
   "id": "dd3cfaf0",
   "metadata": {},
   "outputs": [],
   "source": [
    "from functools import reduce"
   ]
  },
  {
   "cell_type": "code",
   "execution_count": 187,
   "id": "7ed7a9f0",
   "metadata": {},
   "outputs": [],
   "source": [
    "sum=reduce(lambda x,y:x+y,l1)"
   ]
  },
  {
   "cell_type": "code",
   "execution_count": 188,
   "id": "6ce3499c",
   "metadata": {},
   "outputs": [
    {
     "data": {
      "text/plain": [
       "45"
      ]
     },
     "execution_count": 188,
     "metadata": {},
     "output_type": "execute_result"
    }
   ],
   "source": [
    "sum"
   ]
  },
  {
   "cell_type": "code",
   "execution_count": 180,
   "id": "df0dc4e0",
   "metadata": {},
   "outputs": [],
   "source": [
    "#oop:\n",
    "\n",
    "\n"
   ]
  },
  {
   "cell_type": "code",
   "execution_count": 181,
   "id": "5419e229",
   "metadata": {},
   "outputs": [],
   "source": [
    "#class/object:\n",
    "\n",
    "class Phone:\n",
    "    def make_call(self):             #class\n",
    "        print(\"i am making a call\")\n",
    "    def Play_game(self):\n",
    "        print(\"i am playing game\") \n"
   ]
  },
  {
   "cell_type": "code",
   "execution_count": 182,
   "id": "67050c59",
   "metadata": {},
   "outputs": [],
   "source": [
    "p1 =Phone()    #object"
   ]
  },
  {
   "cell_type": "code",
   "execution_count": 183,
   "id": "511dac21",
   "metadata": {},
   "outputs": [
    {
     "name": "stdout",
     "output_type": "stream",
     "text": [
      "i am making a call\n"
     ]
    }
   ],
   "source": [
    "p1.make_call()"
   ]
  },
  {
   "cell_type": "code",
   "execution_count": 184,
   "id": "aaf454c8",
   "metadata": {},
   "outputs": [
    {
     "name": "stdout",
     "output_type": "stream",
     "text": [
      "i am playing game\n"
     ]
    }
   ],
   "source": [
    "p1.Play_game()"
   ]
  },
  {
   "cell_type": "code",
   "execution_count": 185,
   "id": "dd82562b",
   "metadata": {},
   "outputs": [],
   "source": [
    "class Phone:\n",
    "    def set_color(self,color):\n",
    "        self.color=color\n",
    "    def set_cost(self,cost):\n",
    "        self.cost=cost\n",
    "    def show_color(self):\n",
    "        return self.color\n",
    "    def show_cost(self):\n",
    "        return self.cost\n",
    "    def make_call(self):\n",
    "        print(\"make a call\")\n",
    "    def play_game(self):\n",
    "        print(\"playing a game\")"
   ]
  },
  {
   "cell_type": "code",
   "execution_count": 186,
   "id": "0f6a4b08",
   "metadata": {},
   "outputs": [],
   "source": [
    "P2=Phone()"
   ]
  },
  {
   "cell_type": "code",
   "execution_count": 187,
   "id": "ae9c11b6",
   "metadata": {},
   "outputs": [],
   "source": [
    "P2.set_color(\"blue\")"
   ]
  },
  {
   "cell_type": "code",
   "execution_count": 188,
   "id": "809a2877",
   "metadata": {},
   "outputs": [],
   "source": [
    "P2.set_cost('5000')\n",
    "\n"
   ]
  },
  {
   "cell_type": "code",
   "execution_count": 189,
   "id": "5c3da795",
   "metadata": {},
   "outputs": [
    {
     "data": {
      "text/plain": [
       "'blue'"
      ]
     },
     "execution_count": 189,
     "metadata": {},
     "output_type": "execute_result"
    }
   ],
   "source": [
    "P2.show_color()\n",
    "\n"
   ]
  },
  {
   "cell_type": "code",
   "execution_count": 190,
   "id": "6f11d965",
   "metadata": {},
   "outputs": [
    {
     "data": {
      "text/plain": [
       "'5000'"
      ]
     },
     "execution_count": 190,
     "metadata": {},
     "output_type": "execute_result"
    }
   ],
   "source": [
    "P2.show_cost()\n",
    "\n"
   ]
  },
  {
   "cell_type": "code",
   "execution_count": 191,
   "id": "2340bf3a",
   "metadata": {},
   "outputs": [
    {
     "name": "stdout",
     "output_type": "stream",
     "text": [
      "make a call\n"
     ]
    }
   ],
   "source": [
    "P2.make_call()"
   ]
  },
  {
   "cell_type": "code",
   "execution_count": 192,
   "id": "6eade6a2",
   "metadata": {},
   "outputs": [
    {
     "name": "stdout",
     "output_type": "stream",
     "text": [
      "playing a game\n"
     ]
    }
   ],
   "source": [
    "P2.play_game()\n"
   ]
  },
  {
   "cell_type": "code",
   "execution_count": 193,
   "id": "794db2a7",
   "metadata": {},
   "outputs": [],
   "source": [
    "#constructor:\n"
   ]
  },
  {
   "cell_type": "code",
   "execution_count": 194,
   "id": "32bcbbf0",
   "metadata": {},
   "outputs": [],
   "source": [
    "class Employee:\n",
    "    def __init__(self,name,age,salary,gender):\n",
    "        self.name=name\n",
    "        self.age=age\n",
    "        self.salary=salary\n",
    "        self.gender=gender\n",
    "    def show_employee_details(self):\n",
    "        print(\"name of employee is\",self.name)\n",
    "        print(\"age of employee is\",self.age)\n",
    "        print(\"salary of employee is\",self.salary)\n",
    "        print(\"gender of employee is\",self.gender)"
   ]
  },
  {
   "cell_type": "code",
   "execution_count": 195,
   "id": "8a9755c1",
   "metadata": {},
   "outputs": [],
   "source": [
    "e1 = Employee('Smit',24,500000,'Male')"
   ]
  },
  {
   "cell_type": "code",
   "execution_count": 196,
   "id": "08de1afb",
   "metadata": {},
   "outputs": [
    {
     "name": "stdout",
     "output_type": "stream",
     "text": [
      "name of employee is Smit\n",
      "age of employee is 24\n",
      "salary of employee is 500000\n",
      "gender of employee is Male\n"
     ]
    }
   ],
   "source": [
    "e1.show_employee_details()"
   ]
  },
  {
   "cell_type": "code",
   "execution_count": 197,
   "id": "102bcf17",
   "metadata": {},
   "outputs": [],
   "source": [
    "#inheritencec:\n",
    "\n"
   ]
  },
  {
   "cell_type": "code",
   "execution_count": 198,
   "id": "e1b89e5d",
   "metadata": {},
   "outputs": [],
   "source": [
    "class vehicle:\n",
    "    def __init__(self,milleage,cost):\n",
    "        self.milleage = milleage\n",
    "        self.cost = cost\n",
    "    def show_vehicle_details(self):\n",
    "        print(\"millege of  vehicle is \",self.milleage)\n",
    "        print(\"cost of vehicle is\",self.cost)\n",
    "        print(\"i am a  vehicle\")"
   ]
  },
  {
   "cell_type": "code",
   "execution_count": 199,
   "id": "28ee26a3",
   "metadata": {},
   "outputs": [],
   "source": [
    "v1 = vehicle(300,500)"
   ]
  },
  {
   "cell_type": "code",
   "execution_count": 200,
   "id": "f071caa9",
   "metadata": {},
   "outputs": [
    {
     "name": "stdout",
     "output_type": "stream",
     "text": [
      "millege of  vehicle is  300\n",
      "cost of vehicle is 500\n",
      "i am a  vehicle\n"
     ]
    }
   ],
   "source": [
    "v1.show_vehicle_details()"
   ]
  },
  {
   "cell_type": "code",
   "execution_count": 201,
   "id": "8814f42c",
   "metadata": {},
   "outputs": [],
   "source": [
    "class Car(vehicle):\n",
    "    def show_car_details(self):\n",
    "        print(\"i am a car\")"
   ]
  },
  {
   "cell_type": "code",
   "execution_count": 202,
   "id": "8e3958fc",
   "metadata": {},
   "outputs": [],
   "source": [
    "c1 = Car(300,800)"
   ]
  },
  {
   "cell_type": "code",
   "execution_count": 203,
   "id": "0009c1ad",
   "metadata": {},
   "outputs": [
    {
     "name": "stdout",
     "output_type": "stream",
     "text": [
      "millege of  vehicle is  300\n",
      "cost of vehicle is 800\n",
      "i am a  vehicle\n"
     ]
    }
   ],
   "source": [
    "c1.show_vehicle_details()"
   ]
  },
  {
   "cell_type": "code",
   "execution_count": 204,
   "id": "abdf60b0",
   "metadata": {},
   "outputs": [
    {
     "name": "stdout",
     "output_type": "stream",
     "text": [
      "i am a car\n"
     ]
    }
   ],
   "source": [
    "c1.show_car_details()"
   ]
  },
  {
   "cell_type": "code",
   "execution_count": 205,
   "id": "598d0396",
   "metadata": {},
   "outputs": [],
   "source": [
    "#over riding init method:\n",
    "\n"
   ]
  },
  {
   "cell_type": "code",
   "execution_count": 206,
   "id": "87e368f2",
   "metadata": {},
   "outputs": [],
   "source": [
    "\n",
    "class vehicle:\n",
    "    def __init__(self,milleage,cost):\n",
    "        self.milleage = milleage\n",
    "        self.cost = cost\n",
    "    def show_vehicle_details(self):\n",
    "        print(\"millege of  vehicle is \",self.milleage)\n",
    "        print(\"cost of vehicle is\",self.cost)\n",
    "        print(\"i am a  vehicle\")"
   ]
  },
  {
   "cell_type": "code",
   "execution_count": 207,
   "id": "e904d1c4",
   "metadata": {},
   "outputs": [],
   "source": [
    "v1 = vehicle(300,500)"
   ]
  },
  {
   "cell_type": "code",
   "execution_count": 208,
   "id": "5cdbae34",
   "metadata": {},
   "outputs": [
    {
     "ename": "TypeError",
     "evalue": "__init__() takes 3 positional arguments but 5 were given",
     "output_type": "error",
     "traceback": [
      "\u001b[1;31m---------------------------------------------------------------------------\u001b[0m",
      "\u001b[1;31mTypeError\u001b[0m                                 Traceback (most recent call last)",
      "Input \u001b[1;32mIn [208]\u001b[0m, in \u001b[0;36m<cell line: 1>\u001b[1;34m()\u001b[0m\n\u001b[1;32m----> 1\u001b[0m c1 \u001b[38;5;241m=\u001b[39m \u001b[43mCar\u001b[49m\u001b[43m(\u001b[49m\u001b[38;5;241;43m600\u001b[39;49m\u001b[43m,\u001b[49m\u001b[38;5;241;43m100000\u001b[39;49m\u001b[43m,\u001b[49m\u001b[38;5;241;43m8\u001b[39;49m\u001b[43m,\u001b[49m\u001b[38;5;241;43m999\u001b[39;49m\u001b[43m)\u001b[49m\n",
      "\u001b[1;31mTypeError\u001b[0m: __init__() takes 3 positional arguments but 5 were given"
     ]
    }
   ],
   "source": [
    "c1 = Car(600,100000,8,999)"
   ]
  },
  {
   "cell_type": "code",
   "execution_count": 209,
   "id": "01b47d01",
   "metadata": {},
   "outputs": [
    {
     "name": "stdout",
     "output_type": "stream",
     "text": [
      "millege of  vehicle is  300\n",
      "cost of vehicle is 800\n",
      "i am a  vehicle\n"
     ]
    }
   ],
   "source": [
    "c1.show_vehicle_details()"
   ]
  },
  {
   "cell_type": "code",
   "execution_count": 210,
   "id": "238eba0f",
   "metadata": {},
   "outputs": [],
   "source": [
    "#muotiple inheritence:\n"
   ]
  },
  {
   "cell_type": "code",
   "execution_count": null,
   "id": "e883ef81",
   "metadata": {},
   "outputs": [],
   "source": []
  },
  {
   "cell_type": "code",
   "execution_count": null,
   "id": "acf8a494",
   "metadata": {},
   "outputs": [],
   "source": []
  },
  {
   "cell_type": "code",
   "execution_count": 211,
   "id": "cf23d788",
   "metadata": {},
   "outputs": [],
   "source": [
    "class perent1:\n",
    "    def assign_string_one(self,str1):\n",
    "        self.str1=str1\n",
    "    def show_string_one(self):\n",
    "        return self.str1\n",
    "    "
   ]
  },
  {
   "cell_type": "code",
   "execution_count": 212,
   "id": "2a607d8d",
   "metadata": {},
   "outputs": [],
   "source": [
    "class perent2:\n",
    "    def assign_string_two(self,str2):\n",
    "        self.str2=str2\n",
    "    def show_string_two(self):\n",
    "        return self.str2"
   ]
  },
  {
   "cell_type": "code",
   "execution_count": 213,
   "id": "0c4c9f47",
   "metadata": {},
   "outputs": [],
   "source": [
    "class Child(perent1,perent2):\n",
    "    def assign_string_three(self,str3):\n",
    "        self.str3=str3\n",
    "    def show_string_three(self):\n",
    "        return self.str3\n",
    "    \n",
    "    "
   ]
  },
  {
   "cell_type": "code",
   "execution_count": 214,
   "id": "2957ba7c",
   "metadata": {},
   "outputs": [],
   "source": [
    "my_child = Child()\n",
    "\n"
   ]
  },
  {
   "cell_type": "code",
   "execution_count": 215,
   "id": "cb2b53de",
   "metadata": {},
   "outputs": [],
   "source": [
    "my_child.assign_string_one(\"i am string of perent 1\")\n"
   ]
  },
  {
   "cell_type": "code",
   "execution_count": 216,
   "id": "dfbe5213",
   "metadata": {},
   "outputs": [],
   "source": [
    "my_child.assign_string_two(\"i am string of perent 2\")\n"
   ]
  },
  {
   "cell_type": "code",
   "execution_count": 217,
   "id": "8d719aff",
   "metadata": {},
   "outputs": [],
   "source": [
    "my_child.assign_string_three(\"i am string of child\")\n"
   ]
  },
  {
   "cell_type": "code",
   "execution_count": 218,
   "id": "1463ce0b",
   "metadata": {},
   "outputs": [
    {
     "data": {
      "text/plain": [
       "'i am string of perent 1'"
      ]
     },
     "execution_count": 218,
     "metadata": {},
     "output_type": "execute_result"
    }
   ],
   "source": [
    "my_child.show_string_one()"
   ]
  },
  {
   "cell_type": "code",
   "execution_count": 219,
   "id": "71334f8c",
   "metadata": {},
   "outputs": [
    {
     "data": {
      "text/plain": [
       "'i am string of perent 2'"
      ]
     },
     "execution_count": 219,
     "metadata": {},
     "output_type": "execute_result"
    }
   ],
   "source": [
    "my_child.show_string_two()"
   ]
  },
  {
   "cell_type": "code",
   "execution_count": 220,
   "id": "4f2b9bd3",
   "metadata": {},
   "outputs": [
    {
     "data": {
      "text/plain": [
       "'i am string of child'"
      ]
     },
     "execution_count": 220,
     "metadata": {},
     "output_type": "execute_result"
    }
   ],
   "source": [
    "my_child.show_string_three()"
   ]
  },
  {
   "cell_type": "code",
   "execution_count": 221,
   "id": "3fc0aa00",
   "metadata": {},
   "outputs": [],
   "source": [
    "#multi -leval inheritence:\n",
    "#perent class-child class- garan chaild class"
   ]
  },
  {
   "cell_type": "code",
   "execution_count": 222,
   "id": "f1c3ce11",
   "metadata": {},
   "outputs": [],
   "source": [
    "class perent:\n",
    "    def get_name(self,name):\n",
    "        self.name = name\n",
    "    def show_name(self):\n",
    "        return self.name"
   ]
  },
  {
   "cell_type": "code",
   "execution_count": 223,
   "id": "b089d906",
   "metadata": {},
   "outputs": [],
   "source": [
    "class child(perent):\n",
    "    def get_age(self,age):\n",
    "        self.age = age\n",
    "    def show_age(self):\n",
    "        return self.age"
   ]
  },
  {
   "cell_type": "code",
   "execution_count": 224,
   "id": "9b0e32ba",
   "metadata": {},
   "outputs": [],
   "source": [
    "class Grandchild(child):\n",
    "    def get_gender(self,gender):\n",
    "        self.gender = gender\n",
    "    def show_gender(self):\n",
    "        return self.gender"
   ]
  },
  {
   "cell_type": "code",
   "execution_count": 225,
   "id": "069bf50c",
   "metadata": {},
   "outputs": [],
   "source": [
    "gc = Grandchild()"
   ]
  },
  {
   "cell_type": "code",
   "execution_count": 226,
   "id": "9a2dc49d",
   "metadata": {},
   "outputs": [],
   "source": [
    "gc.get_name(\"smit\")"
   ]
  },
  {
   "cell_type": "code",
   "execution_count": 227,
   "id": "27166686",
   "metadata": {},
   "outputs": [],
   "source": [
    "gc.get_age(21)"
   ]
  },
  {
   "cell_type": "code",
   "execution_count": 228,
   "id": "90ba8050",
   "metadata": {},
   "outputs": [],
   "source": [
    "gc.get_gender(\"male\")"
   ]
  },
  {
   "cell_type": "code",
   "execution_count": 229,
   "id": "e352376b",
   "metadata": {},
   "outputs": [
    {
     "data": {
      "text/plain": [
       "21"
      ]
     },
     "execution_count": 229,
     "metadata": {},
     "output_type": "execute_result"
    }
   ],
   "source": [
    "gc.show_age()"
   ]
  },
  {
   "cell_type": "code",
   "execution_count": 230,
   "id": "a9e66fcb",
   "metadata": {},
   "outputs": [
    {
     "data": {
      "text/plain": [
       "'male'"
      ]
     },
     "execution_count": 230,
     "metadata": {},
     "output_type": "execute_result"
    }
   ],
   "source": [
    "gc.show_gender()"
   ]
  },
  {
   "cell_type": "code",
   "execution_count": 231,
   "id": "de30b1d6",
   "metadata": {},
   "outputs": [
    {
     "data": {
      "text/plain": [
       "'smit'"
      ]
     },
     "execution_count": 231,
     "metadata": {},
     "output_type": "execute_result"
    }
   ],
   "source": [
    "gc.show_name()"
   ]
  },
  {
   "cell_type": "code",
   "execution_count": null,
   "id": "d570d7c6",
   "metadata": {},
   "outputs": [],
   "source": []
  },
  {
   "cell_type": "code",
   "execution_count": null,
   "id": "2629c438",
   "metadata": {},
   "outputs": [],
   "source": []
  },
  {
   "cell_type": "code",
   "execution_count": 2,
   "id": "c79e2d4a",
   "metadata": {},
   "outputs": [],
   "source": [
    "\n",
    "\n",
    "order = {\n",
    "\"main\": {1: [\"Burger\"], 2: ['\"Steak\"']},\n",
    "\"dessert\": {1: [\"Ice Cream\"], 2: []},\n",
    "}"
   ]
  },
  {
   "cell_type": "code",
   "execution_count": 4,
   "id": "bd091b86",
   "metadata": {},
   "outputs": [
    {
     "name": "stdout",
     "output_type": "stream",
     "text": [
      "['\"Steak\"']\n"
     ]
    }
   ],
   "source": [
    "print(order[\"main\"][2])"
   ]
  },
  {
   "cell_type": "code",
   "execution_count": 6,
   "id": "7afa5ce3",
   "metadata": {},
   "outputs": [
    {
     "name": "stdout",
     "output_type": "stream",
     "text": [
      "\"Steak\"\n"
     ]
    }
   ],
   "source": [
    "print(order[\"main\"][2][0])"
   ]
  },
  {
   "cell_type": "code",
   "execution_count": 8,
   "id": "e20da3e8",
   "metadata": {},
   "outputs": [
    {
     "name": "stdout",
     "output_type": "stream",
     "text": [
      "25\n"
     ]
    }
   ],
   "source": [
    "def my_func(x):\n",
    "    return x**2\n",
    "\n",
    "print(my_func(3) + my_func(4))"
   ]
  },
  {
   "cell_type": "code",
   "execution_count": 9,
   "id": "3be883b9",
   "metadata": {},
   "outputs": [
    {
     "name": "stdout",
     "output_type": "stream",
     "text": [
      "2\n"
     ]
    }
   ],
   "source": [
    "a = 5\n",
    "b = 3\n",
    "print(a % b)"
   ]
  },
  {
   "cell_type": "code",
   "execution_count": 12,
   "id": "08402016",
   "metadata": {},
   "outputs": [
    {
     "name": "stdout",
     "output_type": "stream",
     "text": [
      "[1]\n",
      "[1, 2]\n",
      "[1, 2, 3]\n"
     ]
    }
   ],
   "source": [
    "def foo(a, b=[]):\n",
    "    b.append(a)\n",
    "    return b\n",
    "\n",
    "print(foo(1))\n",
    "print(foo(2))\n",
    "print(foo(3))"
   ]
  },
  {
   "cell_type": "code",
   "execution_count": 13,
   "id": "d1097f17",
   "metadata": {},
   "outputs": [
    {
     "name": "stdout",
     "output_type": "stream",
     "text": [
      "yptphpopn\n"
     ]
    }
   ],
   "source": [
    "s = 'ython'\n",
    "x = \"p\".join(s)\n",
    "print(x)"
   ]
  },
  {
   "cell_type": "code",
   "execution_count": 2,
   "id": "69d44fe2",
   "metadata": {},
   "outputs": [],
   "source": [
    "s=\"mit\""
   ]
  },
  {
   "cell_type": "code",
   "execution_count": 6,
   "id": "85b88b01",
   "metadata": {},
   "outputs": [
    {
     "ename": "TypeError",
     "evalue": "str.upper() takes no arguments (1 given)",
     "output_type": "error",
     "traceback": [
      "\u001b[1;31m---------------------------------------------------------------------------\u001b[0m",
      "\u001b[1;31mTypeError\u001b[0m                                 Traceback (most recent call last)",
      "Input \u001b[1;32mIn [6]\u001b[0m, in \u001b[0;36m<cell line: 1>\u001b[1;34m()\u001b[0m\n\u001b[1;32m----> 1\u001b[0m \u001b[43ms\u001b[49m\u001b[38;5;241;43m.\u001b[39;49m\u001b[43mupper\u001b[49m\u001b[43m(\u001b[49m\u001b[38;5;124;43m\"\u001b[39;49m\u001b[38;5;124;43ma\u001b[39;49m\u001b[38;5;124;43m\"\u001b[39;49m\u001b[43m)\u001b[49m\n",
      "\u001b[1;31mTypeError\u001b[0m: str.upper() takes no arguments (1 given)"
     ]
    }
   ],
   "source": []
  },
  {
   "cell_type": "code",
   "execution_count": 1,
   "id": "067e3bb0",
   "metadata": {},
   "outputs": [
    {
     "name": "stdout",
     "output_type": "stream",
     "text": [
      "+cake+\n"
     ]
    }
   ],
   "source": [
    "st = \"cake\"\n",
    "st = st.center(6, \"+\")\n",
    "print(st)"
   ]
  },
  {
   "cell_type": "code",
   "execution_count": 2,
   "id": "1ffa221b",
   "metadata": {},
   "outputs": [
    {
     "name": "stdout",
     "output_type": "stream",
     "text": [
      "[2, 3]\n"
     ]
    }
   ],
   "source": [
    "a = [1, 2, 3, 4, 5]\n",
    "print(a[1:3])"
   ]
  },
  {
   "cell_type": "code",
   "execution_count": 13,
   "id": "5f8f6c63",
   "metadata": {},
   "outputs": [
    {
     "name": "stdout",
     "output_type": "stream",
     "text": [
      "a 1\n",
      "a 2\n",
      "a 31\n",
      "b 1\n",
      "b 2\n",
      "b 31\n",
      "c 1\n",
      "c 2\n",
      "c 31\n"
     ]
    }
   ],
   "source": [
    "def print_alpha_nums (abc_list, num_list):\n",
    "    for char in abc_list:\n",
    "        for num in num_list:\n",
    "            print(char, num)\n",
    "    return\n",
    "print_alpha_nums(['a','b','c'],[1,2,31])"
   ]
  },
  {
   "cell_type": "code",
   "execution_count": 16,
   "id": "0bc5a16b",
   "metadata": {},
   "outputs": [
    {
     "ename": "SyntaxError",
     "evalue": "invalid non-printable character U+00A0 (2991568909.py, line 3)",
     "output_type": "error",
     "traceback": [
      "\u001b[1;36m  Input \u001b[1;32mIn [16]\u001b[1;36m\u001b[0m\n\u001b[1;33m    num_list[len(num list) // 21\u001b[0m\n\u001b[1;37m                    ^\u001b[0m\n\u001b[1;31mSyntaxError\u001b[0m\u001b[1;31m:\u001b[0m invalid non-printable character U+00A0\n"
     ]
    }
   ],
   "source": [
    "num_list = [21,13, 19,3, 11,5, 18]\n",
    "num_list.sort()\n",
    "num_list[len(num list) // 21"
   ]
  },
  {
   "cell_type": "code",
   "execution_count": 17,
   "id": "3afa3f98",
   "metadata": {},
   "outputs": [
    {
     "data": {
      "text/plain": [
       "True"
      ]
     },
     "execution_count": 17,
     "metadata": {},
     "output_type": "execute_result"
    }
   ],
   "source": [
    "5!=6"
   ]
  },
  {
   "cell_type": "code",
   "execution_count": 18,
   "id": "d26f215a",
   "metadata": {},
   "outputs": [
    {
     "ename": "ModuleNotFoundError",
     "evalue": "No module named 'math.sin'; 'math' is not a package",
     "output_type": "error",
     "traceback": [
      "\u001b[1;31m---------------------------------------------------------------------------\u001b[0m",
      "\u001b[1;31mModuleNotFoundError\u001b[0m                       Traceback (most recent call last)",
      "Input \u001b[1;32mIn [18]\u001b[0m, in \u001b[0;36m<cell line: 1>\u001b[1;34m()\u001b[0m\n\u001b[1;32m----> 1\u001b[0m \u001b[38;5;28;01mimport\u001b[39;00m \u001b[38;5;21;01mmath\u001b[39;00m\u001b[38;5;21;01m.\u001b[39;00m\u001b[38;5;21;01msin\u001b[39;00m\n",
      "\u001b[1;31mModuleNotFoundError\u001b[0m: No module named 'math.sin'; 'math' is not a package"
     ]
    }
   ],
   "source": [
    "import math.sin"
   ]
  },
  {
   "cell_type": "code",
   "execution_count": 19,
   "id": "7db827f9",
   "metadata": {},
   "outputs": [],
   "source": [
    "from math import sin"
   ]
  },
  {
   "cell_type": "code",
   "execution_count": 20,
   "id": "86734b42",
   "metadata": {},
   "outputs": [
    {
     "ename": "NameError",
     "evalue": "name '__init__' is not defined",
     "output_type": "error",
     "traceback": [
      "\u001b[1;31m---------------------------------------------------------------------------\u001b[0m",
      "\u001b[1;31mNameError\u001b[0m                                 Traceback (most recent call last)",
      "Input \u001b[1;32mIn [20]\u001b[0m, in \u001b[0;36m<cell line: 1>\u001b[1;34m()\u001b[0m\n\u001b[1;32m----> 1\u001b[0m \u001b[38;5;21;43m__init__\u001b[39;49m()\n",
      "\u001b[1;31mNameError\u001b[0m: name '__init__' is not defined"
     ]
    }
   ],
   "source": [
    "__init()"
   ]
  },
  {
   "cell_type": "code",
   "execution_count": 22,
   "id": "5a7077b7",
   "metadata": {},
   "outputs": [
    {
     "ename": "NameError",
     "evalue": "name 'y' is not defined",
     "output_type": "error",
     "traceback": [
      "\u001b[1;31m---------------------------------------------------------------------------\u001b[0m",
      "\u001b[1;31mNameError\u001b[0m                                 Traceback (most recent call last)",
      "Input \u001b[1;32mIn [22]\u001b[0m, in \u001b[0;36m<cell line: 1>\u001b[1;34m()\u001b[0m\n\u001b[1;32m----> 1\u001b[0m z\u001b[38;5;241m=\u001b[39m\u001b[43my\u001b[49m\u001b[38;5;241m.\u001b[39msplit(\u001b[38;5;124m'\u001b[39m\u001b[38;5;124m;\u001b[39m\u001b[38;5;124m'\u001b[39m)\n\u001b[0;32m      2\u001b[0m \u001b[38;5;28mlen\u001b[39m(z)\n",
      "\u001b[1;31mNameError\u001b[0m: name 'y' is not defined"
     ]
    }
   ],
   "source": [
    "#  z=y.split(';')\n",
    "# len(z)"
   ]
  },
  {
   "cell_type": "code",
   "execution_count": 3,
   "id": "14fc100c",
   "metadata": {},
   "outputs": [
    {
     "name": "stdout",
     "output_type": "stream",
     "text": [
      "10\n"
     ]
    }
   ],
   "source": [
    "def func(x):\n",
    "    return 0 if x == 0 else x + func(x - 1)\n",
    "\n",
    "print(func(4))"
   ]
  },
  {
   "cell_type": "code",
   "execution_count": 1,
   "id": "6039462c",
   "metadata": {},
   "outputs": [
    {
     "name": "stdout",
     "output_type": "stream",
     "text": [
      "3\n"
     ]
    }
   ],
   "source": [
    "li = [10, 20, 10, '10', 20]\n",
    "st = set(li)\n",
    "print(len(st))"
   ]
  },
  {
   "cell_type": "code",
   "execution_count": 2,
   "id": "71c80fbb",
   "metadata": {},
   "outputs": [
    {
     "name": "stdout",
     "output_type": "stream",
     "text": [
      "[2, 3]\n"
     ]
    }
   ],
   "source": [
    "mylist = [1, 2, 3]\n",
    "print(mylist[1:])"
   ]
  },
  {
   "cell_type": "code",
   "execution_count": 1,
   "id": "b527b6bb",
   "metadata": {},
   "outputs": [
    {
     "name": "stdout",
     "output_type": "stream",
     "text": [
      "False\n"
     ]
    }
   ],
   "source": [
    "l1 = [10]\n",
    "l2 = [10]\n",
    "print(l1 is l2)"
   ]
  },
  {
   "cell_type": "code",
   "execution_count": 2,
   "id": "a0f25063",
   "metadata": {},
   "outputs": [
    {
     "name": "stdout",
     "output_type": "stream",
     "text": [
      "False\n"
     ]
    }
   ],
   "source": [
    "s1 = \"abc\"\n",
    "s2 = \"abcdef\"\n",
    "print(s1.__contains__(s2))"
   ]
  },
  {
   "cell_type": "code",
   "execution_count": 3,
   "id": "936ccd8a",
   "metadata": {},
   "outputs": [],
   "source": [
    "L1 = []\n",
    "L1.append([1, [2, 3], 4])"
   ]
  },
  {
   "cell_type": "code",
   "execution_count": 5,
   "id": "53e7aff0",
   "metadata": {},
   "outputs": [
    {
     "data": {
      "text/plain": [
       "[[1, [2, 3], 4]]"
      ]
     },
     "execution_count": 5,
     "metadata": {},
     "output_type": "execute_result"
    }
   ],
   "source": [
    "L1"
   ]
  },
  {
   "cell_type": "code",
   "execution_count": 6,
   "id": "5f68832c",
   "metadata": {},
   "outputs": [
    {
     "name": "stdout",
     "output_type": "stream",
     "text": [
      "15\n"
     ]
    }
   ],
   "source": [
    "my_state = \"illinois\"\n",
    "total = my_state.count(\"l\") + my_state.find(\"i\") + len(my_state) + my_state.index(\"o\")\n",
    "print(total)\n"
   ]
  },
  {
   "cell_type": "code",
   "execution_count": 2,
   "id": "17f60167",
   "metadata": {},
   "outputs": [
    {
     "name": "stdout",
     "output_type": "stream",
     "text": [
      "True\n"
     ]
    }
   ],
   "source": [
    "def mystery(n):\n",
    "    return n and (n % (mystery(n - 1) + 1) == 0)\n",
    "print(mystery(6))"
   ]
  },
  {
   "cell_type": "code",
   "execution_count": 20,
   "id": "90f465b4",
   "metadata": {},
   "outputs": [
    {
     "name": "stdout",
     "output_type": "stream",
     "text": [
      "200\n",
      "200\n",
      "200\n",
      "200\n",
      "200\n",
      "200\n",
      "200\n",
      "200\n",
      "200\n",
      "200\n",
      "200\n",
      "200\n",
      "200\n",
      "200\n",
      "200\n",
      "200\n",
      "200\n",
      "200\n",
      "200\n",
      "200\n",
      "200\n",
      "200\n",
      "200\n",
      "200\n",
      "200\n",
      "200\n",
      "200\n",
      "200\n",
      "200\n",
      "200\n",
      "200\n",
      "200\n",
      "200\n",
      "200\n",
      "200\n",
      "200\n",
      "200\n",
      "200\n",
      "200\n",
      "200\n",
      "200\n",
      "200\n",
      "200\n",
      "200\n",
      "200\n",
      "200\n",
      "200\n",
      "200\n",
      "200\n",
      "200\n",
      "200\n",
      "200\n",
      "200\n",
      "200\n",
      "200\n",
      "200\n",
      "200\n",
      "200\n",
      "200\n",
      "200\n",
      "200\n",
      "200\n",
      "200\n",
      "200\n",
      "200\n",
      "200\n",
      "200\n",
      "200\n",
      "200\n",
      "200\n",
      "200\n",
      "200\n",
      "200\n",
      "200\n",
      "200\n",
      "200\n",
      "200\n",
      "200\n",
      "200\n",
      "200\n",
      "200\n",
      "200\n",
      "200\n",
      "200\n",
      "200\n",
      "200\n",
      "200\n",
      "200\n",
      "200\n",
      "200\n",
      "200\n",
      "200\n",
      "200\n",
      "200\n",
      "200\n",
      "200\n",
      "200\n",
      "200\n",
      "200\n",
      "200\n",
      "200\n",
      "200\n",
      "200\n",
      "200\n",
      "200\n",
      "200\n",
      "200\n",
      "200\n",
      "200\n",
      "200\n",
      "200\n",
      "200\n",
      "200\n",
      "200\n",
      "200\n",
      "200\n",
      "200\n",
      "200\n",
      "200\n",
      "200\n",
      "200\n",
      "200\n",
      "200\n",
      "200\n",
      "200\n",
      "200\n",
      "200\n",
      "200\n",
      "200\n",
      "200\n",
      "200\n",
      "200\n",
      "200\n",
      "200\n",
      "200\n",
      "200\n",
      "200\n",
      "200\n",
      "200\n",
      "200\n",
      "200\n",
      "200\n",
      "200\n",
      "200\n",
      "200\n",
      "200\n",
      "200\n",
      "200\n",
      "200\n",
      "200\n",
      "200\n",
      "200\n",
      "200\n",
      "200\n",
      "200\n",
      "200\n",
      "200\n",
      "200\n",
      "200\n",
      "200\n",
      "200\n",
      "200\n",
      "200\n",
      "200\n",
      "200\n",
      "200\n",
      "200\n",
      "200\n",
      "200\n",
      "200\n",
      "200\n",
      "200\n",
      "200\n",
      "200\n",
      "200\n",
      "200\n",
      "200\n",
      "200\n",
      "200\n",
      "200\n",
      "200\n",
      "200\n",
      "200\n",
      "200\n",
      "200\n",
      "200\n",
      "200\n",
      "200\n",
      "200\n",
      "200\n",
      "200\n",
      "200\n",
      "200\n",
      "200\n",
      "200\n",
      "200\n",
      "200\n",
      "200\n",
      "200\n"
     ]
    }
   ],
   "source": [
    "n=100\n",
    "for i in range(i):\n",
    "    print(n*2)"
   ]
  },
  {
   "cell_type": "code",
   "execution_count": 6,
   "id": "26baa13d",
   "metadata": {},
   "outputs": [],
   "source": []
  },
  {
   "cell_type": "code",
   "execution_count": 11,
   "id": "9361be04",
   "metadata": {},
   "outputs": [
    {
     "ename": "NameError",
     "evalue": "name 'a1' is not defined",
     "output_type": "error",
     "traceback": [
      "\u001b[1;31m---------------------------------------------------------------------------\u001b[0m",
      "\u001b[1;31mNameError\u001b[0m                                 Traceback (most recent call last)",
      "Input \u001b[1;32mIn [11]\u001b[0m, in \u001b[0;36m<cell line: 1>\u001b[1;34m()\u001b[0m\n\u001b[1;32m----> 1\u001b[0m \u001b[38;5;28mprint\u001b[39m(\u001b[43ma1\u001b[49m)\n",
      "\u001b[1;31mNameError\u001b[0m: name 'a1' is not defined"
     ]
    }
   ],
   "source": []
  },
  {
   "cell_type": "code",
   "execution_count": 49,
   "id": "e280570c",
   "metadata": {},
   "outputs": [
    {
     "name": "stdout",
     "output_type": "stream",
     "text": [
      "\n",
      "*\n",
      "**\n",
      "***\n",
      "****\n",
      "*****\n",
      "\n",
      "*\n",
      "**\n",
      "***\n",
      "****\n",
      "*****\n"
     ]
    }
   ],
   "source": [
    "n=6\n",
    "\n",
    "for i in range(n):\n",
    "    for j in range(1,i+1):\n",
    "        print(\"*\",end=\"\")\n",
    "    print()\n",
    "    \n",
    "for i in range(n):\n",
    "    for j in range (1,i+1):\n",
    "        print('*',end='')\n",
    "    print()"
   ]
  },
  {
   "cell_type": "code",
   "execution_count": 50,
   "id": "34d67729",
   "metadata": {},
   "outputs": [
    {
     "name": "stdout",
     "output_type": "stream",
     "text": [
      "* * * * * \n",
      "* * * * \n",
      "* * * \n",
      "* * \n",
      "* \n"
     ]
    }
   ],
   "source": [
    "for i in range(5,0,-1):\n",
    "    for j in range(1,i+1):\n",
    "        print('*',end=' ')\n",
    "    print()\n",
    "        \n",
    "    "
   ]
  },
  {
   "cell_type": "code",
   "execution_count": null,
   "id": "c40df588",
   "metadata": {},
   "outputs": [],
   "source": []
  }
 ],
 "metadata": {
  "kernelspec": {
   "display_name": "Python 3 (ipykernel)",
   "language": "python",
   "name": "python3"
  },
  "language_info": {
   "codemirror_mode": {
    "name": "ipython",
    "version": 3
   },
   "file_extension": ".py",
   "mimetype": "text/x-python",
   "name": "python",
   "nbconvert_exporter": "python",
   "pygments_lexer": "ipython3",
   "version": "3.9.12"
  }
 },
 "nbformat": 4,
 "nbformat_minor": 5
}
